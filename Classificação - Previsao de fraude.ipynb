{
 "cells": [
  {
   "cell_type": "markdown",
   "id": "48f2c3a4",
   "metadata": {},
   "source": [
    "# Criando um modelo de identificação de fraudes\n"
   ]
  },
  {
   "cell_type": "markdown",
   "id": "c7150155",
   "metadata": {},
   "source": [
    "- https://www.kaggle.com/datasets/mlg-ulb/creditcardfraud\n",
    "\n",
    "- Informações da base:\n",
    "    - 'Time' (tempo): contém os segundos decorridos entre cada transação e a primeira transação no conjunto de dados. \n",
    "    - 'Amount' (valor): é o valor da transação \n",
    "    - 'Class' (classe): é a variável de resposta e assume valor 1 em caso de fraude e 0 caso contrário."
   ]
  },
  {
   "cell_type": "code",
   "execution_count": 1,
   "id": "5506f1a4",
   "metadata": {},
   "outputs": [],
   "source": [
    "import pandas as pd"
   ]
  },
  {
   "cell_type": "code",
   "execution_count": 2,
   "id": "3b8796d9",
   "metadata": {},
   "outputs": [
    {
     "data": {
      "text/html": [
       "<div>\n",
       "<style scoped>\n",
       "    .dataframe tbody tr th:only-of-type {\n",
       "        vertical-align: middle;\n",
       "    }\n",
       "\n",
       "    .dataframe tbody tr th {\n",
       "        vertical-align: top;\n",
       "    }\n",
       "\n",
       "    .dataframe thead th {\n",
       "        text-align: right;\n",
       "    }\n",
       "</style>\n",
       "<table border=\"1\" class=\"dataframe\">\n",
       "  <thead>\n",
       "    <tr style=\"text-align: right;\">\n",
       "      <th></th>\n",
       "      <th>Time</th>\n",
       "      <th>V1</th>\n",
       "      <th>V2</th>\n",
       "      <th>V3</th>\n",
       "      <th>V4</th>\n",
       "      <th>V5</th>\n",
       "      <th>V6</th>\n",
       "      <th>V7</th>\n",
       "      <th>V8</th>\n",
       "      <th>V9</th>\n",
       "      <th>...</th>\n",
       "      <th>V21</th>\n",
       "      <th>V22</th>\n",
       "      <th>V23</th>\n",
       "      <th>V24</th>\n",
       "      <th>V25</th>\n",
       "      <th>V26</th>\n",
       "      <th>V27</th>\n",
       "      <th>V28</th>\n",
       "      <th>Amount</th>\n",
       "      <th>Class</th>\n",
       "    </tr>\n",
       "  </thead>\n",
       "  <tbody>\n",
       "    <tr>\n",
       "      <th>0</th>\n",
       "      <td>0.0</td>\n",
       "      <td>-1.359807</td>\n",
       "      <td>-0.072781</td>\n",
       "      <td>2.536347</td>\n",
       "      <td>1.378155</td>\n",
       "      <td>-0.338321</td>\n",
       "      <td>0.462388</td>\n",
       "      <td>0.239599</td>\n",
       "      <td>0.098698</td>\n",
       "      <td>0.363787</td>\n",
       "      <td>...</td>\n",
       "      <td>-0.018307</td>\n",
       "      <td>0.277838</td>\n",
       "      <td>-0.110474</td>\n",
       "      <td>0.066928</td>\n",
       "      <td>0.128539</td>\n",
       "      <td>-0.189115</td>\n",
       "      <td>0.133558</td>\n",
       "      <td>-0.021053</td>\n",
       "      <td>149.62</td>\n",
       "      <td>0</td>\n",
       "    </tr>\n",
       "    <tr>\n",
       "      <th>1</th>\n",
       "      <td>0.0</td>\n",
       "      <td>1.191857</td>\n",
       "      <td>0.266151</td>\n",
       "      <td>0.166480</td>\n",
       "      <td>0.448154</td>\n",
       "      <td>0.060018</td>\n",
       "      <td>-0.082361</td>\n",
       "      <td>-0.078803</td>\n",
       "      <td>0.085102</td>\n",
       "      <td>-0.255425</td>\n",
       "      <td>...</td>\n",
       "      <td>-0.225775</td>\n",
       "      <td>-0.638672</td>\n",
       "      <td>0.101288</td>\n",
       "      <td>-0.339846</td>\n",
       "      <td>0.167170</td>\n",
       "      <td>0.125895</td>\n",
       "      <td>-0.008983</td>\n",
       "      <td>0.014724</td>\n",
       "      <td>2.69</td>\n",
       "      <td>0</td>\n",
       "    </tr>\n",
       "    <tr>\n",
       "      <th>2</th>\n",
       "      <td>1.0</td>\n",
       "      <td>-1.358354</td>\n",
       "      <td>-1.340163</td>\n",
       "      <td>1.773209</td>\n",
       "      <td>0.379780</td>\n",
       "      <td>-0.503198</td>\n",
       "      <td>1.800499</td>\n",
       "      <td>0.791461</td>\n",
       "      <td>0.247676</td>\n",
       "      <td>-1.514654</td>\n",
       "      <td>...</td>\n",
       "      <td>0.247998</td>\n",
       "      <td>0.771679</td>\n",
       "      <td>0.909412</td>\n",
       "      <td>-0.689281</td>\n",
       "      <td>-0.327642</td>\n",
       "      <td>-0.139097</td>\n",
       "      <td>-0.055353</td>\n",
       "      <td>-0.059752</td>\n",
       "      <td>378.66</td>\n",
       "      <td>0</td>\n",
       "    </tr>\n",
       "  </tbody>\n",
       "</table>\n",
       "<p>3 rows × 31 columns</p>\n",
       "</div>"
      ],
      "text/plain": [
       "   Time        V1        V2        V3        V4        V5        V6        V7  \\\n",
       "0   0.0 -1.359807 -0.072781  2.536347  1.378155 -0.338321  0.462388  0.239599   \n",
       "1   0.0  1.191857  0.266151  0.166480  0.448154  0.060018 -0.082361 -0.078803   \n",
       "2   1.0 -1.358354 -1.340163  1.773209  0.379780 -0.503198  1.800499  0.791461   \n",
       "\n",
       "         V8        V9  ...       V21       V22       V23       V24       V25  \\\n",
       "0  0.098698  0.363787  ... -0.018307  0.277838 -0.110474  0.066928  0.128539   \n",
       "1  0.085102 -0.255425  ... -0.225775 -0.638672  0.101288 -0.339846  0.167170   \n",
       "2  0.247676 -1.514654  ...  0.247998  0.771679  0.909412 -0.689281 -0.327642   \n",
       "\n",
       "        V26       V27       V28  Amount  Class  \n",
       "0 -0.189115  0.133558 -0.021053  149.62      0  \n",
       "1  0.125895 -0.008983  0.014724    2.69      0  \n",
       "2 -0.139097 -0.055353 -0.059752  378.66      0  \n",
       "\n",
       "[3 rows x 31 columns]"
      ]
     },
     "execution_count": 2,
     "metadata": {},
     "output_type": "execute_result"
    }
   ],
   "source": [
    "base = pd.read_csv('creditcard.csv')\n",
    "base.head(3)"
   ]
  },
  {
   "cell_type": "markdown",
   "id": "744fc772",
   "metadata": {},
   "source": [
    "### Verificando as informações"
   ]
  },
  {
   "cell_type": "code",
   "execution_count": 3,
   "id": "a64cbab7",
   "metadata": {},
   "outputs": [
    {
     "name": "stdout",
     "output_type": "stream",
     "text": [
      "<class 'pandas.core.frame.DataFrame'>\n",
      "RangeIndex: 284807 entries, 0 to 284806\n",
      "Data columns (total 31 columns):\n",
      " #   Column  Non-Null Count   Dtype  \n",
      "---  ------  --------------   -----  \n",
      " 0   Time    284807 non-null  float64\n",
      " 1   V1      284807 non-null  float64\n",
      " 2   V2      284807 non-null  float64\n",
      " 3   V3      284807 non-null  float64\n",
      " 4   V4      284807 non-null  float64\n",
      " 5   V5      284807 non-null  float64\n",
      " 6   V6      284807 non-null  float64\n",
      " 7   V7      284807 non-null  float64\n",
      " 8   V8      284807 non-null  float64\n",
      " 9   V9      284807 non-null  float64\n",
      " 10  V10     284807 non-null  float64\n",
      " 11  V11     284807 non-null  float64\n",
      " 12  V12     284807 non-null  float64\n",
      " 13  V13     284807 non-null  float64\n",
      " 14  V14     284807 non-null  float64\n",
      " 15  V15     284807 non-null  float64\n",
      " 16  V16     284807 non-null  float64\n",
      " 17  V17     284807 non-null  float64\n",
      " 18  V18     284807 non-null  float64\n",
      " 19  V19     284807 non-null  float64\n",
      " 20  V20     284807 non-null  float64\n",
      " 21  V21     284807 non-null  float64\n",
      " 22  V22     284807 non-null  float64\n",
      " 23  V23     284807 non-null  float64\n",
      " 24  V24     284807 non-null  float64\n",
      " 25  V25     284807 non-null  float64\n",
      " 26  V26     284807 non-null  float64\n",
      " 27  V27     284807 non-null  float64\n",
      " 28  V28     284807 non-null  float64\n",
      " 29  Amount  284807 non-null  float64\n",
      " 30  Class   284807 non-null  int64  \n",
      "dtypes: float64(30), int64(1)\n",
      "memory usage: 67.4 MB\n"
     ]
    }
   ],
   "source": [
    "base.info()"
   ]
  },
  {
   "cell_type": "markdown",
   "id": "fe7561a9",
   "metadata": {},
   "source": [
    "### Resumo estatístico"
   ]
  },
  {
   "cell_type": "code",
   "execution_count": 4,
   "id": "58d43cf8",
   "metadata": {},
   "outputs": [
    {
     "data": {
      "text/html": [
       "<div>\n",
       "<style scoped>\n",
       "    .dataframe tbody tr th:only-of-type {\n",
       "        vertical-align: middle;\n",
       "    }\n",
       "\n",
       "    .dataframe tbody tr th {\n",
       "        vertical-align: top;\n",
       "    }\n",
       "\n",
       "    .dataframe thead th {\n",
       "        text-align: right;\n",
       "    }\n",
       "</style>\n",
       "<table border=\"1\" class=\"dataframe\">\n",
       "  <thead>\n",
       "    <tr style=\"text-align: right;\">\n",
       "      <th></th>\n",
       "      <th>Time</th>\n",
       "      <th>V1</th>\n",
       "      <th>V2</th>\n",
       "      <th>V3</th>\n",
       "      <th>V4</th>\n",
       "      <th>V5</th>\n",
       "      <th>V6</th>\n",
       "      <th>V7</th>\n",
       "      <th>V8</th>\n",
       "      <th>V9</th>\n",
       "      <th>...</th>\n",
       "      <th>V21</th>\n",
       "      <th>V22</th>\n",
       "      <th>V23</th>\n",
       "      <th>V24</th>\n",
       "      <th>V25</th>\n",
       "      <th>V26</th>\n",
       "      <th>V27</th>\n",
       "      <th>V28</th>\n",
       "      <th>Amount</th>\n",
       "      <th>Class</th>\n",
       "    </tr>\n",
       "  </thead>\n",
       "  <tbody>\n",
       "    <tr>\n",
       "      <th>count</th>\n",
       "      <td>284807.000000</td>\n",
       "      <td>2.848070e+05</td>\n",
       "      <td>2.848070e+05</td>\n",
       "      <td>2.848070e+05</td>\n",
       "      <td>2.848070e+05</td>\n",
       "      <td>2.848070e+05</td>\n",
       "      <td>2.848070e+05</td>\n",
       "      <td>2.848070e+05</td>\n",
       "      <td>2.848070e+05</td>\n",
       "      <td>2.848070e+05</td>\n",
       "      <td>...</td>\n",
       "      <td>2.848070e+05</td>\n",
       "      <td>2.848070e+05</td>\n",
       "      <td>2.848070e+05</td>\n",
       "      <td>2.848070e+05</td>\n",
       "      <td>2.848070e+05</td>\n",
       "      <td>2.848070e+05</td>\n",
       "      <td>2.848070e+05</td>\n",
       "      <td>2.848070e+05</td>\n",
       "      <td>284807.000000</td>\n",
       "      <td>284807.000000</td>\n",
       "    </tr>\n",
       "    <tr>\n",
       "      <th>mean</th>\n",
       "      <td>94813.859575</td>\n",
       "      <td>1.168375e-15</td>\n",
       "      <td>3.416908e-16</td>\n",
       "      <td>-1.379537e-15</td>\n",
       "      <td>2.074095e-15</td>\n",
       "      <td>9.604066e-16</td>\n",
       "      <td>1.487313e-15</td>\n",
       "      <td>-5.556467e-16</td>\n",
       "      <td>1.213481e-16</td>\n",
       "      <td>-2.406331e-15</td>\n",
       "      <td>...</td>\n",
       "      <td>1.654067e-16</td>\n",
       "      <td>-3.568593e-16</td>\n",
       "      <td>2.578648e-16</td>\n",
       "      <td>4.473266e-15</td>\n",
       "      <td>5.340915e-16</td>\n",
       "      <td>1.683437e-15</td>\n",
       "      <td>-3.660091e-16</td>\n",
       "      <td>-1.227390e-16</td>\n",
       "      <td>88.349619</td>\n",
       "      <td>0.001727</td>\n",
       "    </tr>\n",
       "    <tr>\n",
       "      <th>std</th>\n",
       "      <td>47488.145955</td>\n",
       "      <td>1.958696e+00</td>\n",
       "      <td>1.651309e+00</td>\n",
       "      <td>1.516255e+00</td>\n",
       "      <td>1.415869e+00</td>\n",
       "      <td>1.380247e+00</td>\n",
       "      <td>1.332271e+00</td>\n",
       "      <td>1.237094e+00</td>\n",
       "      <td>1.194353e+00</td>\n",
       "      <td>1.098632e+00</td>\n",
       "      <td>...</td>\n",
       "      <td>7.345240e-01</td>\n",
       "      <td>7.257016e-01</td>\n",
       "      <td>6.244603e-01</td>\n",
       "      <td>6.056471e-01</td>\n",
       "      <td>5.212781e-01</td>\n",
       "      <td>4.822270e-01</td>\n",
       "      <td>4.036325e-01</td>\n",
       "      <td>3.300833e-01</td>\n",
       "      <td>250.120109</td>\n",
       "      <td>0.041527</td>\n",
       "    </tr>\n",
       "    <tr>\n",
       "      <th>min</th>\n",
       "      <td>0.000000</td>\n",
       "      <td>-5.640751e+01</td>\n",
       "      <td>-7.271573e+01</td>\n",
       "      <td>-4.832559e+01</td>\n",
       "      <td>-5.683171e+00</td>\n",
       "      <td>-1.137433e+02</td>\n",
       "      <td>-2.616051e+01</td>\n",
       "      <td>-4.355724e+01</td>\n",
       "      <td>-7.321672e+01</td>\n",
       "      <td>-1.343407e+01</td>\n",
       "      <td>...</td>\n",
       "      <td>-3.483038e+01</td>\n",
       "      <td>-1.093314e+01</td>\n",
       "      <td>-4.480774e+01</td>\n",
       "      <td>-2.836627e+00</td>\n",
       "      <td>-1.029540e+01</td>\n",
       "      <td>-2.604551e+00</td>\n",
       "      <td>-2.256568e+01</td>\n",
       "      <td>-1.543008e+01</td>\n",
       "      <td>0.000000</td>\n",
       "      <td>0.000000</td>\n",
       "    </tr>\n",
       "    <tr>\n",
       "      <th>25%</th>\n",
       "      <td>54201.500000</td>\n",
       "      <td>-9.203734e-01</td>\n",
       "      <td>-5.985499e-01</td>\n",
       "      <td>-8.903648e-01</td>\n",
       "      <td>-8.486401e-01</td>\n",
       "      <td>-6.915971e-01</td>\n",
       "      <td>-7.682956e-01</td>\n",
       "      <td>-5.540759e-01</td>\n",
       "      <td>-2.086297e-01</td>\n",
       "      <td>-6.430976e-01</td>\n",
       "      <td>...</td>\n",
       "      <td>-2.283949e-01</td>\n",
       "      <td>-5.423504e-01</td>\n",
       "      <td>-1.618463e-01</td>\n",
       "      <td>-3.545861e-01</td>\n",
       "      <td>-3.171451e-01</td>\n",
       "      <td>-3.269839e-01</td>\n",
       "      <td>-7.083953e-02</td>\n",
       "      <td>-5.295979e-02</td>\n",
       "      <td>5.600000</td>\n",
       "      <td>0.000000</td>\n",
       "    </tr>\n",
       "    <tr>\n",
       "      <th>50%</th>\n",
       "      <td>84692.000000</td>\n",
       "      <td>1.810880e-02</td>\n",
       "      <td>6.548556e-02</td>\n",
       "      <td>1.798463e-01</td>\n",
       "      <td>-1.984653e-02</td>\n",
       "      <td>-5.433583e-02</td>\n",
       "      <td>-2.741871e-01</td>\n",
       "      <td>4.010308e-02</td>\n",
       "      <td>2.235804e-02</td>\n",
       "      <td>-5.142873e-02</td>\n",
       "      <td>...</td>\n",
       "      <td>-2.945017e-02</td>\n",
       "      <td>6.781943e-03</td>\n",
       "      <td>-1.119293e-02</td>\n",
       "      <td>4.097606e-02</td>\n",
       "      <td>1.659350e-02</td>\n",
       "      <td>-5.213911e-02</td>\n",
       "      <td>1.342146e-03</td>\n",
       "      <td>1.124383e-02</td>\n",
       "      <td>22.000000</td>\n",
       "      <td>0.000000</td>\n",
       "    </tr>\n",
       "    <tr>\n",
       "      <th>75%</th>\n",
       "      <td>139320.500000</td>\n",
       "      <td>1.315642e+00</td>\n",
       "      <td>8.037239e-01</td>\n",
       "      <td>1.027196e+00</td>\n",
       "      <td>7.433413e-01</td>\n",
       "      <td>6.119264e-01</td>\n",
       "      <td>3.985649e-01</td>\n",
       "      <td>5.704361e-01</td>\n",
       "      <td>3.273459e-01</td>\n",
       "      <td>5.971390e-01</td>\n",
       "      <td>...</td>\n",
       "      <td>1.863772e-01</td>\n",
       "      <td>5.285536e-01</td>\n",
       "      <td>1.476421e-01</td>\n",
       "      <td>4.395266e-01</td>\n",
       "      <td>3.507156e-01</td>\n",
       "      <td>2.409522e-01</td>\n",
       "      <td>9.104512e-02</td>\n",
       "      <td>7.827995e-02</td>\n",
       "      <td>77.165000</td>\n",
       "      <td>0.000000</td>\n",
       "    </tr>\n",
       "    <tr>\n",
       "      <th>max</th>\n",
       "      <td>172792.000000</td>\n",
       "      <td>2.454930e+00</td>\n",
       "      <td>2.205773e+01</td>\n",
       "      <td>9.382558e+00</td>\n",
       "      <td>1.687534e+01</td>\n",
       "      <td>3.480167e+01</td>\n",
       "      <td>7.330163e+01</td>\n",
       "      <td>1.205895e+02</td>\n",
       "      <td>2.000721e+01</td>\n",
       "      <td>1.559499e+01</td>\n",
       "      <td>...</td>\n",
       "      <td>2.720284e+01</td>\n",
       "      <td>1.050309e+01</td>\n",
       "      <td>2.252841e+01</td>\n",
       "      <td>4.584549e+00</td>\n",
       "      <td>7.519589e+00</td>\n",
       "      <td>3.517346e+00</td>\n",
       "      <td>3.161220e+01</td>\n",
       "      <td>3.384781e+01</td>\n",
       "      <td>25691.160000</td>\n",
       "      <td>1.000000</td>\n",
       "    </tr>\n",
       "  </tbody>\n",
       "</table>\n",
       "<p>8 rows × 31 columns</p>\n",
       "</div>"
      ],
      "text/plain": [
       "                Time            V1            V2            V3            V4  \\\n",
       "count  284807.000000  2.848070e+05  2.848070e+05  2.848070e+05  2.848070e+05   \n",
       "mean    94813.859575  1.168375e-15  3.416908e-16 -1.379537e-15  2.074095e-15   \n",
       "std     47488.145955  1.958696e+00  1.651309e+00  1.516255e+00  1.415869e+00   \n",
       "min         0.000000 -5.640751e+01 -7.271573e+01 -4.832559e+01 -5.683171e+00   \n",
       "25%     54201.500000 -9.203734e-01 -5.985499e-01 -8.903648e-01 -8.486401e-01   \n",
       "50%     84692.000000  1.810880e-02  6.548556e-02  1.798463e-01 -1.984653e-02   \n",
       "75%    139320.500000  1.315642e+00  8.037239e-01  1.027196e+00  7.433413e-01   \n",
       "max    172792.000000  2.454930e+00  2.205773e+01  9.382558e+00  1.687534e+01   \n",
       "\n",
       "                 V5            V6            V7            V8            V9  \\\n",
       "count  2.848070e+05  2.848070e+05  2.848070e+05  2.848070e+05  2.848070e+05   \n",
       "mean   9.604066e-16  1.487313e-15 -5.556467e-16  1.213481e-16 -2.406331e-15   \n",
       "std    1.380247e+00  1.332271e+00  1.237094e+00  1.194353e+00  1.098632e+00   \n",
       "min   -1.137433e+02 -2.616051e+01 -4.355724e+01 -7.321672e+01 -1.343407e+01   \n",
       "25%   -6.915971e-01 -7.682956e-01 -5.540759e-01 -2.086297e-01 -6.430976e-01   \n",
       "50%   -5.433583e-02 -2.741871e-01  4.010308e-02  2.235804e-02 -5.142873e-02   \n",
       "75%    6.119264e-01  3.985649e-01  5.704361e-01  3.273459e-01  5.971390e-01   \n",
       "max    3.480167e+01  7.330163e+01  1.205895e+02  2.000721e+01  1.559499e+01   \n",
       "\n",
       "       ...           V21           V22           V23           V24  \\\n",
       "count  ...  2.848070e+05  2.848070e+05  2.848070e+05  2.848070e+05   \n",
       "mean   ...  1.654067e-16 -3.568593e-16  2.578648e-16  4.473266e-15   \n",
       "std    ...  7.345240e-01  7.257016e-01  6.244603e-01  6.056471e-01   \n",
       "min    ... -3.483038e+01 -1.093314e+01 -4.480774e+01 -2.836627e+00   \n",
       "25%    ... -2.283949e-01 -5.423504e-01 -1.618463e-01 -3.545861e-01   \n",
       "50%    ... -2.945017e-02  6.781943e-03 -1.119293e-02  4.097606e-02   \n",
       "75%    ...  1.863772e-01  5.285536e-01  1.476421e-01  4.395266e-01   \n",
       "max    ...  2.720284e+01  1.050309e+01  2.252841e+01  4.584549e+00   \n",
       "\n",
       "                V25           V26           V27           V28         Amount  \\\n",
       "count  2.848070e+05  2.848070e+05  2.848070e+05  2.848070e+05  284807.000000   \n",
       "mean   5.340915e-16  1.683437e-15 -3.660091e-16 -1.227390e-16      88.349619   \n",
       "std    5.212781e-01  4.822270e-01  4.036325e-01  3.300833e-01     250.120109   \n",
       "min   -1.029540e+01 -2.604551e+00 -2.256568e+01 -1.543008e+01       0.000000   \n",
       "25%   -3.171451e-01 -3.269839e-01 -7.083953e-02 -5.295979e-02       5.600000   \n",
       "50%    1.659350e-02 -5.213911e-02  1.342146e-03  1.124383e-02      22.000000   \n",
       "75%    3.507156e-01  2.409522e-01  9.104512e-02  7.827995e-02      77.165000   \n",
       "max    7.519589e+00  3.517346e+00  3.161220e+01  3.384781e+01   25691.160000   \n",
       "\n",
       "               Class  \n",
       "count  284807.000000  \n",
       "mean        0.001727  \n",
       "std         0.041527  \n",
       "min         0.000000  \n",
       "25%         0.000000  \n",
       "50%         0.000000  \n",
       "75%         0.000000  \n",
       "max         1.000000  \n",
       "\n",
       "[8 rows x 31 columns]"
      ]
     },
     "execution_count": 4,
     "metadata": {},
     "output_type": "execute_result"
    }
   ],
   "source": [
    "base.describe()"
   ]
  },
  {
   "cell_type": "markdown",
   "id": "99b84405",
   "metadata": {},
   "source": [
    "### Verificando valores nulos"
   ]
  },
  {
   "cell_type": "code",
   "execution_count": 5,
   "id": "40cb995e",
   "metadata": {
    "scrolled": true
   },
   "outputs": [
    {
     "data": {
      "text/plain": [
       "Time      0\n",
       "V1        0\n",
       "V2        0\n",
       "V3        0\n",
       "V4        0\n",
       "V5        0\n",
       "V6        0\n",
       "V7        0\n",
       "V8        0\n",
       "V9        0\n",
       "V10       0\n",
       "V11       0\n",
       "V12       0\n",
       "V13       0\n",
       "V14       0\n",
       "V15       0\n",
       "V16       0\n",
       "V17       0\n",
       "V18       0\n",
       "V19       0\n",
       "V20       0\n",
       "V21       0\n",
       "V22       0\n",
       "V23       0\n",
       "V24       0\n",
       "V25       0\n",
       "V26       0\n",
       "V27       0\n",
       "V28       0\n",
       "Amount    0\n",
       "Class     0\n",
       "dtype: int64"
      ]
     },
     "execution_count": 5,
     "metadata": {},
     "output_type": "execute_result"
    }
   ],
   "source": [
    "base.isnull().sum()"
   ]
  },
  {
   "cell_type": "code",
   "execution_count": null,
   "id": "9c1482fc",
   "metadata": {},
   "outputs": [],
   "source": []
  },
  {
   "cell_type": "code",
   "execution_count": null,
   "id": "21c9b551",
   "metadata": {},
   "outputs": [],
   "source": []
  },
  {
   "cell_type": "code",
   "execution_count": null,
   "id": "7fb8ddb4",
   "metadata": {},
   "outputs": [],
   "source": []
  },
  {
   "cell_type": "markdown",
   "id": "7e6a05e2",
   "metadata": {},
   "source": [
    "# Ajustando escalas com o StandardScaler"
   ]
  },
  {
   "cell_type": "markdown",
   "id": "ae7ced0c",
   "metadata": {},
   "source": [
    "### Separando X e Y"
   ]
  },
  {
   "cell_type": "code",
   "execution_count": 6,
   "id": "3e4e05a8",
   "metadata": {},
   "outputs": [],
   "source": [
    "X = base.drop(\"Class\", axis = 1)\n",
    "y = base.Class"
   ]
  },
  {
   "cell_type": "markdown",
   "id": "3e119c28",
   "metadata": {},
   "source": [
    "### Separando Treino e teste"
   ]
  },
  {
   "cell_type": "code",
   "execution_count": 7,
   "id": "52172a51",
   "metadata": {},
   "outputs": [],
   "source": [
    "from sklearn.model_selection import train_test_split"
   ]
  },
  {
   "cell_type": "code",
   "execution_count": 8,
   "id": "2c58b40a",
   "metadata": {},
   "outputs": [],
   "source": [
    "X_train, X_test, y_train, y_test = train_test_split(\n",
    "   X, y, test_size=0.33, random_state=42, stratify=y)"
   ]
  },
  {
   "cell_type": "markdown",
   "id": "60130b72",
   "metadata": {},
   "source": [
    "### StandardScaler"
   ]
  },
  {
   "cell_type": "code",
   "execution_count": 9,
   "id": "4bf07c53",
   "metadata": {},
   "outputs": [],
   "source": [
    "from sklearn.preprocessing import StandardScaler"
   ]
  },
  {
   "cell_type": "code",
   "execution_count": 10,
   "id": "5b2085ce",
   "metadata": {},
   "outputs": [],
   "source": [
    "scaler = StandardScaler()\n",
    "scaler.fit(X_train)\n",
    "X_train = scaler.transform(X_train)\n",
    "X_test = scaler.transform(X_test)"
   ]
  },
  {
   "cell_type": "code",
   "execution_count": null,
   "id": "c9a3958a",
   "metadata": {},
   "outputs": [],
   "source": []
  },
  {
   "cell_type": "code",
   "execution_count": null,
   "id": "376c9769",
   "metadata": {},
   "outputs": [],
   "source": []
  },
  {
   "cell_type": "markdown",
   "id": "da4b410d",
   "metadata": {},
   "source": [
    "# Balanceando dataset com Imbalanced-learn"
   ]
  },
  {
   "cell_type": "markdown",
   "id": "8947f1e9",
   "metadata": {},
   "source": [
    "### Qual o percentual de transações que são fraudes?"
   ]
  },
  {
   "cell_type": "code",
   "execution_count": 11,
   "id": "2811a3b5",
   "metadata": {},
   "outputs": [
    {
     "data": {
      "text/plain": [
       "0.17"
      ]
     },
     "execution_count": 11,
     "metadata": {},
     "output_type": "execute_result"
    }
   ],
   "source": [
    "numero_total = base.shape[0]\n",
    "fraude = base.Class.value_counts()[1]\n",
    "porcentagem_fraude = (fraude / numero_total) * 100\n",
    "porcentagem_fraude.round(2) "
   ]
  },
  {
   "cell_type": "markdown",
   "id": "43f105cb",
   "metadata": {},
   "source": [
    "### Visualizando Graficamente"
   ]
  },
  {
   "cell_type": "code",
   "execution_count": 12,
   "id": "67befcda",
   "metadata": {},
   "outputs": [
    {
     "data": {
      "text/plain": [
       "<Axes: ylabel='count'>"
      ]
     },
     "execution_count": 12,
     "metadata": {},
     "output_type": "execute_result"
    },
    {
     "data": {
      "image/png": "[encoded data removed]",
      "text/plain": [
       "<Figure size 640x480 with 1 Axes>"
      ]
     },
     "metadata": {},
     "output_type": "display_data"
    }
   ],
   "source": [
    "base.Class.value_counts().plot.pie(autopct=\"%.2f\")"
   ]
  },
  {
   "cell_type": "code",
   "execution_count": 13,
   "id": "7963121e",
   "metadata": {},
   "outputs": [
    {
     "data": {
      "text/plain": [
       "Class\n",
       "0    190490\n",
       "1       330\n",
       "Name: count, dtype: int64"
      ]
     },
     "execution_count": 13,
     "metadata": {},
     "output_type": "execute_result"
    }
   ],
   "source": [
    "# Verificando a quantidade de valores de y_trein\n",
    "y_train.value_counts()"
   ]
  },
  {
   "cell_type": "markdown",
   "id": "9e4e65a4",
   "metadata": {},
   "source": [
    "## RandomUnderSampler\n",
    "### Excluindo registros de forma aleatória"
   ]
  },
  {
   "cell_type": "code",
   "execution_count": 14,
   "id": "780d04cd",
   "metadata": {},
   "outputs": [],
   "source": [
    "from imblearn.under_sampling import RandomUnderSampler "
   ]
  },
  {
   "cell_type": "code",
   "execution_count": 15,
   "id": "98976dd8",
   "metadata": {},
   "outputs": [],
   "source": [
    "# Definindo o RandomUnderSampler\n",
    "rus = RandomUnderSampler(random_state=42)"
   ]
  },
  {
   "cell_type": "code",
   "execution_count": 16,
   "id": "2fa3c38e",
   "metadata": {},
   "outputs": [],
   "source": [
    "# Definindo a nova amostra\n",
    "X_resRU, y_resRU = rus.fit_resample(X_train, y_train)"
   ]
  },
  {
   "cell_type": "code",
   "execution_count": 17,
   "id": "3acd73c0",
   "metadata": {},
   "outputs": [
    {
     "data": {
      "text/plain": [
       "Class\n",
       "0    330\n",
       "1    330\n",
       "Name: count, dtype: int64"
      ]
     },
     "execution_count": 17,
     "metadata": {},
     "output_type": "execute_result"
    }
   ],
   "source": [
    "# Verificando a quantidade de valores de y\n",
    "y_resRU.value_counts()"
   ]
  },
  {
   "cell_type": "code",
   "execution_count": null,
   "id": "786207a7",
   "metadata": {},
   "outputs": [],
   "source": []
  },
  {
   "cell_type": "markdown",
   "id": "915d1d93",
   "metadata": {},
   "source": [
    "# Classificando com os dados balanceados"
   ]
  },
  {
   "cell_type": "code",
   "execution_count": null,
   "id": "8aaec2ea",
   "metadata": {},
   "outputs": [],
   "source": []
  },
  {
   "cell_type": "markdown",
   "id": "c4d29807",
   "metadata": {},
   "source": [
    "# Classificando com Arvore de decisao"
   ]
  },
  {
   "cell_type": "code",
   "execution_count": 18,
   "id": "2e2ff1b8",
   "metadata": {},
   "outputs": [],
   "source": [
    "from sklearn import tree"
   ]
  },
  {
   "cell_type": "markdown",
   "id": "8ba34592",
   "metadata": {},
   "source": [
    "### Fit e predição"
   ]
  },
  {
   "cell_type": "code",
   "execution_count": 19,
   "id": "c4d0c15e",
   "metadata": {},
   "outputs": [],
   "source": [
    "clf_AD = tree.DecisionTreeClassifier(random_state=42).fit(X_resRU, y_resRU)\n",
    "y_pred_AD = clf_AD.predict(X_test)"
   ]
  },
  {
   "cell_type": "markdown",
   "id": "210e6d52",
   "metadata": {},
   "source": [
    "### predict_proba"
   ]
  },
  {
   "cell_type": "code",
   "execution_count": 20,
   "id": "8e8b7b2b",
   "metadata": {},
   "outputs": [
    {
     "data": {
      "text/plain": [
       "array([0., 0., 0., ..., 0., 0., 1.])"
      ]
     },
     "execution_count": 20,
     "metadata": {},
     "output_type": "execute_result"
    }
   ],
   "source": [
    "y_pred_proba_AD = clf_AD.predict_proba(X_test)[:,1]\n",
    "y_pred_proba_AD"
   ]
  },
  {
   "cell_type": "markdown",
   "id": "a9319b14",
   "metadata": {},
   "source": [
    "### Matriz de confusao"
   ]
  },
  {
   "cell_type": "code",
   "execution_count": 21,
   "id": "d0d6dd23",
   "metadata": {},
   "outputs": [],
   "source": [
    "from sklearn.metrics import confusion_matrix"
   ]
  },
  {
   "cell_type": "code",
   "execution_count": 22,
   "id": "8cc0c548",
   "metadata": {},
   "outputs": [
    {
     "data": {
      "text/plain": [
       "array([[84484,  9341],\n",
       "       [   15,   147]], dtype=int64)"
      ]
     },
     "execution_count": 22,
     "metadata": {},
     "output_type": "execute_result"
    }
   ],
   "source": [
    "confusion_matrix(y_test,y_pred_AD)"
   ]
  },
  {
   "cell_type": "code",
   "execution_count": null,
   "id": "45fadb21",
   "metadata": {},
   "outputs": [],
   "source": []
  },
  {
   "cell_type": "code",
   "execution_count": null,
   "id": "b37cb478",
   "metadata": {},
   "outputs": [],
   "source": []
  },
  {
   "cell_type": "markdown",
   "id": "21b51034",
   "metadata": {},
   "source": [
    "# Classificando com Regressão logistica"
   ]
  },
  {
   "cell_type": "code",
   "execution_count": 23,
   "id": "f76dba2a",
   "metadata": {},
   "outputs": [],
   "source": [
    "from sklearn.linear_model import LogisticRegression"
   ]
  },
  {
   "cell_type": "markdown",
   "id": "18e3840f",
   "metadata": {},
   "source": [
    "### Fit e predição"
   ]
  },
  {
   "cell_type": "code",
   "execution_count": 24,
   "id": "b6ba9488",
   "metadata": {},
   "outputs": [],
   "source": [
    "clf_RL = LogisticRegression(random_state=0, max_iter=10000).fit(X_resRU, y_resRU);\n",
    "y_pred_RL = clf_RL.predict(X_test);"
   ]
  },
  {
   "cell_type": "markdown",
   "id": "1c65bcb1",
   "metadata": {},
   "source": [
    "### Pred_proba e Matriz de confusão"
   ]
  },
  {
   "cell_type": "code",
   "execution_count": 25,
   "id": "dbfc9f20",
   "metadata": {},
   "outputs": [
    {
     "data": {
      "text/plain": [
       "array([3.51671072e-03, 1.10302386e-04, 8.45733769e-03, ...,\n",
       "       1.25777185e-03, 1.13377620e-02, 4.42063942e-01])"
      ]
     },
     "execution_count": 25,
     "metadata": {},
     "output_type": "execute_result"
    }
   ],
   "source": [
    "y_pred_proba_RL = clf_RL.predict_proba(X_test)[:,1]\n",
    "y_pred_proba_RL"
   ]
  },
  {
   "cell_type": "code",
   "execution_count": 26,
   "id": "2568c695",
   "metadata": {},
   "outputs": [
    {
     "data": {
      "text/plain": [
       "array([[90242,  3583],\n",
       "       [   16,   146]], dtype=int64)"
      ]
     },
     "execution_count": 26,
     "metadata": {},
     "output_type": "execute_result"
    }
   ],
   "source": [
    "confusion_matrix(y_test,y_pred_RL)"
   ]
  },
  {
   "cell_type": "code",
   "execution_count": null,
   "id": "a7917c09",
   "metadata": {},
   "outputs": [],
   "source": []
  },
  {
   "cell_type": "code",
   "execution_count": null,
   "id": "e42acb13",
   "metadata": {},
   "outputs": [],
   "source": []
  },
  {
   "cell_type": "markdown",
   "id": "ee6abd29",
   "metadata": {},
   "source": [
    "# Classificando com Support Vector Machine"
   ]
  },
  {
   "cell_type": "code",
   "execution_count": 27,
   "id": "c96e24a2",
   "metadata": {},
   "outputs": [],
   "source": [
    "from sklearn.svm import SVC"
   ]
  },
  {
   "cell_type": "markdown",
   "id": "6a0eac1d",
   "metadata": {},
   "source": [
    "### Fit e predição"
   ]
  },
  {
   "cell_type": "code",
   "execution_count": 28,
   "id": "d5ad9139",
   "metadata": {},
   "outputs": [],
   "source": [
    "clf_SVC = SVC(random_state=0,probability=True).fit(X_resRU, y_resRU)\n",
    "y_pred_SVC = clf_SVC.predict(X_test)"
   ]
  },
  {
   "cell_type": "markdown",
   "id": "43a494fa",
   "metadata": {},
   "source": [
    "### Pred_proba e Matriz de Confusão"
   ]
  },
  {
   "cell_type": "code",
   "execution_count": 29,
   "id": "52eef723",
   "metadata": {},
   "outputs": [
    {
     "data": {
      "text/plain": [
       "array([0.02110115, 0.01031894, 0.25859645, ..., 0.02955345, 0.04182747,\n",
       "       0.13773503])"
      ]
     },
     "execution_count": 29,
     "metadata": {},
     "output_type": "execute_result"
    }
   ],
   "source": [
    "y_pred_proba_SVC = clf_SVC.predict_proba(X_test)[:,1]\n",
    "y_pred_proba_SVC"
   ]
  },
  {
   "cell_type": "code",
   "execution_count": 30,
   "id": "a90939c2",
   "metadata": {},
   "outputs": [
    {
     "data": {
      "text/plain": [
       "array([[92431,  1394],\n",
       "       [   24,   138]], dtype=int64)"
      ]
     },
     "execution_count": 30,
     "metadata": {},
     "output_type": "execute_result"
    }
   ],
   "source": [
    "confusion_matrix(y_test,y_pred_SVC)"
   ]
  },
  {
   "cell_type": "code",
   "execution_count": null,
   "id": "1399edd0",
   "metadata": {},
   "outputs": [],
   "source": []
  },
  {
   "cell_type": "code",
   "execution_count": null,
   "id": "d8a0927e",
   "metadata": {},
   "outputs": [],
   "source": []
  },
  {
   "cell_type": "markdown",
   "id": "c44251a1",
   "metadata": {},
   "source": [
    "# Classificando com KNN"
   ]
  },
  {
   "cell_type": "code",
   "execution_count": 31,
   "id": "3f5cef85",
   "metadata": {},
   "outputs": [],
   "source": [
    "from sklearn.neighbors import KNeighborsClassifier"
   ]
  },
  {
   "cell_type": "markdown",
   "id": "ca5e8b58",
   "metadata": {},
   "source": [
    "### Fit e predição"
   ]
  },
  {
   "cell_type": "code",
   "execution_count": 32,
   "id": "3cd296e1",
   "metadata": {},
   "outputs": [],
   "source": [
    "clf_KNN = KNeighborsClassifier(n_neighbors=3).fit(X_resRU, y_resRU)\n",
    "y_pred_KNN = clf_KNN.predict(X_test)"
   ]
  },
  {
   "cell_type": "markdown",
   "id": "a5e39360",
   "metadata": {},
   "source": [
    "### Pred_proba e Matriz de confusão"
   ]
  },
  {
   "cell_type": "code",
   "execution_count": 33,
   "id": "a7d69c4d",
   "metadata": {},
   "outputs": [],
   "source": [
    "y_pred_proba_KNN = clf_KNN.predict_proba(X_test)[:,1]"
   ]
  },
  {
   "cell_type": "code",
   "execution_count": 34,
   "id": "34d59327",
   "metadata": {},
   "outputs": [
    {
     "data": {
      "text/plain": [
       "array([[90892,  2933],\n",
       "       [   19,   143]], dtype=int64)"
      ]
     },
     "execution_count": 34,
     "metadata": {},
     "output_type": "execute_result"
    }
   ],
   "source": [
    "confusion_matrix(y_test,y_pred_KNN)  "
   ]
  },
  {
   "cell_type": "code",
   "execution_count": null,
   "id": "5c271416",
   "metadata": {},
   "outputs": [],
   "source": []
  },
  {
   "cell_type": "code",
   "execution_count": null,
   "id": "3e529938",
   "metadata": {},
   "outputs": [],
   "source": []
  },
  {
   "cell_type": "markdown",
   "id": "748651d2",
   "metadata": {},
   "source": [
    "# Classificando com Random Forest"
   ]
  },
  {
   "cell_type": "code",
   "execution_count": 35,
   "id": "e9b5b9f1",
   "metadata": {},
   "outputs": [],
   "source": [
    "from sklearn.ensemble import RandomForestClassifier"
   ]
  },
  {
   "cell_type": "markdown",
   "id": "6875f3c8",
   "metadata": {},
   "source": [
    "### Fit e predição"
   ]
  },
  {
   "cell_type": "code",
   "execution_count": 36,
   "id": "ccc4e0c6",
   "metadata": {},
   "outputs": [],
   "source": [
    "clf_RF = RandomForestClassifier(max_depth=2, random_state=0).fit(X_resRU, y_resRU)\n",
    "y_pred_RF = clf_RF.predict(X_test)"
   ]
  },
  {
   "cell_type": "markdown",
   "id": "d5e0baa0",
   "metadata": {},
   "source": [
    "### Pred_proba e Matriz de confusão"
   ]
  },
  {
   "cell_type": "code",
   "execution_count": 37,
   "id": "fd049a64",
   "metadata": {},
   "outputs": [],
   "source": [
    "y_pred_proba_RF = clf_RF.predict_proba(X_test)[:,1]"
   ]
  },
  {
   "cell_type": "code",
   "execution_count": 38,
   "id": "ec345aba",
   "metadata": {},
   "outputs": [
    {
     "data": {
      "text/plain": [
       "array([[93168,   657],\n",
       "       [   25,   137]], dtype=int64)"
      ]
     },
     "execution_count": 38,
     "metadata": {},
     "output_type": "execute_result"
    }
   ],
   "source": [
    "confusion_matrix(y_test,y_pred_RF)"
   ]
  },
  {
   "cell_type": "code",
   "execution_count": null,
   "id": "1507b3dd",
   "metadata": {},
   "outputs": [],
   "source": []
  },
  {
   "cell_type": "code",
   "execution_count": null,
   "id": "f5beeb4e",
   "metadata": {},
   "outputs": [],
   "source": []
  },
  {
   "cell_type": "code",
   "execution_count": null,
   "id": "b47c1b24",
   "metadata": {},
   "outputs": [],
   "source": []
  },
  {
   "cell_type": "markdown",
   "id": "42f18761",
   "metadata": {},
   "source": [
    "# Comparando os modelos"
   ]
  },
  {
   "cell_type": "code",
   "execution_count": 39,
   "id": "aecae9c5",
   "metadata": {},
   "outputs": [],
   "source": [
    "from sklearn import metrics"
   ]
  },
  {
   "cell_type": "markdown",
   "id": "a4dc7033",
   "metadata": {},
   "source": [
    "### Visualizando precisão e recall de cada modelo\n",
    "\n",
    "Não é um bom metodo para comparar"
   ]
  },
  {
   "cell_type": "code",
   "execution_count": 40,
   "id": "6ddfa3f5",
   "metadata": {},
   "outputs": [
    {
     "name": "stdout",
     "output_type": "stream",
     "text": [
      "0.015493254637436763\n",
      "0.9074074074074074\n",
      "0.0391525878251542\n",
      "0.9012345679012346\n",
      "0.09007832898172324\n",
      "0.8518518518518519\n",
      "0.0464889466840052\n",
      "0.8827160493827161\n",
      "0.172544080604534\n",
      "0.845679012345679\n"
     ]
    }
   ],
   "source": [
    "print(metrics.precision_score(y_test,y_pred_AD))\n",
    "print(metrics.recall_score(y_test,y_pred_AD))\n",
    "print(metrics.precision_score(y_test,y_pred_RL))\n",
    "print(metrics.recall_score(y_test,y_pred_RL))\n",
    "print(metrics.precision_score(y_test,y_pred_SVC))\n",
    "print(metrics.recall_score(y_test,y_pred_SVC))\n",
    "print(metrics.precision_score(y_test,y_pred_KNN))\n",
    "print(metrics.recall_score(y_test,y_pred_KNN))\n",
    "print(metrics.precision_score(y_test,y_pred_RF))\n",
    "print(metrics.recall_score(y_test,y_pred_RF))"
   ]
  },
  {
   "cell_type": "markdown",
   "id": "a57e8b1c",
   "metadata": {},
   "source": [
    "## Gerando parâmetros da curva AUPRC (Precisao x Recall)"
   ]
  },
  {
   "cell_type": "code",
   "execution_count": 41,
   "id": "5ab81b77",
   "metadata": {},
   "outputs": [],
   "source": [
    "precision_AD,recall_AD,thresholds_AD = metrics.precision_recall_curve(y_test,y_pred_proba_AD)\n",
    "precision_RL,recall_RL,thresholds_RL = metrics.precision_recall_curve(y_test,y_pred_proba_RL)\n",
    "precision_SVC,recall_SVC,thresholds_SVC = metrics.precision_recall_curve(y_test,y_pred_proba_SVC)\n",
    "precision_KNN,recall_KNN,thresholds_KNN = metrics.precision_recall_curve(y_test,y_pred_proba_KNN)\n",
    "precision_RF,recall_RF,thresholds_RF = metrics.precision_recall_curve(y_test,y_pred_proba_RF)"
   ]
  },
  {
   "cell_type": "markdown",
   "id": "b37152aa",
   "metadata": {},
   "source": [
    "## Visualizando graficamente"
   ]
  },
  {
   "cell_type": "code",
   "execution_count": 42,
   "id": "d67d0e86",
   "metadata": {},
   "outputs": [],
   "source": [
    "import matplotlib.pyplot as plt"
   ]
  },
  {
   "cell_type": "code",
   "execution_count": 43,
   "id": "24faf083",
   "metadata": {
    "scrolled": false
   },
   "outputs": [
    {
     "data": {
      "image/png": "[encoded data removed]",
      "text/plain": [
       "<Figure size 640x480 with 1 Axes>"
      ]
     },
     "metadata": {},
     "output_type": "display_data"
    }
   ],
   "source": [
    "fig, ax = plt.subplots()\n",
    "\n",
    "ax.plot(recall_AD, precision_AD, linewidth=2.0,label='AD')\n",
    "ax.plot(recall_RL, precision_RL, linewidth=2.0,label='RL')\n",
    "ax.plot(recall_SVC, precision_SVC, linewidth=2.0,label='SVC')\n",
    "ax.plot(recall_KNN, precision_KNN, linewidth=2.0,label='KNN')\n",
    "ax.plot(recall_RF, precision_RF, linewidth=2.0,label='RF')\n",
    "\n",
    "ax.legend()\n",
    "\n",
    "plt.show()"
   ]
  },
  {
   "cell_type": "code",
   "execution_count": null,
   "id": "6d2e4cc2",
   "metadata": {},
   "outputs": [],
   "source": []
  },
  {
   "cell_type": "markdown",
   "id": "fa504744",
   "metadata": {},
   "source": [
    "### Avaliando numericamente área abaixo da curva"
   ]
  },
  {
   "cell_type": "code",
   "execution_count": 44,
   "id": "1d58616b",
   "metadata": {},
   "outputs": [
    {
     "name": "stdout",
     "output_type": "stream",
     "text": [
      "0.46153012929239556\n",
      "0.7099282757596406\n",
      "0.6232455639372207\n",
      "0.49109268952250745\n",
      "0.6504912358563952\n"
     ]
    }
   ],
   "source": [
    "print(metrics.auc(recall_AD, precision_AD))\n",
    "print(metrics.auc(recall_RL, precision_RL))\n",
    "print(metrics.auc(recall_SVC, precision_SVC))\n",
    "print(metrics.auc(recall_KNN, precision_KNN))\n",
    "print(metrics.auc(recall_RF, precision_RF))"
   ]
  },
  {
   "cell_type": "markdown",
   "id": "4496c63a",
   "metadata": {},
   "source": [
    "### Notamos que a Regressao logistica obteve o melhor resultado"
   ]
  },
  {
   "cell_type": "markdown",
   "id": "c39b8d16",
   "metadata": {},
   "source": []
  },
  {
   "cell_type": "code",
   "execution_count": null,
   "id": "b4d5bea9",
   "metadata": {},
   "outputs": [],
   "source": []
  },
  {
   "cell_type": "code",
   "execution_count": null,
   "id": "c4386563",
   "metadata": {},
   "outputs": [],
   "source": []
  },
  {
   "cell_type": "markdown",
   "id": "397b9ebd",
   "metadata": {},
   "source": [
    "# GridSearchCV: Selecionando hiperparametros para a Regressão logistica"
   ]
  },
  {
   "cell_type": "code",
   "execution_count": 45,
   "id": "f0328b4b",
   "metadata": {},
   "outputs": [],
   "source": [
    "from sklearn.model_selection import GridSearchCV"
   ]
  },
  {
   "cell_type": "code",
   "execution_count": 46,
   "id": "a59f5ea5",
   "metadata": {},
   "outputs": [],
   "source": [
    "# Retirando temporariamente os warnings do nosso código\n",
    "import warnings\n",
    "warnings.filterwarnings('ignore')"
   ]
  },
  {
   "cell_type": "markdown",
   "id": "f75f2042",
   "metadata": {},
   "source": [
    "### Definindo os parâmetros que queremos testar"
   ]
  },
  {
   "cell_type": "code",
   "execution_count": 47,
   "id": "444f2bdc",
   "metadata": {},
   "outputs": [],
   "source": [
    "parametros = {\n",
    "    'C': [0.001,0.01,0.1,1,10,100,1000],\n",
    "    'solver': ['newton-cg','lbfgs','liblinear','sag','saga'],\n",
    "}"
   ]
  },
  {
   "cell_type": "markdown",
   "id": "b36e087a",
   "metadata": {},
   "source": [
    "### Selecionando o modelo e fazendo fit com os parametros selecionados e modo de comparação"
   ]
  },
  {
   "cell_type": "code",
   "execution_count": 48,
   "id": "437be362",
   "metadata": {},
   "outputs": [],
   "source": [
    "LogReg = LogisticRegression(random_state=42)\n",
    "clf_GS = GridSearchCV(LogReg, parametros,\n",
    "                     scoring='recall')"
   ]
  },
  {
   "cell_type": "markdown",
   "id": "2813c8e3",
   "metadata": {},
   "source": [
    "#### Fazendo fit"
   ]
  },
  {
   "cell_type": "code",
   "execution_count": 49,
   "id": "5c1a9187",
   "metadata": {},
   "outputs": [],
   "source": [
    "clf_GS = clf_GS.fit(X_resRU,y_resRU)"
   ]
  },
  {
   "cell_type": "markdown",
   "id": "4af6af33",
   "metadata": {},
   "source": [
    "### Visualizando os melhores parâmetros definidos pelo GridSearchCV "
   ]
  },
  {
   "cell_type": "code",
   "execution_count": 50,
   "id": "bc59006d",
   "metadata": {},
   "outputs": [
    {
     "data": {
      "text/plain": [
       "{'C': 0.001, 'solver': 'liblinear'}"
      ]
     },
     "execution_count": 50,
     "metadata": {},
     "output_type": "execute_result"
    }
   ],
   "source": [
    "clf_GS.best_params_"
   ]
  },
  {
   "cell_type": "markdown",
   "id": "7419c740",
   "metadata": {},
   "source": [
    "### Usando esse modelo para fazer as previsões"
   ]
  },
  {
   "cell_type": "code",
   "execution_count": 51,
   "id": "7c327cf6",
   "metadata": {},
   "outputs": [],
   "source": [
    "y_pred_GS = clf_GS.predict(X_test)"
   ]
  },
  {
   "cell_type": "code",
   "execution_count": null,
   "id": "bd03a289",
   "metadata": {},
   "outputs": [],
   "source": []
  },
  {
   "cell_type": "code",
   "execution_count": null,
   "id": "5b1779d6",
   "metadata": {},
   "outputs": [],
   "source": []
  },
  {
   "cell_type": "markdown",
   "id": "18aa90a0",
   "metadata": {},
   "source": [
    "# Analisando o modelo atraves das metricas"
   ]
  },
  {
   "cell_type": "code",
   "execution_count": 52,
   "id": "33ee542d",
   "metadata": {},
   "outputs": [],
   "source": [
    "from sklearn.metrics import confusion_matrix, recall_score, precision_score"
   ]
  },
  {
   "cell_type": "markdown",
   "id": "37a1a40b",
   "metadata": {},
   "source": [
    "### Matriz de confusão"
   ]
  },
  {
   "cell_type": "code",
   "execution_count": 53,
   "id": "1a5a0fd1",
   "metadata": {},
   "outputs": [
    {
     "data": {
      "text/plain": [
       "array([[82441, 11384],\n",
       "       [    8,   154]], dtype=int64)"
      ]
     },
     "execution_count": 53,
     "metadata": {},
     "output_type": "execute_result"
    }
   ],
   "source": [
    "confusion_matrix(y_test,y_pred_GS)"
   ]
  },
  {
   "cell_type": "markdown",
   "id": "d6f00b2a",
   "metadata": {},
   "source": [
    "### Recall"
   ]
  },
  {
   "cell_type": "code",
   "execution_count": 54,
   "id": "76e08608",
   "metadata": {},
   "outputs": [
    {
     "data": {
      "text/plain": [
       "0.9506172839506173"
      ]
     },
     "execution_count": 54,
     "metadata": {},
     "output_type": "execute_result"
    }
   ],
   "source": [
    "recall_score(y_test,y_pred_GS)"
   ]
  }
 ],
 "metadata": {
  "kernelspec": {
   "display_name": "Python 3 (ipykernel)",
   "language": "python",
   "name": "python3"
  },
  "language_info": {
   "codemirror_mode": {
    "name": "ipython",
    "version": 3
   },
   "file_extension": ".py",
   "mimetype": "text/x-python",
   "name": "python",
   "nbconvert_exporter": "python",
   "pygments_lexer": "ipython3",
   "version": "3.11.5"
  }
 },
 "nbformat": 4,
 "nbformat_minor": 5
}
