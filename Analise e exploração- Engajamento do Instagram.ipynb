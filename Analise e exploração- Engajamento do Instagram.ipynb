{
 "cells": [
  {
   "cell_type": "markdown",
   "id": "df62a466",
   "metadata": {
    "id": "df62a466"
   },
   "source": [
    "# Analisando o engajamento do Instagram\n",
    "\n",
    "\n",
    "- Qual tipo de conteúdo **mais engaja** no Instagram da minha empresa?\n"
   ]
  },
  {
   "cell_type": "markdown",
   "id": "d387ddca",
   "metadata": {
    "id": "d387ddca"
   },
   "source": [
    "### Vamos importar e visualizar a nossa base"
   ]
  },
  {
   "cell_type": "code",
   "execution_count": 2,
   "id": "67161c37",
   "metadata": {
    "executionInfo": {
     "elapsed": 6,
     "status": "ok",
     "timestamp": 1656531613415,
     "user": {
      "displayName": "Lucas Leal",
      "userId": "11399223107874428450"
     },
     "user_tz": 180
    },
    "id": "67161c37"
   },
   "outputs": [],
   "source": [
    "import pandas as pd"
   ]
  },
  {
   "cell_type": "code",
   "execution_count": 3,
   "id": "2c773610",
   "metadata": {
    "colab": {
     "base_uri": "https://localhost:8080/",
     "height": 346
    },
    "executionInfo": {
     "elapsed": 460,
     "status": "error",
     "timestamp": 1656531613870,
     "user": {
      "displayName": "Lucas Leal",
      "userId": "11399223107874428450"
     },
     "user_tz": 180
    },
    "id": "2c773610",
    "outputId": "331f49fe-4e07-417a-8730-41a0ca95ee6a"
   },
   "outputs": [
    {
     "data": {
      "text/html": [
       "<div>\n",
       "<style scoped>\n",
       "    .dataframe tbody tr th:only-of-type {\n",
       "        vertical-align: middle;\n",
       "    }\n",
       "\n",
       "    .dataframe tbody tr th {\n",
       "        vertical-align: top;\n",
       "    }\n",
       "\n",
       "    .dataframe thead th {\n",
       "        text-align: right;\n",
       "    }\n",
       "</style>\n",
       "<table border=\"1\" class=\"dataframe\">\n",
       "  <thead>\n",
       "    <tr style=\"text-align: right;\">\n",
       "      <th></th>\n",
       "      <th>Tipo</th>\n",
       "      <th>Data</th>\n",
       "      <th>Curtidas</th>\n",
       "      <th>Comentários</th>\n",
       "      <th>Visualizações</th>\n",
       "      <th>Tags</th>\n",
       "      <th>Pessoas</th>\n",
       "      <th>Campanhas</th>\n",
       "      <th>Carrossel</th>\n",
       "      <th>Interacoes</th>\n",
       "    </tr>\n",
       "  </thead>\n",
       "  <tbody>\n",
       "    <tr>\n",
       "      <th>0</th>\n",
       "      <td>Foto</td>\n",
       "      <td>2021-09-11</td>\n",
       "      <td>2858</td>\n",
       "      <td>16</td>\n",
       "      <td>NaN</td>\n",
       "      <td>Loja</td>\n",
       "      <td>N</td>\n",
       "      <td>N</td>\n",
       "      <td>NaN</td>\n",
       "      <td>2874</td>\n",
       "    </tr>\n",
       "    <tr>\n",
       "      <th>1</th>\n",
       "      <td>Foto</td>\n",
       "      <td>2021-09-11</td>\n",
       "      <td>2930</td>\n",
       "      <td>28</td>\n",
       "      <td>NaN</td>\n",
       "      <td>Loja/Produtos</td>\n",
       "      <td>N</td>\n",
       "      <td>N</td>\n",
       "      <td>NaN</td>\n",
       "      <td>2958</td>\n",
       "    </tr>\n",
       "    <tr>\n",
       "      <th>2</th>\n",
       "      <td>Foto</td>\n",
       "      <td>2021-09-11</td>\n",
       "      <td>2807</td>\n",
       "      <td>9</td>\n",
       "      <td>NaN</td>\n",
       "      <td>Loja</td>\n",
       "      <td>N</td>\n",
       "      <td>N</td>\n",
       "      <td>NaN</td>\n",
       "      <td>2816</td>\n",
       "    </tr>\n",
       "  </tbody>\n",
       "</table>\n",
       "</div>"
      ],
      "text/plain": [
       "   Tipo       Data  Curtidas  Comentários  Visualizações           Tags  \\\n",
       "0  Foto 2021-09-11      2858           16            NaN           Loja   \n",
       "1  Foto 2021-09-11      2930           28            NaN  Loja/Produtos   \n",
       "2  Foto 2021-09-11      2807            9            NaN           Loja   \n",
       "\n",
       "  Pessoas Campanhas Carrossel  Interacoes   \n",
       "0       N         N       NaN         2874  \n",
       "1       N         N       NaN         2958  \n",
       "2       N         N       NaN         2816  "
      ]
     },
     "execution_count": 3,
     "metadata": {},
     "output_type": "execute_result"
    }
   ],
   "source": [
    "base = pd.read_excel('08. Analisando o engajamento no Instagram.xlsx')\n",
    "base.head(3)"
   ]
  },
  {
   "cell_type": "code",
   "execution_count": 4,
   "id": "b201a9e3",
   "metadata": {
    "executionInfo": {
     "elapsed": 457,
     "status": "aborted",
     "timestamp": 1656531613868,
     "user": {
      "displayName": "Lucas Leal",
      "userId": "11399223107874428450"
     },
     "user_tz": 180
    },
    "id": "b201a9e3"
   },
   "outputs": [
    {
     "data": {
      "text/html": [
       "<div>\n",
       "<style scoped>\n",
       "    .dataframe tbody tr th:only-of-type {\n",
       "        vertical-align: middle;\n",
       "    }\n",
       "\n",
       "    .dataframe tbody tr th {\n",
       "        vertical-align: top;\n",
       "    }\n",
       "\n",
       "    .dataframe thead th {\n",
       "        text-align: right;\n",
       "    }\n",
       "</style>\n",
       "<table border=\"1\" class=\"dataframe\">\n",
       "  <thead>\n",
       "    <tr style=\"text-align: right;\">\n",
       "      <th></th>\n",
       "      <th>Tipo</th>\n",
       "      <th>Data</th>\n",
       "      <th>Curtidas</th>\n",
       "      <th>Comentários</th>\n",
       "      <th>Tags</th>\n",
       "      <th>Pessoas</th>\n",
       "      <th>Campanhas</th>\n",
       "      <th>Carrossel</th>\n",
       "      <th>Interacoes</th>\n",
       "    </tr>\n",
       "  </thead>\n",
       "  <tbody>\n",
       "    <tr>\n",
       "      <th>0</th>\n",
       "      <td>Foto</td>\n",
       "      <td>2021-09-11</td>\n",
       "      <td>2858</td>\n",
       "      <td>16</td>\n",
       "      <td>Loja</td>\n",
       "      <td>N</td>\n",
       "      <td>N</td>\n",
       "      <td>NaN</td>\n",
       "      <td>2874</td>\n",
       "    </tr>\n",
       "    <tr>\n",
       "      <th>1</th>\n",
       "      <td>Foto</td>\n",
       "      <td>2021-09-11</td>\n",
       "      <td>2930</td>\n",
       "      <td>28</td>\n",
       "      <td>Loja/Produtos</td>\n",
       "      <td>N</td>\n",
       "      <td>N</td>\n",
       "      <td>NaN</td>\n",
       "      <td>2958</td>\n",
       "    </tr>\n",
       "    <tr>\n",
       "      <th>2</th>\n",
       "      <td>Foto</td>\n",
       "      <td>2021-09-11</td>\n",
       "      <td>2807</td>\n",
       "      <td>9</td>\n",
       "      <td>Loja</td>\n",
       "      <td>N</td>\n",
       "      <td>N</td>\n",
       "      <td>NaN</td>\n",
       "      <td>2816</td>\n",
       "    </tr>\n",
       "  </tbody>\n",
       "</table>\n",
       "</div>"
      ],
      "text/plain": [
       "   Tipo       Data  Curtidas  Comentários           Tags Pessoas Campanhas  \\\n",
       "0  Foto 2021-09-11      2858           16           Loja       N         N   \n",
       "1  Foto 2021-09-11      2930           28  Loja/Produtos       N         N   \n",
       "2  Foto 2021-09-11      2807            9           Loja       N         N   \n",
       "\n",
       "  Carrossel  Interacoes   \n",
       "0       NaN         2874  \n",
       "1       NaN         2958  \n",
       "2       NaN         2816  "
      ]
     },
     "execution_count": 4,
     "metadata": {},
     "output_type": "execute_result"
    }
   ],
   "source": [
    "# Apagando a coluna \"Visualizações\"\n",
    "base = base.drop(\"Visualizações\",axis=1)\n",
    "base.head(3)"
   ]
  },
  {
   "cell_type": "code",
   "execution_count": 6,
   "id": "79aa692b",
   "metadata": {
    "executionInfo": {
     "elapsed": 457,
     "status": "aborted",
     "timestamp": 1656531613869,
     "user": {
      "displayName": "Lucas Leal",
      "userId": "11399223107874428450"
     },
     "user_tz": 180
    },
    "id": "79aa692b"
   },
   "outputs": [
    {
     "name": "stdout",
     "output_type": "stream",
     "text": [
      "<class 'pandas.core.frame.DataFrame'>\n",
      "RangeIndex: 52 entries, 0 to 51\n",
      "Data columns (total 9 columns):\n",
      " #   Column       Non-Null Count  Dtype         \n",
      "---  ------       --------------  -----         \n",
      " 0   Tipo         52 non-null     object        \n",
      " 1   Data         52 non-null     datetime64[ns]\n",
      " 2   Curtidas     52 non-null     int64         \n",
      " 3   Comentários  52 non-null     int64         \n",
      " 4   Tags         44 non-null     object        \n",
      " 5   Pessoas      52 non-null     object        \n",
      " 6   Campanhas    52 non-null     object        \n",
      " 7   Carrossel    8 non-null      object        \n",
      " 8   Interacoes   52 non-null     int64         \n",
      "dtypes: datetime64[ns](1), int64(3), object(5)\n",
      "memory usage: 3.8+ KB\n"
     ]
    }
   ],
   "source": [
    "# Verificando as informações Gerais\n",
    "base.info()"
   ]
  },
  {
   "cell_type": "markdown",
   "id": "9b1aeb55",
   "metadata": {
    "id": "9b1aeb55"
   },
   "source": [
    "#### Carrossel possui apenas 8 valores não nulos\n",
    "- Vamos entender os valores de carrossel"
   ]
  },
  {
   "cell_type": "code",
   "execution_count": 7,
   "id": "24551e89",
   "metadata": {
    "executionInfo": {
     "elapsed": 457,
     "status": "aborted",
     "timestamp": 1656531613869,
     "user": {
      "displayName": "Lucas Leal",
      "userId": "11399223107874428450"
     },
     "user_tz": 180
    },
    "id": "24551e89"
   },
   "outputs": [
    {
     "data": {
      "text/plain": [
       "Carrossel\n",
       "S    8\n",
       "Name: count, dtype: int64"
      ]
     },
     "execution_count": 7,
     "metadata": {},
     "output_type": "execute_result"
    }
   ],
   "source": [
    "# Contando os valores da coluna Carrossel\n",
    "base.Carrossel.value_counts()"
   ]
  },
  {
   "cell_type": "markdown",
   "id": "8abfd8b2",
   "metadata": {
    "id": "8abfd8b2"
   },
   "source": [
    "- Na verdade, os valores nulos são de postagens que não são carrossel. Sendo assim o nulo deveria ser \"N\""
   ]
  },
  {
   "cell_type": "markdown",
   "id": "09b4c75c",
   "metadata": {
    "id": "09b4c75c"
   },
   "source": [
    "### Tratando os valores nulos"
   ]
  },
  {
   "cell_type": "code",
   "execution_count": 8,
   "id": "25aa6504",
   "metadata": {
    "executionInfo": {
     "elapsed": 457,
     "status": "aborted",
     "timestamp": 1656531613869,
     "user": {
      "displayName": "Lucas Leal",
      "userId": "11399223107874428450"
     },
     "user_tz": 180
    },
    "id": "25aa6504"
   },
   "outputs": [
    {
     "data": {
      "text/html": [
       "<div>\n",
       "<style scoped>\n",
       "    .dataframe tbody tr th:only-of-type {\n",
       "        vertical-align: middle;\n",
       "    }\n",
       "\n",
       "    .dataframe tbody tr th {\n",
       "        vertical-align: top;\n",
       "    }\n",
       "\n",
       "    .dataframe thead th {\n",
       "        text-align: right;\n",
       "    }\n",
       "</style>\n",
       "<table border=\"1\" class=\"dataframe\">\n",
       "  <thead>\n",
       "    <tr style=\"text-align: right;\">\n",
       "      <th></th>\n",
       "      <th>Tipo</th>\n",
       "      <th>Data</th>\n",
       "      <th>Curtidas</th>\n",
       "      <th>Comentários</th>\n",
       "      <th>Tags</th>\n",
       "      <th>Pessoas</th>\n",
       "      <th>Campanhas</th>\n",
       "      <th>Carrossel</th>\n",
       "      <th>Interacoes</th>\n",
       "    </tr>\n",
       "  </thead>\n",
       "  <tbody>\n",
       "    <tr>\n",
       "      <th>0</th>\n",
       "      <td>Foto</td>\n",
       "      <td>2021-09-11</td>\n",
       "      <td>2858</td>\n",
       "      <td>16</td>\n",
       "      <td>Loja</td>\n",
       "      <td>N</td>\n",
       "      <td>N</td>\n",
       "      <td>NaN</td>\n",
       "      <td>2874</td>\n",
       "    </tr>\n",
       "    <tr>\n",
       "      <th>1</th>\n",
       "      <td>Foto</td>\n",
       "      <td>2021-09-11</td>\n",
       "      <td>2930</td>\n",
       "      <td>28</td>\n",
       "      <td>Loja/Produtos</td>\n",
       "      <td>N</td>\n",
       "      <td>N</td>\n",
       "      <td>NaN</td>\n",
       "      <td>2958</td>\n",
       "    </tr>\n",
       "    <tr>\n",
       "      <th>2</th>\n",
       "      <td>Foto</td>\n",
       "      <td>2021-09-11</td>\n",
       "      <td>2807</td>\n",
       "      <td>9</td>\n",
       "      <td>Loja</td>\n",
       "      <td>N</td>\n",
       "      <td>N</td>\n",
       "      <td>NaN</td>\n",
       "      <td>2816</td>\n",
       "    </tr>\n",
       "    <tr>\n",
       "      <th>3</th>\n",
       "      <td>Vídeo</td>\n",
       "      <td>2021-09-12</td>\n",
       "      <td>5115</td>\n",
       "      <td>49</td>\n",
       "      <td>Produtos</td>\n",
       "      <td>N</td>\n",
       "      <td>N</td>\n",
       "      <td>NaN</td>\n",
       "      <td>5164</td>\n",
       "    </tr>\n",
       "    <tr>\n",
       "      <th>4</th>\n",
       "      <td>Foto</td>\n",
       "      <td>2021-09-13</td>\n",
       "      <td>4392</td>\n",
       "      <td>45</td>\n",
       "      <td>Produtos</td>\n",
       "      <td>S</td>\n",
       "      <td>N</td>\n",
       "      <td>NaN</td>\n",
       "      <td>4437</td>\n",
       "    </tr>\n",
       "  </tbody>\n",
       "</table>\n",
       "</div>"
      ],
      "text/plain": [
       "    Tipo       Data  Curtidas  Comentários           Tags Pessoas Campanhas  \\\n",
       "0   Foto 2021-09-11      2858           16           Loja       N         N   \n",
       "1   Foto 2021-09-11      2930           28  Loja/Produtos       N         N   \n",
       "2   Foto 2021-09-11      2807            9           Loja       N         N   \n",
       "3  Vídeo 2021-09-12      5115           49       Produtos       N         N   \n",
       "4   Foto 2021-09-13      4392           45       Produtos       S         N   \n",
       "\n",
       "  Carrossel  Interacoes   \n",
       "0       NaN         2874  \n",
       "1       NaN         2958  \n",
       "2       NaN         2816  \n",
       "3       NaN         5164  \n",
       "4       NaN         4437  "
      ]
     },
     "execution_count": 8,
     "metadata": {},
     "output_type": "execute_result"
    }
   ],
   "source": [
    "# Filtrando os valores em que carrossel é nulo\n",
    "base.loc[base.Carrossel.isnull()].head()"
   ]
  },
  {
   "cell_type": "code",
   "execution_count": 9,
   "id": "e4fb594d",
   "metadata": {
    "executionInfo": {
     "elapsed": 457,
     "status": "aborted",
     "timestamp": 1656531613869,
     "user": {
      "displayName": "Lucas Leal",
      "userId": "11399223107874428450"
     },
     "user_tz": 180
    },
    "id": "e4fb594d"
   },
   "outputs": [
    {
     "data": {
      "text/html": [
       "<div>\n",
       "<style scoped>\n",
       "    .dataframe tbody tr th:only-of-type {\n",
       "        vertical-align: middle;\n",
       "    }\n",
       "\n",
       "    .dataframe tbody tr th {\n",
       "        vertical-align: top;\n",
       "    }\n",
       "\n",
       "    .dataframe thead th {\n",
       "        text-align: right;\n",
       "    }\n",
       "</style>\n",
       "<table border=\"1\" class=\"dataframe\">\n",
       "  <thead>\n",
       "    <tr style=\"text-align: right;\">\n",
       "      <th></th>\n",
       "      <th>Tipo</th>\n",
       "      <th>Data</th>\n",
       "      <th>Curtidas</th>\n",
       "      <th>Comentários</th>\n",
       "      <th>Tags</th>\n",
       "      <th>Pessoas</th>\n",
       "      <th>Campanhas</th>\n",
       "      <th>Carrossel</th>\n",
       "      <th>Interacoes</th>\n",
       "    </tr>\n",
       "  </thead>\n",
       "  <tbody>\n",
       "    <tr>\n",
       "      <th>5</th>\n",
       "      <td>Foto</td>\n",
       "      <td>2021-09-17</td>\n",
       "      <td>5359</td>\n",
       "      <td>62</td>\n",
       "      <td>Novos Produtos</td>\n",
       "      <td>N</td>\n",
       "      <td>S</td>\n",
       "      <td>S</td>\n",
       "      <td>5421</td>\n",
       "    </tr>\n",
       "    <tr>\n",
       "      <th>8</th>\n",
       "      <td>Foto</td>\n",
       "      <td>2021-09-27</td>\n",
       "      <td>6355</td>\n",
       "      <td>89</td>\n",
       "      <td>Produtos</td>\n",
       "      <td>S</td>\n",
       "      <td>N</td>\n",
       "      <td>S</td>\n",
       "      <td>6444</td>\n",
       "    </tr>\n",
       "    <tr>\n",
       "      <th>12</th>\n",
       "      <td>Foto</td>\n",
       "      <td>2021-10-21</td>\n",
       "      <td>6166</td>\n",
       "      <td>55</td>\n",
       "      <td>Novos Produtos</td>\n",
       "      <td>S</td>\n",
       "      <td>S</td>\n",
       "      <td>S</td>\n",
       "      <td>6221</td>\n",
       "    </tr>\n",
       "    <tr>\n",
       "      <th>21</th>\n",
       "      <td>Foto</td>\n",
       "      <td>2021-12-23</td>\n",
       "      <td>8328</td>\n",
       "      <td>93</td>\n",
       "      <td>Produtos</td>\n",
       "      <td>S</td>\n",
       "      <td>N</td>\n",
       "      <td>S</td>\n",
       "      <td>8421</td>\n",
       "    </tr>\n",
       "    <tr>\n",
       "      <th>25</th>\n",
       "      <td>Foto</td>\n",
       "      <td>2022-01-02</td>\n",
       "      <td>12193</td>\n",
       "      <td>138</td>\n",
       "      <td>Novos Produtos</td>\n",
       "      <td>S</td>\n",
       "      <td>N</td>\n",
       "      <td>S</td>\n",
       "      <td>12331</td>\n",
       "    </tr>\n",
       "  </tbody>\n",
       "</table>\n",
       "</div>"
      ],
      "text/plain": [
       "    Tipo       Data  Curtidas  Comentários            Tags Pessoas Campanhas  \\\n",
       "5   Foto 2021-09-17      5359           62  Novos Produtos       N         S   \n",
       "8   Foto 2021-09-27      6355           89        Produtos       S         N   \n",
       "12  Foto 2021-10-21      6166           55  Novos Produtos       S         S   \n",
       "21  Foto 2021-12-23      8328           93        Produtos       S         N   \n",
       "25  Foto 2022-01-02     12193          138  Novos Produtos       S         N   \n",
       "\n",
       "   Carrossel  Interacoes   \n",
       "5          S         5421  \n",
       "8          S         6444  \n",
       "12         S         6221  \n",
       "21         S         8421  \n",
       "25         S        12331  "
      ]
     },
     "execution_count": 9,
     "metadata": {},
     "output_type": "execute_result"
    }
   ],
   "source": [
    "# Buscando valores que NAO sao nulos\n",
    "base.loc[base.Carrossel.notnull()].head()"
   ]
  },
  {
   "cell_type": "code",
   "execution_count": 10,
   "id": "1bfd8de9",
   "metadata": {
    "executionInfo": {
     "elapsed": 3,
     "status": "aborted",
     "timestamp": 1656531613869,
     "user": {
      "displayName": "Lucas Leal",
      "userId": "11399223107874428450"
     },
     "user_tz": 180
    },
    "id": "1bfd8de9"
   },
   "outputs": [
    {
     "data": {
      "text/plain": [
       "0    NaN\n",
       "1    NaN\n",
       "2    NaN\n",
       "3    NaN\n",
       "4    NaN\n",
       "Name: Carrossel, dtype: object"
      ]
     },
     "execution_count": 10,
     "metadata": {},
     "output_type": "execute_result"
    }
   ],
   "source": [
    "# Selecionando apenas a coluna Carrossel\n",
    "base.loc[base.Carrossel.isnull(),\"Carrossel\"].head()"
   ]
  },
  {
   "cell_type": "code",
   "execution_count": 11,
   "id": "5cad67e6",
   "metadata": {
    "id": "5cad67e6"
   },
   "outputs": [],
   "source": [
    "# Agora vamos atribuir o valor N para essa coluna\n",
    "base.loc[base.Carrossel.isnull(),\"Carrossel\"] = \"N\""
   ]
  },
  {
   "cell_type": "code",
   "execution_count": 12,
   "id": "709c8e41",
   "metadata": {
    "id": "709c8e41",
    "outputId": "24a4e93b-5d36-41cd-993a-7d40bfb3c790"
   },
   "outputs": [
    {
     "data": {
      "text/html": [
       "<div>\n",
       "<style scoped>\n",
       "    .dataframe tbody tr th:only-of-type {\n",
       "        vertical-align: middle;\n",
       "    }\n",
       "\n",
       "    .dataframe tbody tr th {\n",
       "        vertical-align: top;\n",
       "    }\n",
       "\n",
       "    .dataframe thead th {\n",
       "        text-align: right;\n",
       "    }\n",
       "</style>\n",
       "<table border=\"1\" class=\"dataframe\">\n",
       "  <thead>\n",
       "    <tr style=\"text-align: right;\">\n",
       "      <th></th>\n",
       "      <th>Tipo</th>\n",
       "      <th>Data</th>\n",
       "      <th>Curtidas</th>\n",
       "      <th>Comentários</th>\n",
       "      <th>Tags</th>\n",
       "      <th>Pessoas</th>\n",
       "      <th>Campanhas</th>\n",
       "      <th>Carrossel</th>\n",
       "      <th>Interacoes</th>\n",
       "    </tr>\n",
       "  </thead>\n",
       "  <tbody>\n",
       "    <tr>\n",
       "      <th>0</th>\n",
       "      <td>Foto</td>\n",
       "      <td>2021-09-11</td>\n",
       "      <td>2858</td>\n",
       "      <td>16</td>\n",
       "      <td>Loja</td>\n",
       "      <td>N</td>\n",
       "      <td>N</td>\n",
       "      <td>N</td>\n",
       "      <td>2874</td>\n",
       "    </tr>\n",
       "    <tr>\n",
       "      <th>1</th>\n",
       "      <td>Foto</td>\n",
       "      <td>2021-09-11</td>\n",
       "      <td>2930</td>\n",
       "      <td>28</td>\n",
       "      <td>Loja/Produtos</td>\n",
       "      <td>N</td>\n",
       "      <td>N</td>\n",
       "      <td>N</td>\n",
       "      <td>2958</td>\n",
       "    </tr>\n",
       "    <tr>\n",
       "      <th>2</th>\n",
       "      <td>Foto</td>\n",
       "      <td>2021-09-11</td>\n",
       "      <td>2807</td>\n",
       "      <td>9</td>\n",
       "      <td>Loja</td>\n",
       "      <td>N</td>\n",
       "      <td>N</td>\n",
       "      <td>N</td>\n",
       "      <td>2816</td>\n",
       "    </tr>\n",
       "  </tbody>\n",
       "</table>\n",
       "</div>"
      ],
      "text/plain": [
       "   Tipo       Data  Curtidas  Comentários           Tags Pessoas Campanhas  \\\n",
       "0  Foto 2021-09-11      2858           16           Loja       N         N   \n",
       "1  Foto 2021-09-11      2930           28  Loja/Produtos       N         N   \n",
       "2  Foto 2021-09-11      2807            9           Loja       N         N   \n",
       "\n",
       "  Carrossel  Interacoes   \n",
       "0         N         2874  \n",
       "1         N         2958  \n",
       "2         N         2816  "
      ]
     },
     "execution_count": 12,
     "metadata": {},
     "output_type": "execute_result"
    }
   ],
   "source": [
    "base.head()"
   ]
  },
  {
   "cell_type": "code",
   "execution_count": 13,
   "id": "f8e58faa",
   "metadata": {
    "id": "f8e58faa",
    "outputId": "6919d2dc-bb10-438e-dd48-40d767cd639f"
   },
   "outputs": [
    {
     "data": {
      "text/html": [
       "<div>\n",
       "<style scoped>\n",
       "    .dataframe tbody tr th:only-of-type {\n",
       "        vertical-align: middle;\n",
       "    }\n",
       "\n",
       "    .dataframe tbody tr th {\n",
       "        vertical-align: top;\n",
       "    }\n",
       "\n",
       "    .dataframe thead th {\n",
       "        text-align: right;\n",
       "    }\n",
       "</style>\n",
       "<table border=\"1\" class=\"dataframe\">\n",
       "  <thead>\n",
       "    <tr style=\"text-align: right;\">\n",
       "      <th></th>\n",
       "      <th>Tipo</th>\n",
       "      <th>Data</th>\n",
       "      <th>Curtidas</th>\n",
       "      <th>Comentários</th>\n",
       "      <th>Tags</th>\n",
       "      <th>Pessoas</th>\n",
       "      <th>Campanhas</th>\n",
       "      <th>Carrossel</th>\n",
       "      <th>Interacoes</th>\n",
       "    </tr>\n",
       "  </thead>\n",
       "  <tbody>\n",
       "  </tbody>\n",
       "</table>\n",
       "</div>"
      ],
      "text/plain": [
       "Empty DataFrame\n",
       "Columns: [Tipo, Data, Curtidas, Comentários, Tags, Pessoas, Campanhas, Carrossel, Interacoes ]\n",
       "Index: []"
      ]
     },
     "execution_count": 13,
     "metadata": {},
     "output_type": "execute_result"
    }
   ],
   "source": [
    "# Filtrando os valores em que carrossel é nulo\n",
    "base.loc[base.Carrossel.isnull()].head()"
   ]
  },
  {
   "cell_type": "code",
   "execution_count": 14,
   "id": "a6e49ff3",
   "metadata": {
    "id": "a6e49ff3",
    "outputId": "3f4ce406-1bf0-4ebe-9592-2af54c694dd9"
   },
   "outputs": [
    {
     "name": "stdout",
     "output_type": "stream",
     "text": [
      "<class 'pandas.core.frame.DataFrame'>\n",
      "RangeIndex: 52 entries, 0 to 51\n",
      "Data columns (total 9 columns):\n",
      " #   Column       Non-Null Count  Dtype         \n",
      "---  ------       --------------  -----         \n",
      " 0   Tipo         52 non-null     object        \n",
      " 1   Data         52 non-null     datetime64[ns]\n",
      " 2   Curtidas     52 non-null     int64         \n",
      " 3   Comentários  52 non-null     int64         \n",
      " 4   Tags         44 non-null     object        \n",
      " 5   Pessoas      52 non-null     object        \n",
      " 6   Campanhas    52 non-null     object        \n",
      " 7   Carrossel    52 non-null     object        \n",
      " 8   Interacoes   52 non-null     int64         \n",
      "dtypes: datetime64[ns](1), int64(3), object(5)\n",
      "memory usage: 3.8+ KB\n"
     ]
    }
   ],
   "source": [
    "base.info()"
   ]
  },
  {
   "cell_type": "markdown",
   "id": "8562970f",
   "metadata": {
    "id": "8562970f"
   },
   "source": [
    "**Verificando novamente os valores de Carrossel:**"
   ]
  },
  {
   "cell_type": "code",
   "execution_count": 15,
   "id": "0ece9ce3",
   "metadata": {
    "id": "0ece9ce3",
    "outputId": "fb2c7ad1-ebb4-47cc-9296-9b75676089fd"
   },
   "outputs": [
    {
     "data": {
      "text/plain": [
       "Carrossel\n",
       "N    44\n",
       "S     8\n",
       "Name: count, dtype: int64"
      ]
     },
     "execution_count": 15,
     "metadata": {},
     "output_type": "execute_result"
    }
   ],
   "source": [
    "# Verificando novamente os valores dessa coluna\n",
    "base.Carrossel.value_counts()"
   ]
  },
  {
   "cell_type": "markdown",
   "id": "521cb806",
   "metadata": {
    "id": "521cb806"
   },
   "source": [
    "### Mostrando as informações estatísticas"
   ]
  },
  {
   "cell_type": "code",
   "execution_count": null,
   "id": "63bf723b",
   "metadata": {
    "id": "63bf723b",
    "outputId": "5e41a1ca-c3af-4c8a-ede0-303ff7ff5763"
   },
   "outputs": [
    {
     "data": {
      "text/html": [
       "<div>\n",
       "<style scoped>\n",
       "    .dataframe tbody tr th:only-of-type {\n",
       "        vertical-align: middle;\n",
       "    }\n",
       "\n",
       "    .dataframe tbody tr th {\n",
       "        vertical-align: top;\n",
       "    }\n",
       "\n",
       "    .dataframe thead th {\n",
       "        text-align: right;\n",
       "    }\n",
       "</style>\n",
       "<table border=\"1\" class=\"dataframe\">\n",
       "  <thead>\n",
       "    <tr style=\"text-align: right;\">\n",
       "      <th></th>\n",
       "      <th>Curtidas</th>\n",
       "      <th>Comentários</th>\n",
       "      <th>Interacoes</th>\n",
       "    </tr>\n",
       "  </thead>\n",
       "  <tbody>\n",
       "    <tr>\n",
       "      <th>count</th>\n",
       "      <td>52.000000</td>\n",
       "      <td>52.000000</td>\n",
       "      <td>52.000000</td>\n",
       "    </tr>\n",
       "    <tr>\n",
       "      <th>mean</th>\n",
       "      <td>12262.730769</td>\n",
       "      <td>189.500000</td>\n",
       "      <td>12452.230769</td>\n",
       "    </tr>\n",
       "    <tr>\n",
       "      <th>std</th>\n",
       "      <td>8165.875326</td>\n",
       "      <td>170.687709</td>\n",
       "      <td>8299.390088</td>\n",
       "    </tr>\n",
       "    <tr>\n",
       "      <th>min</th>\n",
       "      <td>2807.000000</td>\n",
       "      <td>9.000000</td>\n",
       "      <td>2816.000000</td>\n",
       "    </tr>\n",
       "    <tr>\n",
       "      <th>25%</th>\n",
       "      <td>5492.000000</td>\n",
       "      <td>69.500000</td>\n",
       "      <td>5562.500000</td>\n",
       "    </tr>\n",
       "    <tr>\n",
       "      <th>50%</th>\n",
       "      <td>9603.000000</td>\n",
       "      <td>128.000000</td>\n",
       "      <td>9773.500000</td>\n",
       "    </tr>\n",
       "    <tr>\n",
       "      <th>75%</th>\n",
       "      <td>17621.750000</td>\n",
       "      <td>265.250000</td>\n",
       "      <td>17920.750000</td>\n",
       "    </tr>\n",
       "    <tr>\n",
       "      <th>max</th>\n",
       "      <td>37351.000000</td>\n",
       "      <td>852.000000</td>\n",
       "      <td>37853.000000</td>\n",
       "    </tr>\n",
       "  </tbody>\n",
       "</table>\n",
       "</div>"
      ],
      "text/plain": [
       "           Curtidas  Comentários   Interacoes \n",
       "count     52.000000    52.000000     52.000000\n",
       "mean   12262.730769   189.500000  12452.230769\n",
       "std     8165.875326   170.687709   8299.390088\n",
       "min     2807.000000     9.000000   2816.000000\n",
       "25%     5492.000000    69.500000   5562.500000\n",
       "50%     9603.000000   128.000000   9773.500000\n",
       "75%    17621.750000   265.250000  17920.750000\n",
       "max    37351.000000   852.000000  37853.000000"
      ]
     },
     "execution_count": 19,
     "metadata": {},
     "output_type": "execute_result"
    }
   ],
   "source": [
    "# Descrição estatística da base\n",
    "base.describe()"
   ]
  },
  {
   "cell_type": "markdown",
   "id": "2f15ac81",
   "metadata": {
    "id": "2f15ac81"
   },
   "source": [
    "### Visualizando essas informações de maneira gráfica"
   ]
  },
  {
   "cell_type": "code",
   "execution_count": null,
   "id": "879e04e5",
   "metadata": {
    "id": "879e04e5",
    "outputId": "3d25c66e-810a-4e78-9194-53c40fcabc58"
   },
   "outputs": [
    {
     "data": {
      "image/png": "[encoded data removed]",
      "text/plain": [
       "<Figure size 1008x576 with 1 Axes>"
      ]
     },
     "metadata": {
      "needs_background": "light"
     },
     "output_type": "display_data"
    }
   ],
   "source": [
    "# Um gráfico de dispersão ajudaria a entender melhor curtidas e comentários\n",
    "base.plot(kind=\"scatter\",x=\"Data\",y=\"Curtidas\",figsize=(14,8));"
   ]
  },
  {
   "cell_type": "markdown",
   "id": "dc2bfa7a",
   "metadata": {
    "id": "dc2bfa7a"
   },
   "source": [
    "### Vamos pegar os 5 primeiros registros com mais e menos curtidas"
   ]
  },
  {
   "cell_type": "code",
   "execution_count": null,
   "id": "b7b33b91",
   "metadata": {
    "id": "b7b33b91",
    "outputId": "2d0642d9-0af5-4323-8e43-4969492c3322"
   },
   "outputs": [
    {
     "data": {
      "text/html": [
       "<div>\n",
       "<style scoped>\n",
       "    .dataframe tbody tr th:only-of-type {\n",
       "        vertical-align: middle;\n",
       "    }\n",
       "\n",
       "    .dataframe tbody tr th {\n",
       "        vertical-align: top;\n",
       "    }\n",
       "\n",
       "    .dataframe thead th {\n",
       "        text-align: right;\n",
       "    }\n",
       "</style>\n",
       "<table border=\"1\" class=\"dataframe\">\n",
       "  <thead>\n",
       "    <tr style=\"text-align: right;\">\n",
       "      <th></th>\n",
       "      <th>Tipo</th>\n",
       "      <th>Data</th>\n",
       "      <th>Curtidas</th>\n",
       "      <th>Comentários</th>\n",
       "      <th>Tags</th>\n",
       "      <th>Pessoas</th>\n",
       "      <th>Campanhas</th>\n",
       "      <th>Carrossel</th>\n",
       "      <th>Interacoes</th>\n",
       "    </tr>\n",
       "  </thead>\n",
       "  <tbody>\n",
       "    <tr>\n",
       "      <th>39</th>\n",
       "      <td>Foto</td>\n",
       "      <td>2022-02-17</td>\n",
       "      <td>37351</td>\n",
       "      <td>502</td>\n",
       "      <td>Promoções</td>\n",
       "      <td>S</td>\n",
       "      <td>S</td>\n",
       "      <td>N</td>\n",
       "      <td>37853</td>\n",
       "    </tr>\n",
       "    <tr>\n",
       "      <th>30</th>\n",
       "      <td>Reels</td>\n",
       "      <td>2022-01-24</td>\n",
       "      <td>29981</td>\n",
       "      <td>502</td>\n",
       "      <td>Trends</td>\n",
       "      <td>S</td>\n",
       "      <td>S</td>\n",
       "      <td>N</td>\n",
       "      <td>30483</td>\n",
       "    </tr>\n",
       "    <tr>\n",
       "      <th>48</th>\n",
       "      <td>Foto</td>\n",
       "      <td>2022-03-20</td>\n",
       "      <td>29084</td>\n",
       "      <td>479</td>\n",
       "      <td>Datas comemorativas/Promoções</td>\n",
       "      <td>S</td>\n",
       "      <td>S</td>\n",
       "      <td>N</td>\n",
       "      <td>29563</td>\n",
       "    </tr>\n",
       "    <tr>\n",
       "      <th>33</th>\n",
       "      <td>Foto</td>\n",
       "      <td>2022-02-06</td>\n",
       "      <td>24655</td>\n",
       "      <td>186</td>\n",
       "      <td>Influenciadores</td>\n",
       "      <td>S</td>\n",
       "      <td>S</td>\n",
       "      <td>N</td>\n",
       "      <td>24841</td>\n",
       "    </tr>\n",
       "    <tr>\n",
       "      <th>26</th>\n",
       "      <td>Foto</td>\n",
       "      <td>2022-01-08</td>\n",
       "      <td>24585</td>\n",
       "      <td>354</td>\n",
       "      <td>Datas comemorativas</td>\n",
       "      <td>S</td>\n",
       "      <td>S</td>\n",
       "      <td>S</td>\n",
       "      <td>24939</td>\n",
       "    </tr>\n",
       "  </tbody>\n",
       "</table>\n",
       "</div>"
      ],
      "text/plain": [
       "     Tipo       Data  Curtidas  Comentários                           Tags  \\\n",
       "39   Foto 2022-02-17     37351          502                      Promoções   \n",
       "30  Reels 2022-01-24     29981          502                         Trends   \n",
       "48   Foto 2022-03-20     29084          479  Datas comemorativas/Promoções   \n",
       "33   Foto 2022-02-06     24655          186                Influenciadores   \n",
       "26   Foto 2022-01-08     24585          354            Datas comemorativas   \n",
       "\n",
       "   Pessoas Campanhas Carrossel  Interacoes   \n",
       "39       S         S         N        37853  \n",
       "30       S         S         N        30483  \n",
       "48       S         S         N        29563  \n",
       "33       S         S         N        24841  \n",
       "26       S         S         S        24939  "
      ]
     },
     "execution_count": 23,
     "metadata": {},
     "output_type": "execute_result"
    }
   ],
   "source": [
    "# Ordenando os valores\n",
    "base.sort_values(by=\"Curtidas\",ascending=False).head()"
   ]
  },
  {
   "cell_type": "code",
   "execution_count": null,
   "id": "ca9fd6d2",
   "metadata": {
    "id": "ca9fd6d2",
    "outputId": "337a5db5-f4a6-4e97-9175-7ab4a667215a"
   },
   "outputs": [
    {
     "data": {
      "text/html": [
       "<div>\n",
       "<style scoped>\n",
       "    .dataframe tbody tr th:only-of-type {\n",
       "        vertical-align: middle;\n",
       "    }\n",
       "\n",
       "    .dataframe tbody tr th {\n",
       "        vertical-align: top;\n",
       "    }\n",
       "\n",
       "    .dataframe thead th {\n",
       "        text-align: right;\n",
       "    }\n",
       "</style>\n",
       "<table border=\"1\" class=\"dataframe\">\n",
       "  <thead>\n",
       "    <tr style=\"text-align: right;\">\n",
       "      <th></th>\n",
       "      <th>Tipo</th>\n",
       "      <th>Data</th>\n",
       "      <th>Curtidas</th>\n",
       "      <th>Comentários</th>\n",
       "      <th>Tags</th>\n",
       "      <th>Pessoas</th>\n",
       "      <th>Campanhas</th>\n",
       "      <th>Carrossel</th>\n",
       "      <th>Interacoes</th>\n",
       "    </tr>\n",
       "  </thead>\n",
       "  <tbody>\n",
       "    <tr>\n",
       "      <th>17</th>\n",
       "      <td>Vídeo</td>\n",
       "      <td>2021-11-09</td>\n",
       "      <td>3213</td>\n",
       "      <td>60</td>\n",
       "      <td>Produtos</td>\n",
       "      <td>N</td>\n",
       "      <td>N</td>\n",
       "      <td>N</td>\n",
       "      <td>3273</td>\n",
       "    </tr>\n",
       "    <tr>\n",
       "      <th>1</th>\n",
       "      <td>Foto</td>\n",
       "      <td>2021-09-11</td>\n",
       "      <td>2930</td>\n",
       "      <td>28</td>\n",
       "      <td>Loja/Produtos</td>\n",
       "      <td>N</td>\n",
       "      <td>N</td>\n",
       "      <td>N</td>\n",
       "      <td>2958</td>\n",
       "    </tr>\n",
       "    <tr>\n",
       "      <th>20</th>\n",
       "      <td>Foto</td>\n",
       "      <td>2021-12-16</td>\n",
       "      <td>2881</td>\n",
       "      <td>29</td>\n",
       "      <td>Produtos</td>\n",
       "      <td>N</td>\n",
       "      <td>N</td>\n",
       "      <td>N</td>\n",
       "      <td>2910</td>\n",
       "    </tr>\n",
       "    <tr>\n",
       "      <th>0</th>\n",
       "      <td>Foto</td>\n",
       "      <td>2021-09-11</td>\n",
       "      <td>2858</td>\n",
       "      <td>16</td>\n",
       "      <td>Loja</td>\n",
       "      <td>N</td>\n",
       "      <td>N</td>\n",
       "      <td>N</td>\n",
       "      <td>2874</td>\n",
       "    </tr>\n",
       "    <tr>\n",
       "      <th>2</th>\n",
       "      <td>Foto</td>\n",
       "      <td>2021-09-11</td>\n",
       "      <td>2807</td>\n",
       "      <td>9</td>\n",
       "      <td>Loja</td>\n",
       "      <td>N</td>\n",
       "      <td>N</td>\n",
       "      <td>N</td>\n",
       "      <td>2816</td>\n",
       "    </tr>\n",
       "  </tbody>\n",
       "</table>\n",
       "</div>"
      ],
      "text/plain": [
       "     Tipo       Data  Curtidas  Comentários           Tags Pessoas Campanhas  \\\n",
       "17  Vídeo 2021-11-09      3213           60       Produtos       N         N   \n",
       "1    Foto 2021-09-11      2930           28  Loja/Produtos       N         N   \n",
       "20   Foto 2021-12-16      2881           29       Produtos       N         N   \n",
       "0    Foto 2021-09-11      2858           16           Loja       N         N   \n",
       "2    Foto 2021-09-11      2807            9           Loja       N         N   \n",
       "\n",
       "   Carrossel  Interacoes   \n",
       "17         N         3273  \n",
       "1          N         2958  \n",
       "20         N         2910  \n",
       "0          N         2874  \n",
       "2          N         2816  "
      ]
     },
     "execution_count": 24,
     "metadata": {},
     "output_type": "execute_result"
    }
   ],
   "source": [
    "# Selecionando os 5 últimos valores \n",
    "base.sort_values(by=\"Curtidas\",ascending=False).tail()"
   ]
  },
  {
   "cell_type": "markdown",
   "id": "2fd47ab7",
   "metadata": {
    "id": "2fd47ab7"
   },
   "source": [
    "- Podemos observar que no top 5 todas as postagens tinham pessoas e eram fotos de campanha\n",
    "- Nas 5 piores postagens, não haviam pessoas e nem eram postagens de campanhas\n",
    "<br><br>\n",
    "- **Isso pode ser um indicador que pessoas e campanhas tem relação com as curtidas**"
   ]
  },
  {
   "cell_type": "markdown",
   "id": "4e84b5bb",
   "metadata": {
    "id": "4e84b5bb"
   },
   "source": [
    "### Vamos usar o <font color=\"blue\">group by</font> para entender melhor os dados"
   ]
  },
  {
   "cell_type": "code",
   "execution_count": 16,
   "id": "d680955b",
   "metadata": {
    "id": "d680955b"
   },
   "outputs": [],
   "source": [
    "# Para melhorar a visualização, vamos criar um padrão no formato dos valores\n",
    "pd.options.display.float_format = '{:,.2f}'.format"
   ]
  },
  {
   "cell_type": "code",
   "execution_count": null,
   "id": "750387f0",
   "metadata": {
    "id": "750387f0",
    "outputId": "a84856f9-7f86-4683-dfcc-96464341fb4b"
   },
   "outputs": [
    {
     "data": {
      "text/plain": [
       "Pessoas\n",
       "N    12\n",
       "S    40\n",
       "Name: Comentários, dtype: int64"
      ]
     },
     "execution_count": 44,
     "metadata": {},
     "output_type": "execute_result"
    }
   ],
   "source": [
    "# Agrupando as informações por tipo\n",
    "base.groupby(\"Pessoas\")[\"Comentários\"].count()"
   ]
  },
  {
   "cell_type": "markdown",
   "id": "90e39d7c",
   "metadata": {
    "id": "90e39d7c"
   },
   "source": [
    "- **Nesse caso pode parecer que vídeo e IGTV são estratégias ruins que não devem ser usadas**"
   ]
  },
  {
   "cell_type": "markdown",
   "id": "39af57a8",
   "metadata": {
    "id": "39af57a8"
   },
   "source": [
    "**Inclusive é possível agregar por mais de 1 coluna:** <br>"
   ]
  },
  {
   "cell_type": "code",
   "execution_count": null,
   "id": "99284f8f",
   "metadata": {
    "id": "99284f8f",
    "outputId": "81d48c8c-adfb-40a2-dba1-eceab12b2e4a"
   },
   "outputs": [
    {
     "data": {
      "text/plain": [
       "Tipo   Pessoas\n",
       "Foto   N          3,863.50\n",
       "       S         15,236.67\n",
       "IGTV   S          6,833.40\n",
       "Reels  N          5,934.50\n",
       "       S         20,832.00\n",
       "Vídeo  N          4,007.50\n",
       "       S         16,409.50\n",
       "Name: Curtidas, dtype: float64"
      ]
     },
     "execution_count": 45,
     "metadata": {},
     "output_type": "execute_result"
    }
   ],
   "source": [
    "# Agrupando por Tipo e Pessoas\n",
    "base.groupby([\"Tipo\",\"Pessoas\"])[\"Curtidas\"].mean()"
   ]
  },
  {
   "cell_type": "markdown",
   "id": "c88797d5",
   "metadata": {
    "id": "c88797d5"
   },
   "source": [
    "**E também aplicar a função de agregação em várias outras colunas:** <br>"
   ]
  },
  {
   "cell_type": "code",
   "execution_count": null,
   "id": "5929ada6",
   "metadata": {
    "id": "5929ada6",
    "outputId": "80069f29-b930-4d23-eb65-d9fb5b94b2e1"
   },
   "outputs": [
    {
     "data": {
      "text/html": [
       "<div>\n",
       "<style scoped>\n",
       "    .dataframe tbody tr th:only-of-type {\n",
       "        vertical-align: middle;\n",
       "    }\n",
       "\n",
       "    .dataframe tbody tr th {\n",
       "        vertical-align: top;\n",
       "    }\n",
       "\n",
       "    .dataframe thead th {\n",
       "        text-align: right;\n",
       "    }\n",
       "</style>\n",
       "<table border=\"1\" class=\"dataframe\">\n",
       "  <thead>\n",
       "    <tr style=\"text-align: right;\">\n",
       "      <th></th>\n",
       "      <th></th>\n",
       "      <th>Curtidas</th>\n",
       "      <th>Comentários</th>\n",
       "    </tr>\n",
       "    <tr>\n",
       "      <th>Tipo</th>\n",
       "      <th>Pessoas</th>\n",
       "      <th></th>\n",
       "      <th></th>\n",
       "    </tr>\n",
       "  </thead>\n",
       "  <tbody>\n",
       "    <tr>\n",
       "      <th rowspan=\"2\" valign=\"top\">Foto</th>\n",
       "      <th>N</th>\n",
       "      <td>3,863.50</td>\n",
       "      <td>29.50</td>\n",
       "    </tr>\n",
       "    <tr>\n",
       "      <th>S</th>\n",
       "      <td>15,236.67</td>\n",
       "      <td>226.20</td>\n",
       "    </tr>\n",
       "    <tr>\n",
       "      <th>IGTV</th>\n",
       "      <th>S</th>\n",
       "      <td>6,833.40</td>\n",
       "      <td>133.60</td>\n",
       "    </tr>\n",
       "    <tr>\n",
       "      <th rowspan=\"2\" valign=\"top\">Reels</th>\n",
       "      <th>N</th>\n",
       "      <td>5,934.50</td>\n",
       "      <td>98.00</td>\n",
       "    </tr>\n",
       "    <tr>\n",
       "      <th>S</th>\n",
       "      <td>20,832.00</td>\n",
       "      <td>342.00</td>\n",
       "    </tr>\n",
       "    <tr>\n",
       "      <th rowspan=\"2\" valign=\"top\">Vídeo</th>\n",
       "      <th>N</th>\n",
       "      <td>4,007.50</td>\n",
       "      <td>65.25</td>\n",
       "    </tr>\n",
       "    <tr>\n",
       "      <th>S</th>\n",
       "      <td>16,409.50</td>\n",
       "      <td>370.00</td>\n",
       "    </tr>\n",
       "  </tbody>\n",
       "</table>\n",
       "</div>"
      ],
      "text/plain": [
       "               Curtidas  Comentários\n",
       "Tipo  Pessoas                       \n",
       "Foto  N        3,863.50        29.50\n",
       "      S       15,236.67       226.20\n",
       "IGTV  S        6,833.40       133.60\n",
       "Reels N        5,934.50        98.00\n",
       "      S       20,832.00       342.00\n",
       "Vídeo N        4,007.50        65.25\n",
       "      S       16,409.50       370.00"
      ]
     },
     "execution_count": 49,
     "metadata": {},
     "output_type": "execute_result"
    }
   ],
   "source": [
    "base.groupby([\"Tipo\",\"Pessoas\"])[[\"Curtidas\",'Comentários']].mean()"
   ]
  },
  {
   "cell_type": "code",
   "execution_count": null,
   "id": "c6ae189f",
   "metadata": {
    "id": "c6ae189f",
    "outputId": "5a49b5c6-4c1f-454c-ab03-7da05a0020d9"
   },
   "outputs": [
    {
     "data": {
      "text/html": [
       "<div>\n",
       "<style scoped>\n",
       "    .dataframe tbody tr th:only-of-type {\n",
       "        vertical-align: middle;\n",
       "    }\n",
       "\n",
       "    .dataframe tbody tr th {\n",
       "        vertical-align: top;\n",
       "    }\n",
       "\n",
       "    .dataframe thead th {\n",
       "        text-align: right;\n",
       "    }\n",
       "</style>\n",
       "<table border=\"1\" class=\"dataframe\">\n",
       "  <thead>\n",
       "    <tr style=\"text-align: right;\">\n",
       "      <th></th>\n",
       "      <th></th>\n",
       "      <th></th>\n",
       "      <th>Curtidas</th>\n",
       "      <th>Comentários</th>\n",
       "    </tr>\n",
       "    <tr>\n",
       "      <th>Tipo</th>\n",
       "      <th>Pessoas</th>\n",
       "      <th>Campanhas</th>\n",
       "      <th></th>\n",
       "      <th></th>\n",
       "    </tr>\n",
       "  </thead>\n",
       "  <tbody>\n",
       "    <tr>\n",
       "      <th rowspan=\"4\" valign=\"top\">Foto</th>\n",
       "      <th rowspan=\"2\" valign=\"top\">N</th>\n",
       "      <th>N</th>\n",
       "      <td>2,869.00</td>\n",
       "      <td>20.50</td>\n",
       "    </tr>\n",
       "    <tr>\n",
       "      <th>S</th>\n",
       "      <td>5,852.50</td>\n",
       "      <td>47.50</td>\n",
       "    </tr>\n",
       "    <tr>\n",
       "      <th rowspan=\"2\" valign=\"top\">S</th>\n",
       "      <th>N</th>\n",
       "      <td>10,815.29</td>\n",
       "      <td>159.93</td>\n",
       "    </tr>\n",
       "    <tr>\n",
       "      <th>S</th>\n",
       "      <td>19,105.38</td>\n",
       "      <td>284.19</td>\n",
       "    </tr>\n",
       "    <tr>\n",
       "      <th>IGTV</th>\n",
       "      <th>S</th>\n",
       "      <th>N</th>\n",
       "      <td>6,833.40</td>\n",
       "      <td>133.60</td>\n",
       "    </tr>\n",
       "    <tr>\n",
       "      <th rowspan=\"3\" valign=\"top\">Reels</th>\n",
       "      <th>N</th>\n",
       "      <th>N</th>\n",
       "      <td>5,934.50</td>\n",
       "      <td>98.00</td>\n",
       "    </tr>\n",
       "    <tr>\n",
       "      <th rowspan=\"2\" valign=\"top\">S</th>\n",
       "      <th>N</th>\n",
       "      <td>12,894.00</td>\n",
       "      <td>249.00</td>\n",
       "    </tr>\n",
       "    <tr>\n",
       "      <th>S</th>\n",
       "      <td>24,801.00</td>\n",
       "      <td>388.50</td>\n",
       "    </tr>\n",
       "    <tr>\n",
       "      <th rowspan=\"2\" valign=\"top\">Vídeo</th>\n",
       "      <th>N</th>\n",
       "      <th>N</th>\n",
       "      <td>4,007.50</td>\n",
       "      <td>65.25</td>\n",
       "    </tr>\n",
       "    <tr>\n",
       "      <th>S</th>\n",
       "      <th>S</th>\n",
       "      <td>16,409.50</td>\n",
       "      <td>370.00</td>\n",
       "    </tr>\n",
       "  </tbody>\n",
       "</table>\n",
       "</div>"
      ],
      "text/plain": [
       "                         Curtidas  Comentários\n",
       "Tipo  Pessoas Campanhas                       \n",
       "Foto  N       N          2,869.00        20.50\n",
       "              S          5,852.50        47.50\n",
       "      S       N         10,815.29       159.93\n",
       "              S         19,105.38       284.19\n",
       "IGTV  S       N          6,833.40       133.60\n",
       "Reels N       N          5,934.50        98.00\n",
       "      S       N         12,894.00       249.00\n",
       "              S         24,801.00       388.50\n",
       "Vídeo N       N          4,007.50        65.25\n",
       "      S       S         16,409.50       370.00"
      ]
     },
     "execution_count": 50,
     "metadata": {},
     "output_type": "execute_result"
    }
   ],
   "source": [
    "# Incluindo a coluna de campanhas\n",
    "base.groupby([\"Tipo\",\"Pessoas\",\"Campanhas\"])[[\"Curtidas\",'Comentários']].mean()"
   ]
  },
  {
   "cell_type": "markdown",
   "id": "3fdf4b0b",
   "metadata": {
    "id": "3fdf4b0b"
   },
   "source": [
    "**Podemos então fazer os agrupamentos que acharmos melhor para entender os nossos dados**"
   ]
  },
  {
   "cell_type": "code",
   "execution_count": null,
   "id": "8af88b91",
   "metadata": {
    "id": "8af88b91",
    "outputId": "ffc335b4-e0cd-4b4b-8749-6ca6496c459e"
   },
   "outputs": [
    {
     "data": {
      "text/html": [
       "<div>\n",
       "<style scoped>\n",
       "    .dataframe tbody tr th:only-of-type {\n",
       "        vertical-align: middle;\n",
       "    }\n",
       "\n",
       "    .dataframe tbody tr th {\n",
       "        vertical-align: top;\n",
       "    }\n",
       "\n",
       "    .dataframe thead th {\n",
       "        text-align: right;\n",
       "    }\n",
       "</style>\n",
       "<table border=\"1\" class=\"dataframe\">\n",
       "  <thead>\n",
       "    <tr style=\"text-align: right;\">\n",
       "      <th></th>\n",
       "      <th>Curtidas</th>\n",
       "      <th>Comentários</th>\n",
       "    </tr>\n",
       "    <tr>\n",
       "      <th>Pessoas</th>\n",
       "      <th></th>\n",
       "      <th></th>\n",
       "    </tr>\n",
       "  </thead>\n",
       "  <tbody>\n",
       "    <tr>\n",
       "      <th>N</th>\n",
       "      <td>4,256.67</td>\n",
       "      <td>52.83</td>\n",
       "    </tr>\n",
       "    <tr>\n",
       "      <th>S</th>\n",
       "      <td>14,664.55</td>\n",
       "      <td>230.50</td>\n",
       "    </tr>\n",
       "  </tbody>\n",
       "</table>\n",
       "</div>"
      ],
      "text/plain": [
       "         Curtidas  Comentários\n",
       "Pessoas                       \n",
       "N        4,256.67        52.83\n",
       "S       14,664.55       230.50"
      ]
     },
     "execution_count": 51,
     "metadata": {},
     "output_type": "execute_result"
    }
   ],
   "source": [
    "# Somente para pessoas\n",
    "base.groupby(\"Pessoas\")[[\"Curtidas\",'Comentários']].mean()"
   ]
  },
  {
   "cell_type": "markdown",
   "id": "56bfd702",
   "metadata": {
    "id": "56bfd702"
   },
   "source": [
    "- **Postagens com pessoas engajam muito mais para essa marca, sendo 3 vezes maior de quando não tem pessoas**"
   ]
  },
  {
   "cell_type": "code",
   "execution_count": null,
   "id": "e2c216ae",
   "metadata": {
    "id": "e2c216ae",
    "outputId": "1f3c12b9-d431-40b5-cb5b-8c1c1de5cb65"
   },
   "outputs": [
    {
     "data": {
      "text/html": [
       "<div>\n",
       "<style scoped>\n",
       "    .dataframe tbody tr th:only-of-type {\n",
       "        vertical-align: middle;\n",
       "    }\n",
       "\n",
       "    .dataframe tbody tr th {\n",
       "        vertical-align: top;\n",
       "    }\n",
       "\n",
       "    .dataframe thead th {\n",
       "        text-align: right;\n",
       "    }\n",
       "</style>\n",
       "<table border=\"1\" class=\"dataframe\">\n",
       "  <thead>\n",
       "    <tr style=\"text-align: right;\">\n",
       "      <th></th>\n",
       "      <th>Curtidas</th>\n",
       "      <th>Comentários</th>\n",
       "    </tr>\n",
       "    <tr>\n",
       "      <th>Campanhas</th>\n",
       "      <th></th>\n",
       "      <th></th>\n",
       "    </tr>\n",
       "  </thead>\n",
       "  <tbody>\n",
       "    <tr>\n",
       "      <th>N</th>\n",
       "      <td>7,928.33</td>\n",
       "      <td>123.17</td>\n",
       "    </tr>\n",
       "    <tr>\n",
       "      <th>S</th>\n",
       "      <td>18,173.27</td>\n",
       "      <td>279.95</td>\n",
       "    </tr>\n",
       "  </tbody>\n",
       "</table>\n",
       "</div>"
      ],
      "text/plain": [
       "           Curtidas  Comentários\n",
       "Campanhas                       \n",
       "N          7,928.33       123.17\n",
       "S         18,173.27       279.95"
      ]
     },
     "execution_count": 53,
     "metadata": {},
     "output_type": "execute_result"
    }
   ],
   "source": [
    "# Somente para campanhas\n",
    "base.groupby(\"Campanhas\")[[\"Curtidas\",'Comentários']].mean()"
   ]
  },
  {
   "cell_type": "markdown",
   "id": "d0ca1d20",
   "metadata": {
    "id": "d0ca1d20"
   },
   "source": [
    "- **Quando é uma postagem de campanha, o engajamento também é melhor!**"
   ]
  },
  {
   "cell_type": "code",
   "execution_count": null,
   "id": "840c0783",
   "metadata": {
    "id": "840c0783",
    "outputId": "c5bc3b8b-ae9d-45ca-8ad4-a081653175b6"
   },
   "outputs": [
    {
     "data": {
      "text/html": [
       "<div>\n",
       "<style scoped>\n",
       "    .dataframe tbody tr th:only-of-type {\n",
       "        vertical-align: middle;\n",
       "    }\n",
       "\n",
       "    .dataframe tbody tr th {\n",
       "        vertical-align: top;\n",
       "    }\n",
       "\n",
       "    .dataframe thead th {\n",
       "        text-align: right;\n",
       "    }\n",
       "</style>\n",
       "<table border=\"1\" class=\"dataframe\">\n",
       "  <thead>\n",
       "    <tr style=\"text-align: right;\">\n",
       "      <th></th>\n",
       "      <th>Curtidas</th>\n",
       "      <th>Comentários</th>\n",
       "    </tr>\n",
       "    <tr>\n",
       "      <th>Carrossel</th>\n",
       "      <th></th>\n",
       "      <th></th>\n",
       "    </tr>\n",
       "  </thead>\n",
       "  <tbody>\n",
       "    <tr>\n",
       "      <th>N</th>\n",
       "      <td>12,343.61</td>\n",
       "      <td>198.43</td>\n",
       "    </tr>\n",
       "    <tr>\n",
       "      <th>S</th>\n",
       "      <td>11,817.88</td>\n",
       "      <td>140.38</td>\n",
       "    </tr>\n",
       "  </tbody>\n",
       "</table>\n",
       "</div>"
      ],
      "text/plain": [
       "           Curtidas  Comentários\n",
       "Carrossel                       \n",
       "N         12,343.61       198.43\n",
       "S         11,817.88       140.38"
      ]
     },
     "execution_count": 56,
     "metadata": {},
     "output_type": "execute_result"
    }
   ],
   "source": [
    "# Carrossel sem filtrar a base -> ESTÁ ERRADO ESSA COMPARAÇÃO\n",
    "base.groupby(\"Carrossel\")[[\"Curtidas\",'Comentários']].mean()"
   ]
  },
  {
   "cell_type": "code",
   "execution_count": null,
   "id": "49a8cc25",
   "metadata": {
    "id": "49a8cc25",
    "outputId": "1a6060e0-79f8-4dd2-b6c8-bbc90f672144"
   },
   "outputs": [
    {
     "data": {
      "text/html": [
       "<div>\n",
       "<style scoped>\n",
       "    .dataframe tbody tr th:only-of-type {\n",
       "        vertical-align: middle;\n",
       "    }\n",
       "\n",
       "    .dataframe tbody tr th {\n",
       "        vertical-align: top;\n",
       "    }\n",
       "\n",
       "    .dataframe thead th {\n",
       "        text-align: right;\n",
       "    }\n",
       "</style>\n",
       "<table border=\"1\" class=\"dataframe\">\n",
       "  <thead>\n",
       "    <tr style=\"text-align: right;\">\n",
       "      <th></th>\n",
       "      <th>Curtidas</th>\n",
       "      <th>Comentários</th>\n",
       "    </tr>\n",
       "    <tr>\n",
       "      <th>Carrossel</th>\n",
       "      <th></th>\n",
       "      <th></th>\n",
       "    </tr>\n",
       "  </thead>\n",
       "  <tbody>\n",
       "    <tr>\n",
       "      <th>N</th>\n",
       "      <td>13,776.36</td>\n",
       "      <td>208.57</td>\n",
       "    </tr>\n",
       "    <tr>\n",
       "      <th>S</th>\n",
       "      <td>11,817.88</td>\n",
       "      <td>140.38</td>\n",
       "    </tr>\n",
       "  </tbody>\n",
       "</table>\n",
       "</div>"
      ],
      "text/plain": [
       "           Curtidas  Comentários\n",
       "Carrossel                       \n",
       "N         13,776.36       208.57\n",
       "S         11,817.88       140.38"
      ]
     },
     "execution_count": 57,
     "metadata": {},
     "output_type": "execute_result"
    }
   ],
   "source": [
    "# Podemos também filtrar a base\n",
    "base[base.Tipo == \"Foto\"].groupby([\"Carrossel\"])[[\"Curtidas\",\"Comentários\"]].mean()"
   ]
  },
  {
   "cell_type": "markdown",
   "id": "1b9a95df",
   "metadata": {
    "id": "1b9a95df"
   },
   "source": [
    "- **A média sem usar carrossel é melhor do que quando usamos, então não é algo que possa impactar tanto no resultado das mídias dessa empresa olhando inicialmente**\n",
    "    - Nesse caso devemos filtrar apenas as fotos pois só temos carrossel em fotos. Sem esse filtro estaríamos comparando coisas erradas"
   ]
  },
  {
   "cell_type": "markdown",
   "id": "6ee130c8",
   "metadata": {
    "id": "6ee130c8"
   },
   "source": [
    "**Colocando pessoas e campanhas juntos podemos ver como se dá essa diferença**"
   ]
  },
  {
   "cell_type": "code",
   "execution_count": null,
   "id": "3564fc5f",
   "metadata": {
    "id": "3564fc5f",
    "outputId": "a87e4005-b5c7-4734-c960-00c8e7b16e3c"
   },
   "outputs": [
    {
     "data": {
      "text/html": [
       "<div>\n",
       "<style scoped>\n",
       "    .dataframe tbody tr th:only-of-type {\n",
       "        vertical-align: middle;\n",
       "    }\n",
       "\n",
       "    .dataframe tbody tr th {\n",
       "        vertical-align: top;\n",
       "    }\n",
       "\n",
       "    .dataframe thead th {\n",
       "        text-align: right;\n",
       "    }\n",
       "</style>\n",
       "<table border=\"1\" class=\"dataframe\">\n",
       "  <thead>\n",
       "    <tr style=\"text-align: right;\">\n",
       "      <th></th>\n",
       "      <th></th>\n",
       "      <th>Curtidas</th>\n",
       "      <th>Comentários</th>\n",
       "    </tr>\n",
       "    <tr>\n",
       "      <th>Pessoas</th>\n",
       "      <th>Campanhas</th>\n",
       "      <th></th>\n",
       "      <th></th>\n",
       "    </tr>\n",
       "  </thead>\n",
       "  <tbody>\n",
       "    <tr>\n",
       "      <th rowspan=\"2\" valign=\"top\">N</th>\n",
       "      <th>N</th>\n",
       "      <td>3,937.50</td>\n",
       "      <td>53.90</td>\n",
       "    </tr>\n",
       "    <tr>\n",
       "      <th>S</th>\n",
       "      <td>5,852.50</td>\n",
       "      <td>47.50</td>\n",
       "    </tr>\n",
       "    <tr>\n",
       "      <th rowspan=\"2\" valign=\"top\">S</th>\n",
       "      <th>N</th>\n",
       "      <td>9,923.75</td>\n",
       "      <td>157.80</td>\n",
       "    </tr>\n",
       "    <tr>\n",
       "      <th>S</th>\n",
       "      <td>19,405.35</td>\n",
       "      <td>303.20</td>\n",
       "    </tr>\n",
       "  </tbody>\n",
       "</table>\n",
       "</div>"
      ],
      "text/plain": [
       "                   Curtidas  Comentários\n",
       "Pessoas Campanhas                       \n",
       "N       N          3,937.50        53.90\n",
       "        S          5,852.50        47.50\n",
       "S       N          9,923.75       157.80\n",
       "        S         19,405.35       303.20"
      ]
     },
     "execution_count": 59,
     "metadata": {},
     "output_type": "execute_result"
    }
   ],
   "source": [
    "# Agregando por pessoas e campanhas\n",
    "base.groupby([\"Pessoas\",\"Campanhas\"])[[\"Curtidas\",'Comentários']].mean()"
   ]
  },
  {
   "cell_type": "markdown",
   "id": "cd81ea9f",
   "metadata": {
    "id": "cd81ea9f"
   },
   "source": [
    "- **A média quando tem pessoas E é publicação de campanhas é de cerca de 19,4 mil curtidas, já quando é apenas pessoas (sem campanha passa para quase 10 mil e se não tiver pessoas chega no máximo a 5,9 mil mesmo em campanhas**\n",
    "<br><br>\n",
    "- **Nesse caso a gente já consegue mostrar para a empresa a importância de incluir pessoas usando os seus produtos, o que gera um aumento considerável no engajamento**"
   ]
  },
  {
   "cell_type": "code",
   "execution_count": null,
   "id": "35b56e69",
   "metadata": {
    "id": "35b56e69",
    "outputId": "8b39258b-285d-4c30-b2b0-2af28493c068"
   },
   "outputs": [
    {
     "data": {
      "text/html": [
       "<div>\n",
       "<style scoped>\n",
       "    .dataframe tbody tr th:only-of-type {\n",
       "        vertical-align: middle;\n",
       "    }\n",
       "\n",
       "    .dataframe tbody tr th {\n",
       "        vertical-align: top;\n",
       "    }\n",
       "\n",
       "    .dataframe thead th {\n",
       "        text-align: right;\n",
       "    }\n",
       "</style>\n",
       "<table border=\"1\" class=\"dataframe\">\n",
       "  <thead>\n",
       "    <tr style=\"text-align: right;\">\n",
       "      <th></th>\n",
       "      <th></th>\n",
       "      <th></th>\n",
       "      <th>Curtidas</th>\n",
       "      <th>Comentários</th>\n",
       "    </tr>\n",
       "    <tr>\n",
       "      <th>Pessoas</th>\n",
       "      <th>Campanhas</th>\n",
       "      <th>Tipo</th>\n",
       "      <th></th>\n",
       "      <th></th>\n",
       "    </tr>\n",
       "  </thead>\n",
       "  <tbody>\n",
       "    <tr>\n",
       "      <th rowspan=\"4\" valign=\"top\">N</th>\n",
       "      <th rowspan=\"3\" valign=\"top\">N</th>\n",
       "      <th>Foto</th>\n",
       "      <td>2,869.00</td>\n",
       "      <td>20.50</td>\n",
       "    </tr>\n",
       "    <tr>\n",
       "      <th>Reels</th>\n",
       "      <td>5,934.50</td>\n",
       "      <td>98.00</td>\n",
       "    </tr>\n",
       "    <tr>\n",
       "      <th>Vídeo</th>\n",
       "      <td>4,007.50</td>\n",
       "      <td>65.25</td>\n",
       "    </tr>\n",
       "    <tr>\n",
       "      <th>S</th>\n",
       "      <th>Foto</th>\n",
       "      <td>5,852.50</td>\n",
       "      <td>47.50</td>\n",
       "    </tr>\n",
       "    <tr>\n",
       "      <th rowspan=\"6\" valign=\"top\">S</th>\n",
       "      <th rowspan=\"3\" valign=\"top\">N</th>\n",
       "      <th>Foto</th>\n",
       "      <td>10,815.29</td>\n",
       "      <td>159.93</td>\n",
       "    </tr>\n",
       "    <tr>\n",
       "      <th>IGTV</th>\n",
       "      <td>6,833.40</td>\n",
       "      <td>133.60</td>\n",
       "    </tr>\n",
       "    <tr>\n",
       "      <th>Reels</th>\n",
       "      <td>12,894.00</td>\n",
       "      <td>249.00</td>\n",
       "    </tr>\n",
       "    <tr>\n",
       "      <th rowspan=\"3\" valign=\"top\">S</th>\n",
       "      <th>Foto</th>\n",
       "      <td>19,105.38</td>\n",
       "      <td>284.19</td>\n",
       "    </tr>\n",
       "    <tr>\n",
       "      <th>Reels</th>\n",
       "      <td>24,801.00</td>\n",
       "      <td>388.50</td>\n",
       "    </tr>\n",
       "    <tr>\n",
       "      <th>Vídeo</th>\n",
       "      <td>16,409.50</td>\n",
       "      <td>370.00</td>\n",
       "    </tr>\n",
       "  </tbody>\n",
       "</table>\n",
       "</div>"
      ],
      "text/plain": [
       "                         Curtidas  Comentários\n",
       "Pessoas Campanhas Tipo                        \n",
       "N       N         Foto   2,869.00        20.50\n",
       "                  Reels  5,934.50        98.00\n",
       "                  Vídeo  4,007.50        65.25\n",
       "        S         Foto   5,852.50        47.50\n",
       "S       N         Foto  10,815.29       159.93\n",
       "                  IGTV   6,833.40       133.60\n",
       "                  Reels 12,894.00       249.00\n",
       "        S         Foto  19,105.38       284.19\n",
       "                  Reels 24,801.00       388.50\n",
       "                  Vídeo 16,409.50       370.00"
      ]
     },
     "execution_count": 61,
     "metadata": {},
     "output_type": "execute_result"
    }
   ],
   "source": [
    "# Agregando por pessoas, campanhas e tipo\n",
    "base.groupby([\"Pessoas\",\"Campanhas\",\"Tipo\"])[[\"Curtidas\",\"Comentários\"]].mean()"
   ]
  },
  {
   "cell_type": "markdown",
   "id": "e23b7d3a",
   "metadata": {
    "id": "e23b7d3a"
   },
   "source": [
    "- **Analisando novamente a questão do vídeo, ele não parece mais tão ruim assim. Quando feito em campanha e usando pessoas ele teve um resultado bom, inclusive próximo a foto**\n",
    "- O que poderia ter levado a média baixa é que só temos vídeo ou COM pessoa e COM campanha ou sem nenhum dos dois. Não temos nenhum vídeo com apenas um dos dois (pessoa ou campanha)\n",
    "- Já IGTV, mesmo tendo pessoa, não teve um resultado tão bom"
   ]
  },
  {
   "cell_type": "markdown",
   "id": "faf77dee",
   "metadata": {
    "id": "faf77dee"
   },
   "source": [
    "#### Inclusive podemos entender o que havia gerado a média baixo no vídeo"
   ]
  },
  {
   "cell_type": "code",
   "execution_count": null,
   "id": "a656f5db",
   "metadata": {
    "id": "a656f5db",
    "outputId": "6e539efd-b45a-4be7-ae1e-ee184a7e4d97"
   },
   "outputs": [
    {
     "data": {
      "text/html": [
       "<div>\n",
       "<style scoped>\n",
       "    .dataframe tbody tr th:only-of-type {\n",
       "        vertical-align: middle;\n",
       "    }\n",
       "\n",
       "    .dataframe tbody tr th {\n",
       "        vertical-align: top;\n",
       "    }\n",
       "\n",
       "    .dataframe thead th {\n",
       "        text-align: right;\n",
       "    }\n",
       "</style>\n",
       "<table border=\"1\" class=\"dataframe\">\n",
       "  <thead>\n",
       "    <tr style=\"text-align: right;\">\n",
       "      <th></th>\n",
       "      <th>Tipo</th>\n",
       "      <th>Data</th>\n",
       "      <th>Curtidas</th>\n",
       "      <th>Comentários</th>\n",
       "      <th>Tags</th>\n",
       "      <th>Pessoas</th>\n",
       "      <th>Campanhas</th>\n",
       "      <th>Carrossel</th>\n",
       "      <th>Interacoes</th>\n",
       "    </tr>\n",
       "  </thead>\n",
       "  <tbody>\n",
       "    <tr>\n",
       "      <th>3</th>\n",
       "      <td>Vídeo</td>\n",
       "      <td>2021-09-12</td>\n",
       "      <td>5115</td>\n",
       "      <td>49</td>\n",
       "      <td>Produtos</td>\n",
       "      <td>N</td>\n",
       "      <td>N</td>\n",
       "      <td>N</td>\n",
       "      <td>5164</td>\n",
       "    </tr>\n",
       "    <tr>\n",
       "      <th>9</th>\n",
       "      <td>Vídeo</td>\n",
       "      <td>2021-09-28</td>\n",
       "      <td>4056</td>\n",
       "      <td>81</td>\n",
       "      <td>Produtos</td>\n",
       "      <td>N</td>\n",
       "      <td>N</td>\n",
       "      <td>N</td>\n",
       "      <td>4137</td>\n",
       "    </tr>\n",
       "    <tr>\n",
       "      <th>15</th>\n",
       "      <td>Vídeo</td>\n",
       "      <td>2021-11-04</td>\n",
       "      <td>3646</td>\n",
       "      <td>71</td>\n",
       "      <td>Produtos</td>\n",
       "      <td>N</td>\n",
       "      <td>N</td>\n",
       "      <td>N</td>\n",
       "      <td>3717</td>\n",
       "    </tr>\n",
       "    <tr>\n",
       "      <th>17</th>\n",
       "      <td>Vídeo</td>\n",
       "      <td>2021-11-09</td>\n",
       "      <td>3213</td>\n",
       "      <td>60</td>\n",
       "      <td>Produtos</td>\n",
       "      <td>N</td>\n",
       "      <td>N</td>\n",
       "      <td>N</td>\n",
       "      <td>3273</td>\n",
       "    </tr>\n",
       "    <tr>\n",
       "      <th>24</th>\n",
       "      <td>Vídeo</td>\n",
       "      <td>2021-12-30</td>\n",
       "      <td>17600</td>\n",
       "      <td>383</td>\n",
       "      <td>Trends</td>\n",
       "      <td>S</td>\n",
       "      <td>S</td>\n",
       "      <td>N</td>\n",
       "      <td>17983</td>\n",
       "    </tr>\n",
       "    <tr>\n",
       "      <th>37</th>\n",
       "      <td>Vídeo</td>\n",
       "      <td>2022-02-13</td>\n",
       "      <td>15219</td>\n",
       "      <td>357</td>\n",
       "      <td>Datas comemorativas</td>\n",
       "      <td>S</td>\n",
       "      <td>S</td>\n",
       "      <td>N</td>\n",
       "      <td>15576</td>\n",
       "    </tr>\n",
       "  </tbody>\n",
       "</table>\n",
       "</div>"
      ],
      "text/plain": [
       "     Tipo       Data  Curtidas  Comentários                 Tags Pessoas  \\\n",
       "3   Vídeo 2021-09-12      5115           49             Produtos       N   \n",
       "9   Vídeo 2021-09-28      4056           81             Produtos       N   \n",
       "15  Vídeo 2021-11-04      3646           71             Produtos       N   \n",
       "17  Vídeo 2021-11-09      3213           60             Produtos       N   \n",
       "24  Vídeo 2021-12-30     17600          383               Trends       S   \n",
       "37  Vídeo 2022-02-13     15219          357  Datas comemorativas       S   \n",
       "\n",
       "   Campanhas Carrossel  Interacoes   \n",
       "3          N         N         5164  \n",
       "9          N         N         4137  \n",
       "15         N         N         3717  \n",
       "17         N         N         3273  \n",
       "24         S         N        17983  \n",
       "37         S         N        15576  "
      ]
     },
     "execution_count": 62,
     "metadata": {},
     "output_type": "execute_result"
    }
   ],
   "source": [
    "# Vamos filtrar a base apenas onde o tipo é Vídeo\n",
    "base[base.Tipo == 'Vídeo']"
   ]
  },
  {
   "cell_type": "markdown",
   "id": "766ae14d",
   "metadata": {
    "id": "766ae14d"
   },
   "source": [
    "- **Aqui percebemos que a loja tentou postar 4 vídeos mostrando seus produtos (sem nenhuma pessoa) e o resultado foi baixo. Quando o vídeo foi feito com pessoas aproveitando trends e datas comemorativas o resultado foi muito bom!**"
   ]
  },
  {
   "cell_type": "markdown",
   "id": "e03fd135",
   "metadata": {
    "id": "e03fd135"
   },
   "source": [
    "## Conclusões\n",
    "- **Em uma análise inicial, postagens incluindo pessoas engajam muito mais que aquelas que não possui ninguém**\n",
    "- **Postagens em épocas de campanha também possuem um melhor engajamento**\n",
    "- **Nessa base, o carrossel não foi um diferencial para melhorar o engajamento da marca**"
   ]
  }
 ],
 "metadata": {
  "colab": {
   "name": "Analisando o engajamento do Instagram - Arquivo Final.ipynb",
   "provenance": []
  },
  "kernelspec": {
   "display_name": "Python 3 (ipykernel)",
   "language": "python",
   "name": "python3"
  },
  "language_info": {
   "codemirror_mode": {
    "name": "ipython",
    "version": 3
   },
   "file_extension": ".py",
   "mimetype": "text/x-python",
   "name": "python",
   "nbconvert_exporter": "python",
   "pygments_lexer": "ipython3",
   "version": "3.11.5"
  }
 },
 "nbformat": 4,
 "nbformat_minor": 5
}
