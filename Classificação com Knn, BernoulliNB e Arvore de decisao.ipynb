{
 "cells": [
  {
   "cell_type": "markdown",
   "metadata": {
    "id": "uOxsWL4fyQ2J"
   },
   "source": [
    "# Classificando clientes com Knn, BernoulliNB e Arvore de decisao"
   ]
  },
  {
   "cell_type": "markdown",
   "metadata": {},
   "source": [
    "#### Temos um DataSet com dados de diversos clientes e suas caracteristicas. O objetivo é descobrir, com base neses dados, se um novo cliente provavelmente irá de desligar ou não dos serviços da empresa."
   ]
  },
  {
   "cell_type": "code",
   "execution_count": 5,
   "metadata": {
    "colab": {
     "base_uri": "https://localhost:8080/",
     "height": 270
    },
    "executionInfo": {
     "elapsed": 6,
     "status": "ok",
     "timestamp": 1652934137465,
     "user": {
      "displayName": "Ana Clara Mioto",
      "userId": "02280775085590012326"
     },
     "user_tz": 180
    },
    "id": "k_QTfXOSyQ2P",
    "outputId": "1610156a-b23b-4ce6-8479-44456f8db1bf"
   },
   "outputs": [
    {
     "data": {
      "text/html": [
       "\n",
       "  <div id=\"df-d3a10733-9f3b-4484-a6dd-b95154bc1918\">\n",
       "    <div class=\"colab-df-container\">\n",
       "      <div>\n",
       "<style scoped>\n",
       "    .dataframe tbody tr th:only-of-type {\n",
       "        vertical-align: middle;\n",
       "    }\n",
       "\n",
       "    .dataframe tbody tr th {\n",
       "        vertical-align: top;\n",
       "    }\n",
       "\n",
       "    .dataframe thead th {\n",
       "        text-align: right;\n",
       "    }\n",
       "</style>\n",
       "<table border=\"1\" class=\"dataframe\">\n",
       "  <thead>\n",
       "    <tr style=\"text-align: right;\">\n",
       "      <th></th>\n",
       "      <th>Maior65Anos</th>\n",
       "      <th>Conjuge</th>\n",
       "      <th>Dependentes</th>\n",
       "      <th>MesesDeContrato</th>\n",
       "      <th>TelefoneFixo</th>\n",
       "      <th>VariasLinhasTelefonicas</th>\n",
       "      <th>ServicoDeInternet</th>\n",
       "      <th>SegurancaOnline</th>\n",
       "      <th>BackupOnline</th>\n",
       "      <th>SeguroNoDispositivo</th>\n",
       "      <th>SuporteTecnico</th>\n",
       "      <th>TVaCabo</th>\n",
       "      <th>StreamingDeFilmes</th>\n",
       "      <th>TipoDeContrato</th>\n",
       "      <th>PagamentoOnline</th>\n",
       "      <th>FormaDePagamento</th>\n",
       "      <th>ContaMensal</th>\n",
       "      <th>Churn</th>\n",
       "    </tr>\n",
       "  </thead>\n",
       "  <tbody>\n",
       "    <tr>\n",
       "      <th>0</th>\n",
       "      <td>0</td>\n",
       "      <td>Sim</td>\n",
       "      <td>Nao</td>\n",
       "      <td>1</td>\n",
       "      <td>Nao</td>\n",
       "      <td>SemServicoTelefonico</td>\n",
       "      <td>DSL</td>\n",
       "      <td>Nao</td>\n",
       "      <td>Sim</td>\n",
       "      <td>Nao</td>\n",
       "      <td>Nao</td>\n",
       "      <td>Nao</td>\n",
       "      <td>Nao</td>\n",
       "      <td>Mensalmente</td>\n",
       "      <td>Sim</td>\n",
       "      <td>ChequeDigital</td>\n",
       "      <td>29.85</td>\n",
       "      <td>Nao</td>\n",
       "    </tr>\n",
       "    <tr>\n",
       "      <th>1</th>\n",
       "      <td>0</td>\n",
       "      <td>Nao</td>\n",
       "      <td>Nao</td>\n",
       "      <td>34</td>\n",
       "      <td>Sim</td>\n",
       "      <td>Nao</td>\n",
       "      <td>DSL</td>\n",
       "      <td>Sim</td>\n",
       "      <td>Nao</td>\n",
       "      <td>Sim</td>\n",
       "      <td>Nao</td>\n",
       "      <td>Nao</td>\n",
       "      <td>Nao</td>\n",
       "      <td>UmAno</td>\n",
       "      <td>Nao</td>\n",
       "      <td>ChequePapel</td>\n",
       "      <td>56.95</td>\n",
       "      <td>Nao</td>\n",
       "    </tr>\n",
       "    <tr>\n",
       "      <th>2</th>\n",
       "      <td>0</td>\n",
       "      <td>Nao</td>\n",
       "      <td>Nao</td>\n",
       "      <td>2</td>\n",
       "      <td>Sim</td>\n",
       "      <td>Nao</td>\n",
       "      <td>DSL</td>\n",
       "      <td>Sim</td>\n",
       "      <td>Sim</td>\n",
       "      <td>Nao</td>\n",
       "      <td>Nao</td>\n",
       "      <td>Nao</td>\n",
       "      <td>Nao</td>\n",
       "      <td>Mensalmente</td>\n",
       "      <td>Sim</td>\n",
       "      <td>ChequePapel</td>\n",
       "      <td>53.85</td>\n",
       "      <td>Sim</td>\n",
       "    </tr>\n",
       "    <tr>\n",
       "      <th>3</th>\n",
       "      <td>0</td>\n",
       "      <td>Nao</td>\n",
       "      <td>Nao</td>\n",
       "      <td>45</td>\n",
       "      <td>Nao</td>\n",
       "      <td>SemServicoTelefonico</td>\n",
       "      <td>DSL</td>\n",
       "      <td>Sim</td>\n",
       "      <td>Nao</td>\n",
       "      <td>Sim</td>\n",
       "      <td>Sim</td>\n",
       "      <td>Nao</td>\n",
       "      <td>Nao</td>\n",
       "      <td>UmAno</td>\n",
       "      <td>Nao</td>\n",
       "      <td>DebitoEmConta</td>\n",
       "      <td>42.30</td>\n",
       "      <td>Nao</td>\n",
       "    </tr>\n",
       "    <tr>\n",
       "      <th>4</th>\n",
       "      <td>0</td>\n",
       "      <td>Nao</td>\n",
       "      <td>Nao</td>\n",
       "      <td>2</td>\n",
       "      <td>Sim</td>\n",
       "      <td>Nao</td>\n",
       "      <td>FibraOptica</td>\n",
       "      <td>Nao</td>\n",
       "      <td>Nao</td>\n",
       "      <td>Nao</td>\n",
       "      <td>Nao</td>\n",
       "      <td>Nao</td>\n",
       "      <td>Nao</td>\n",
       "      <td>Mensalmente</td>\n",
       "      <td>Sim</td>\n",
       "      <td>ChequeDigital</td>\n",
       "      <td>70.70</td>\n",
       "      <td>Sim</td>\n",
       "    </tr>\n",
       "  </tbody>\n",
       "</table>\n",
       "</div>\n",
       "      <button class=\"colab-df-convert\" onclick=\"convertToInteractive('df-d3a10733-9f3b-4484-a6dd-b95154bc1918')\"\n",
       "              title=\"Convert this dataframe to an interactive table.\"\n",
       "              style=\"display:none;\">\n",
       "        \n",
       "  <svg xmlns=\"http://www.w3.org/2000/svg\" height=\"24px\"viewBox=\"0 0 24 24\"\n",
       "       width=\"24px\">\n",
       "    <path d=\"M0 0h24v24H0V0z\" fill=\"none\"/>\n",
       "    <path d=\"M18.56 5.44l.94 2.06.94-2.06 2.06-.94-2.06-.94-.94-2.06-.94 2.06-2.06.94zm-11 1L8.5 8.5l.94-2.06 2.06-.94-2.06-.94L8.5 2.5l-.94 2.06-2.06.94zm10 10l.94 2.06.94-2.06 2.06-.94-2.06-.94-.94-2.06-.94 2.06-2.06.94z\"/><path d=\"M17.41 7.96l-1.37-1.37c-.4-.4-.92-.59-1.43-.59-.52 0-1.04.2-1.43.59L10.3 9.45l-7.72 7.72c-.78.78-.78 2.05 0 2.83L4 21.41c.39.39.9.59 1.41.59.51 0 1.02-.2 1.41-.59l7.78-7.78 2.81-2.81c.8-.78.8-2.07 0-2.86zM5.41 20L4 18.59l7.72-7.72 1.47 1.35L5.41 20z\"/>\n",
       "  </svg>\n",
       "      </button>\n",
       "      \n",
       "  <style>\n",
       "    .colab-df-container {\n",
       "      display:flex;\n",
       "      flex-wrap:wrap;\n",
       "      gap: 12px;\n",
       "    }\n",
       "\n",
       "    .colab-df-convert {\n",
       "      background-color: #E8F0FE;\n",
       "      border: none;\n",
       "      border-radius: 50%;\n",
       "      cursor: pointer;\n",
       "      display: none;\n",
       "      fill: #1967D2;\n",
       "      height: 32px;\n",
       "      padding: 0 0 0 0;\n",
       "      width: 32px;\n",
       "    }\n",
       "\n",
       "    .colab-df-convert:hover {\n",
       "      background-color: #E2EBFA;\n",
       "      box-shadow: 0px 1px 2px rgba(60, 64, 67, 0.3), 0px 1px 3px 1px rgba(60, 64, 67, 0.15);\n",
       "      fill: #174EA6;\n",
       "    }\n",
       "\n",
       "    [theme=dark] .colab-df-convert {\n",
       "      background-color: #3B4455;\n",
       "      fill: #D2E3FC;\n",
       "    }\n",
       "\n",
       "    [theme=dark] .colab-df-convert:hover {\n",
       "      background-color: #434B5C;\n",
       "      box-shadow: 0px 1px 3px 1px rgba(0, 0, 0, 0.15);\n",
       "      filter: drop-shadow(0px 1px 2px rgba(0, 0, 0, 0.3));\n",
       "      fill: #FFFFFF;\n",
       "    }\n",
       "  </style>\n",
       "\n",
       "      <script>\n",
       "        const buttonEl =\n",
       "          document.querySelector('#df-d3a10733-9f3b-4484-a6dd-b95154bc1918 button.colab-df-convert');\n",
       "        buttonEl.style.display =\n",
       "          google.colab.kernel.accessAllowed ? 'block' : 'none';\n",
       "\n",
       "        async function convertToInteractive(key) {\n",
       "          const element = document.querySelector('#df-d3a10733-9f3b-4484-a6dd-b95154bc1918');\n",
       "          const dataTable =\n",
       "            await google.colab.kernel.invokeFunction('convertToInteractive',\n",
       "                                                     [key], {});\n",
       "          if (!dataTable) return;\n",
       "\n",
       "          const docLinkHtml = 'Like what you see? Visit the ' +\n",
       "            '<a target=\"_blank\" href=https://colab.research.google.com/notebooks/data_table.ipynb>data table notebook</a>'\n",
       "            + ' to learn more about interactive tables.';\n",
       "          element.innerHTML = '';\n",
       "          dataTable['output_type'] = 'display_data';\n",
       "          await google.colab.output.renderOutput(dataTable, element);\n",
       "          const docLink = document.createElement('div');\n",
       "          docLink.innerHTML = docLinkHtml;\n",
       "          element.appendChild(docLink);\n",
       "        }\n",
       "      </script>\n",
       "    </div>\n",
       "  </div>\n",
       "  "
      ],
      "text/plain": [
       "   Maior65Anos Conjuge Dependentes  MesesDeContrato TelefoneFixo  \\\n",
       "0            0     Sim         Nao                1          Nao   \n",
       "1            0     Nao         Nao               34          Sim   \n",
       "2            0     Nao         Nao                2          Sim   \n",
       "3            0     Nao         Nao               45          Nao   \n",
       "4            0     Nao         Nao                2          Sim   \n",
       "\n",
       "  VariasLinhasTelefonicas ServicoDeInternet SegurancaOnline BackupOnline  \\\n",
       "0    SemServicoTelefonico               DSL             Nao          Sim   \n",
       "1                     Nao               DSL             Sim          Nao   \n",
       "2                     Nao               DSL             Sim          Sim   \n",
       "3    SemServicoTelefonico               DSL             Sim          Nao   \n",
       "4                     Nao       FibraOptica             Nao          Nao   \n",
       "\n",
       "  SeguroNoDispositivo SuporteTecnico TVaCabo StreamingDeFilmes TipoDeContrato  \\\n",
       "0                 Nao            Nao     Nao               Nao    Mensalmente   \n",
       "1                 Sim            Nao     Nao               Nao          UmAno   \n",
       "2                 Nao            Nao     Nao               Nao    Mensalmente   \n",
       "3                 Sim            Sim     Nao               Nao          UmAno   \n",
       "4                 Nao            Nao     Nao               Nao    Mensalmente   \n",
       "\n",
       "  PagamentoOnline FormaDePagamento  ContaMensal Churn  \n",
       "0             Sim    ChequeDigital        29.85   Nao  \n",
       "1             Nao      ChequePapel        56.95   Nao  \n",
       "2             Sim      ChequePapel        53.85   Sim  \n",
       "3             Nao    DebitoEmConta        42.30   Nao  \n",
       "4             Sim    ChequeDigital        70.70   Sim  "
      ]
     },
     "execution_count": 5,
     "metadata": {},
     "output_type": "execute_result"
    }
   ],
   "source": [
    "import pandas as pd\n",
    "dados = pd.read_csv('/content/sample_data/Customer-Churn.csv')\n",
    "dados.head()"
   ]
  },
  {
   "cell_type": "markdown",
   "metadata": {
    "id": "V8lNCeRnyQ2P"
   },
   "source": [
    "## Modificando os dados manualmente\n",
    "##### 'Sim': 1,\n",
    "##### 'Nao': 0"
   ]
  },
  {
   "cell_type": "code",
   "execution_count": 6,
   "metadata": {
    "colab": {
     "base_uri": "https://localhost:8080/",
     "height": 206
    },
    "executionInfo": {
     "elapsed": 6,
     "status": "ok",
     "timestamp": 1652934137466,
     "user": {
      "displayName": "Ana Clara Mioto",
      "userId": "02280775085590012326"
     },
     "user_tz": 180
    },
    "id": "uQLvJoZ0yQ2Q",
    "outputId": "eff5207e-82b5-49a1-b6b5-201300929646"
   },
   "outputs": [
    {
     "data": {
      "text/html": [
       "\n",
       "  <div id=\"df-090bdde4-39a2-4a91-b942-69bedc4248b1\">\n",
       "    <div class=\"colab-df-container\">\n",
       "      <div>\n",
       "<style scoped>\n",
       "    .dataframe tbody tr th:only-of-type {\n",
       "        vertical-align: middle;\n",
       "    }\n",
       "\n",
       "    .dataframe tbody tr th {\n",
       "        vertical-align: top;\n",
       "    }\n",
       "\n",
       "    .dataframe thead th {\n",
       "        text-align: right;\n",
       "    }\n",
       "</style>\n",
       "<table border=\"1\" class=\"dataframe\">\n",
       "  <thead>\n",
       "    <tr style=\"text-align: right;\">\n",
       "      <th></th>\n",
       "      <th>Conjuge</th>\n",
       "      <th>Dependentes</th>\n",
       "      <th>TelefoneFixo</th>\n",
       "      <th>PagamentoOnline</th>\n",
       "      <th>Churn</th>\n",
       "    </tr>\n",
       "  </thead>\n",
       "  <tbody>\n",
       "    <tr>\n",
       "      <th>0</th>\n",
       "      <td>1</td>\n",
       "      <td>0</td>\n",
       "      <td>0</td>\n",
       "      <td>1</td>\n",
       "      <td>0</td>\n",
       "    </tr>\n",
       "    <tr>\n",
       "      <th>1</th>\n",
       "      <td>0</td>\n",
       "      <td>0</td>\n",
       "      <td>1</td>\n",
       "      <td>0</td>\n",
       "      <td>0</td>\n",
       "    </tr>\n",
       "    <tr>\n",
       "      <th>2</th>\n",
       "      <td>0</td>\n",
       "      <td>0</td>\n",
       "      <td>1</td>\n",
       "      <td>1</td>\n",
       "      <td>1</td>\n",
       "    </tr>\n",
       "    <tr>\n",
       "      <th>3</th>\n",
       "      <td>0</td>\n",
       "      <td>0</td>\n",
       "      <td>0</td>\n",
       "      <td>0</td>\n",
       "      <td>0</td>\n",
       "    </tr>\n",
       "    <tr>\n",
       "      <th>4</th>\n",
       "      <td>0</td>\n",
       "      <td>0</td>\n",
       "      <td>1</td>\n",
       "      <td>1</td>\n",
       "      <td>1</td>\n",
       "    </tr>\n",
       "  </tbody>\n",
       "</table>\n",
       "</div>\n",
       "      <button class=\"colab-df-convert\" onclick=\"convertToInteractive('df-090bdde4-39a2-4a91-b942-69bedc4248b1')\"\n",
       "              title=\"Convert this dataframe to an interactive table.\"\n",
       "              style=\"display:none;\">\n",
       "        \n",
       "  <svg xmlns=\"http://www.w3.org/2000/svg\" height=\"24px\"viewBox=\"0 0 24 24\"\n",
       "       width=\"24px\">\n",
       "    <path d=\"M0 0h24v24H0V0z\" fill=\"none\"/>\n",
       "    <path d=\"M18.56 5.44l.94 2.06.94-2.06 2.06-.94-2.06-.94-.94-2.06-.94 2.06-2.06.94zm-11 1L8.5 8.5l.94-2.06 2.06-.94-2.06-.94L8.5 2.5l-.94 2.06-2.06.94zm10 10l.94 2.06.94-2.06 2.06-.94-2.06-.94-.94-2.06-.94 2.06-2.06.94z\"/><path d=\"M17.41 7.96l-1.37-1.37c-.4-.4-.92-.59-1.43-.59-.52 0-1.04.2-1.43.59L10.3 9.45l-7.72 7.72c-.78.78-.78 2.05 0 2.83L4 21.41c.39.39.9.59 1.41.59.51 0 1.02-.2 1.41-.59l7.78-7.78 2.81-2.81c.8-.78.8-2.07 0-2.86zM5.41 20L4 18.59l7.72-7.72 1.47 1.35L5.41 20z\"/>\n",
       "  </svg>\n",
       "      </button>\n",
       "      \n",
       "  <style>\n",
       "    .colab-df-container {\n",
       "      display:flex;\n",
       "      flex-wrap:wrap;\n",
       "      gap: 12px;\n",
       "    }\n",
       "\n",
       "    .colab-df-convert {\n",
       "      background-color: #E8F0FE;\n",
       "      border: none;\n",
       "      border-radius: 50%;\n",
       "      cursor: pointer;\n",
       "      display: none;\n",
       "      fill: #1967D2;\n",
       "      height: 32px;\n",
       "      padding: 0 0 0 0;\n",
       "      width: 32px;\n",
       "    }\n",
       "\n",
       "    .colab-df-convert:hover {\n",
       "      background-color: #E2EBFA;\n",
       "      box-shadow: 0px 1px 2px rgba(60, 64, 67, 0.3), 0px 1px 3px 1px rgba(60, 64, 67, 0.15);\n",
       "      fill: #174EA6;\n",
       "    }\n",
       "\n",
       "    [theme=dark] .colab-df-convert {\n",
       "      background-color: #3B4455;\n",
       "      fill: #D2E3FC;\n",
       "    }\n",
       "\n",
       "    [theme=dark] .colab-df-convert:hover {\n",
       "      background-color: #434B5C;\n",
       "      box-shadow: 0px 1px 3px 1px rgba(0, 0, 0, 0.15);\n",
       "      filter: drop-shadow(0px 1px 2px rgba(0, 0, 0, 0.3));\n",
       "      fill: #FFFFFF;\n",
       "    }\n",
       "  </style>\n",
       "\n",
       "      <script>\n",
       "        const buttonEl =\n",
       "          document.querySelector('#df-090bdde4-39a2-4a91-b942-69bedc4248b1 button.colab-df-convert');\n",
       "        buttonEl.style.display =\n",
       "          google.colab.kernel.accessAllowed ? 'block' : 'none';\n",
       "\n",
       "        async function convertToInteractive(key) {\n",
       "          const element = document.querySelector('#df-090bdde4-39a2-4a91-b942-69bedc4248b1');\n",
       "          const dataTable =\n",
       "            await google.colab.kernel.invokeFunction('convertToInteractive',\n",
       "                                                     [key], {});\n",
       "          if (!dataTable) return;\n",
       "\n",
       "          const docLinkHtml = 'Like what you see? Visit the ' +\n",
       "            '<a target=\"_blank\" href=https://colab.research.google.com/notebooks/data_table.ipynb>data table notebook</a>'\n",
       "            + ' to learn more about interactive tables.';\n",
       "          element.innerHTML = '';\n",
       "          dataTable['output_type'] = 'display_data';\n",
       "          await google.colab.output.renderOutput(dataTable, element);\n",
       "          const docLink = document.createElement('div');\n",
       "          docLink.innerHTML = docLinkHtml;\n",
       "          element.appendChild(docLink);\n",
       "        }\n",
       "      </script>\n",
       "    </div>\n",
       "  </div>\n",
       "  "
      ],
      "text/plain": [
       "   Conjuge  Dependentes  TelefoneFixo  PagamentoOnline  Churn\n",
       "0        1            0             0                1      0\n",
       "1        0            0             1                0      0\n",
       "2        0            0             1                1      1\n",
       "3        0            0             0                0      0\n",
       "4        0            0             1                1      1"
      ]
     },
     "execution_count": 6,
     "metadata": {},
     "output_type": "execute_result"
    }
   ],
   "source": [
    "#modificação de forma manual \n",
    "traducao_dic = {'Sim': 1, \n",
    "                'Nao': 0}\n",
    "\n",
    "dadosmodificados = dados[['Conjuge', 'Dependentes', 'TelefoneFixo', 'PagamentoOnline', 'Churn']].replace(traducao_dic)\n",
    "dadosmodificados.head()"
   ]
  },
  {
   "cell_type": "markdown",
   "metadata": {},
   "source": [
    "### Modificando os dados com get_dummies"
   ]
  },
  {
   "cell_type": "code",
   "execution_count": 7,
   "metadata": {
    "executionInfo": {
     "elapsed": 5,
     "status": "ok",
     "timestamp": 1652934137466,
     "user": {
      "displayName": "Ana Clara Mioto",
      "userId": "02280775085590012326"
     },
     "user_tz": 180
    },
    "id": "0Dc3-8wayQ2R"
   },
   "outputs": [],
   "source": [
    "dummie_dados = pd.get_dummies(dados.drop(['Conjuge', 'Dependentes', 'TelefoneFixo', 'PagamentoOnline', 'Churn'],\n",
    "                axis=1))"
   ]
  },
  {
   "cell_type": "markdown",
   "metadata": {},
   "source": [
    "### Concatenando os dados transformados"
   ]
  },
  {
   "cell_type": "code",
   "execution_count": null,
   "metadata": {},
   "outputs": [],
   "source": [
    "#junção dos dados trasformados com os que já tinhamos\n",
    "dados_final = pd.concat([dadosmodificados, dummie_dados], axis=1)"
   ]
  },
  {
   "cell_type": "markdown",
   "metadata": {},
   "source": [
    "### Visualizando o dataSet completo apos transformações"
   ]
  },
  {
   "cell_type": "code",
   "execution_count": 8,
   "metadata": {
    "colab": {
     "base_uri": "https://localhost:8080/",
     "height": 300
    },
    "executionInfo": {
     "elapsed": 399,
     "status": "ok",
     "timestamp": 1652934137860,
     "user": {
      "displayName": "Ana Clara Mioto",
      "userId": "02280775085590012326"
     },
     "user_tz": 180
    },
    "id": "UmQrjUnh08vu",
    "outputId": "220aa24f-016c-4f9d-ce34-2928766087d2",
    "scrolled": false
   },
   "outputs": [
    {
     "data": {
      "text/html": [
       "\n",
       "  <div id=\"df-0507b1d5-a9a3-49c8-9ba6-73c00bc61279\">\n",
       "    <div class=\"colab-df-container\">\n",
       "      <div>\n",
       "<style scoped>\n",
       "    .dataframe tbody tr th:only-of-type {\n",
       "        vertical-align: middle;\n",
       "    }\n",
       "\n",
       "    .dataframe tbody tr th {\n",
       "        vertical-align: top;\n",
       "    }\n",
       "\n",
       "    .dataframe thead th {\n",
       "        text-align: right;\n",
       "    }\n",
       "</style>\n",
       "<table border=\"1\" class=\"dataframe\">\n",
       "  <thead>\n",
       "    <tr style=\"text-align: right;\">\n",
       "      <th></th>\n",
       "      <th>Conjuge</th>\n",
       "      <th>Dependentes</th>\n",
       "      <th>TelefoneFixo</th>\n",
       "      <th>PagamentoOnline</th>\n",
       "      <th>Churn</th>\n",
       "      <th>Maior65Anos</th>\n",
       "      <th>MesesDeContrato</th>\n",
       "      <th>ContaMensal</th>\n",
       "      <th>VariasLinhasTelefonicas_Nao</th>\n",
       "      <th>VariasLinhasTelefonicas_SemServicoTelefonico</th>\n",
       "      <th>...</th>\n",
       "      <th>StreamingDeFilmes_Nao</th>\n",
       "      <th>StreamingDeFilmes_SemServicoDeInternet</th>\n",
       "      <th>StreamingDeFilmes_Sim</th>\n",
       "      <th>TipoDeContrato_DoisAnos</th>\n",
       "      <th>TipoDeContrato_Mensalmente</th>\n",
       "      <th>TipoDeContrato_UmAno</th>\n",
       "      <th>FormaDePagamento_CartaoDeCredito</th>\n",
       "      <th>FormaDePagamento_ChequeDigital</th>\n",
       "      <th>FormaDePagamento_ChequePapel</th>\n",
       "      <th>FormaDePagamento_DebitoEmConta</th>\n",
       "    </tr>\n",
       "  </thead>\n",
       "  <tbody>\n",
       "    <tr>\n",
       "      <th>0</th>\n",
       "      <td>1</td>\n",
       "      <td>0</td>\n",
       "      <td>0</td>\n",
       "      <td>1</td>\n",
       "      <td>0</td>\n",
       "      <td>0</td>\n",
       "      <td>1</td>\n",
       "      <td>29.85</td>\n",
       "      <td>0</td>\n",
       "      <td>1</td>\n",
       "      <td>...</td>\n",
       "      <td>1</td>\n",
       "      <td>0</td>\n",
       "      <td>0</td>\n",
       "      <td>0</td>\n",
       "      <td>1</td>\n",
       "      <td>0</td>\n",
       "      <td>0</td>\n",
       "      <td>1</td>\n",
       "      <td>0</td>\n",
       "      <td>0</td>\n",
       "    </tr>\n",
       "    <tr>\n",
       "      <th>1</th>\n",
       "      <td>0</td>\n",
       "      <td>0</td>\n",
       "      <td>1</td>\n",
       "      <td>0</td>\n",
       "      <td>0</td>\n",
       "      <td>0</td>\n",
       "      <td>34</td>\n",
       "      <td>56.95</td>\n",
       "      <td>1</td>\n",
       "      <td>0</td>\n",
       "      <td>...</td>\n",
       "      <td>1</td>\n",
       "      <td>0</td>\n",
       "      <td>0</td>\n",
       "      <td>0</td>\n",
       "      <td>0</td>\n",
       "      <td>1</td>\n",
       "      <td>0</td>\n",
       "      <td>0</td>\n",
       "      <td>1</td>\n",
       "      <td>0</td>\n",
       "    </tr>\n",
       "    <tr>\n",
       "      <th>2</th>\n",
       "      <td>0</td>\n",
       "      <td>0</td>\n",
       "      <td>1</td>\n",
       "      <td>1</td>\n",
       "      <td>1</td>\n",
       "      <td>0</td>\n",
       "      <td>2</td>\n",
       "      <td>53.85</td>\n",
       "      <td>1</td>\n",
       "      <td>0</td>\n",
       "      <td>...</td>\n",
       "      <td>1</td>\n",
       "      <td>0</td>\n",
       "      <td>0</td>\n",
       "      <td>0</td>\n",
       "      <td>1</td>\n",
       "      <td>0</td>\n",
       "      <td>0</td>\n",
       "      <td>0</td>\n",
       "      <td>1</td>\n",
       "      <td>0</td>\n",
       "    </tr>\n",
       "    <tr>\n",
       "      <th>3</th>\n",
       "      <td>0</td>\n",
       "      <td>0</td>\n",
       "      <td>0</td>\n",
       "      <td>0</td>\n",
       "      <td>0</td>\n",
       "      <td>0</td>\n",
       "      <td>45</td>\n",
       "      <td>42.30</td>\n",
       "      <td>0</td>\n",
       "      <td>1</td>\n",
       "      <td>...</td>\n",
       "      <td>1</td>\n",
       "      <td>0</td>\n",
       "      <td>0</td>\n",
       "      <td>0</td>\n",
       "      <td>0</td>\n",
       "      <td>1</td>\n",
       "      <td>0</td>\n",
       "      <td>0</td>\n",
       "      <td>0</td>\n",
       "      <td>1</td>\n",
       "    </tr>\n",
       "    <tr>\n",
       "      <th>4</th>\n",
       "      <td>0</td>\n",
       "      <td>0</td>\n",
       "      <td>1</td>\n",
       "      <td>1</td>\n",
       "      <td>1</td>\n",
       "      <td>0</td>\n",
       "      <td>2</td>\n",
       "      <td>70.70</td>\n",
       "      <td>1</td>\n",
       "      <td>0</td>\n",
       "      <td>...</td>\n",
       "      <td>1</td>\n",
       "      <td>0</td>\n",
       "      <td>0</td>\n",
       "      <td>0</td>\n",
       "      <td>1</td>\n",
       "      <td>0</td>\n",
       "      <td>0</td>\n",
       "      <td>1</td>\n",
       "      <td>0</td>\n",
       "      <td>0</td>\n",
       "    </tr>\n",
       "  </tbody>\n",
       "</table>\n",
       "<p>5 rows × 39 columns</p>\n",
       "</div>\n",
       "      <button class=\"colab-df-convert\" onclick=\"convertToInteractive('df-0507b1d5-a9a3-49c8-9ba6-73c00bc61279')\"\n",
       "              title=\"Convert this dataframe to an interactive table.\"\n",
       "              style=\"display:none;\">\n",
       "        \n",
       "  <svg xmlns=\"http://www.w3.org/2000/svg\" height=\"24px\"viewBox=\"0 0 24 24\"\n",
       "       width=\"24px\">\n",
       "    <path d=\"M0 0h24v24H0V0z\" fill=\"none\"/>\n",
       "    <path d=\"M18.56 5.44l.94 2.06.94-2.06 2.06-.94-2.06-.94-.94-2.06-.94 2.06-2.06.94zm-11 1L8.5 8.5l.94-2.06 2.06-.94-2.06-.94L8.5 2.5l-.94 2.06-2.06.94zm10 10l.94 2.06.94-2.06 2.06-.94-2.06-.94-.94-2.06-.94 2.06-2.06.94z\"/><path d=\"M17.41 7.96l-1.37-1.37c-.4-.4-.92-.59-1.43-.59-.52 0-1.04.2-1.43.59L10.3 9.45l-7.72 7.72c-.78.78-.78 2.05 0 2.83L4 21.41c.39.39.9.59 1.41.59.51 0 1.02-.2 1.41-.59l7.78-7.78 2.81-2.81c.8-.78.8-2.07 0-2.86zM5.41 20L4 18.59l7.72-7.72 1.47 1.35L5.41 20z\"/>\n",
       "  </svg>\n",
       "      </button>\n",
       "      \n",
       "  <style>\n",
       "    .colab-df-container {\n",
       "      display:flex;\n",
       "      flex-wrap:wrap;\n",
       "      gap: 12px;\n",
       "    }\n",
       "\n",
       "    .colab-df-convert {\n",
       "      background-color: #E8F0FE;\n",
       "      border: none;\n",
       "      border-radius: 50%;\n",
       "      cursor: pointer;\n",
       "      display: none;\n",
       "      fill: #1967D2;\n",
       "      height: 32px;\n",
       "      padding: 0 0 0 0;\n",
       "      width: 32px;\n",
       "    }\n",
       "\n",
       "    .colab-df-convert:hover {\n",
       "      background-color: #E2EBFA;\n",
       "      box-shadow: 0px 1px 2px rgba(60, 64, 67, 0.3), 0px 1px 3px 1px rgba(60, 64, 67, 0.15);\n",
       "      fill: #174EA6;\n",
       "    }\n",
       "\n",
       "    [theme=dark] .colab-df-convert {\n",
       "      background-color: #3B4455;\n",
       "      fill: #D2E3FC;\n",
       "    }\n",
       "\n",
       "    [theme=dark] .colab-df-convert:hover {\n",
       "      background-color: #434B5C;\n",
       "      box-shadow: 0px 1px 3px 1px rgba(0, 0, 0, 0.15);\n",
       "      filter: drop-shadow(0px 1px 2px rgba(0, 0, 0, 0.3));\n",
       "      fill: #FFFFFF;\n",
       "    }\n",
       "  </style>\n",
       "\n",
       "      <script>\n",
       "        const buttonEl =\n",
       "          document.querySelector('#df-0507b1d5-a9a3-49c8-9ba6-73c00bc61279 button.colab-df-convert');\n",
       "        buttonEl.style.display =\n",
       "          google.colab.kernel.accessAllowed ? 'block' : 'none';\n",
       "\n",
       "        async function convertToInteractive(key) {\n",
       "          const element = document.querySelector('#df-0507b1d5-a9a3-49c8-9ba6-73c00bc61279');\n",
       "          const dataTable =\n",
       "            await google.colab.kernel.invokeFunction('convertToInteractive',\n",
       "                                                     [key], {});\n",
       "          if (!dataTable) return;\n",
       "\n",
       "          const docLinkHtml = 'Like what you see? Visit the ' +\n",
       "            '<a target=\"_blank\" href=https://colab.research.google.com/notebooks/data_table.ipynb>data table notebook</a>'\n",
       "            + ' to learn more about interactive tables.';\n",
       "          element.innerHTML = '';\n",
       "          dataTable['output_type'] = 'display_data';\n",
       "          await google.colab.output.renderOutput(dataTable, element);\n",
       "          const docLink = document.createElement('div');\n",
       "          docLink.innerHTML = docLinkHtml;\n",
       "          element.appendChild(docLink);\n",
       "        }\n",
       "      </script>\n",
       "    </div>\n",
       "  </div>\n",
       "  "
      ],
      "text/plain": [
       "   Conjuge  Dependentes  TelefoneFixo  PagamentoOnline  Churn  Maior65Anos  \\\n",
       "0        1            0             0                1      0            0   \n",
       "1        0            0             1                0      0            0   \n",
       "2        0            0             1                1      1            0   \n",
       "3        0            0             0                0      0            0   \n",
       "4        0            0             1                1      1            0   \n",
       "\n",
       "   MesesDeContrato  ContaMensal  VariasLinhasTelefonicas_Nao  \\\n",
       "0                1        29.85                            0   \n",
       "1               34        56.95                            1   \n",
       "2                2        53.85                            1   \n",
       "3               45        42.30                            0   \n",
       "4                2        70.70                            1   \n",
       "\n",
       "   VariasLinhasTelefonicas_SemServicoTelefonico  ...  StreamingDeFilmes_Nao  \\\n",
       "0                                             1  ...                      1   \n",
       "1                                             0  ...                      1   \n",
       "2                                             0  ...                      1   \n",
       "3                                             1  ...                      1   \n",
       "4                                             0  ...                      1   \n",
       "\n",
       "   StreamingDeFilmes_SemServicoDeInternet  StreamingDeFilmes_Sim  \\\n",
       "0                                       0                      0   \n",
       "1                                       0                      0   \n",
       "2                                       0                      0   \n",
       "3                                       0                      0   \n",
       "4                                       0                      0   \n",
       "\n",
       "   TipoDeContrato_DoisAnos  TipoDeContrato_Mensalmente  TipoDeContrato_UmAno  \\\n",
       "0                        0                           1                     0   \n",
       "1                        0                           0                     1   \n",
       "2                        0                           1                     0   \n",
       "3                        0                           0                     1   \n",
       "4                        0                           1                     0   \n",
       "\n",
       "   FormaDePagamento_CartaoDeCredito  FormaDePagamento_ChequeDigital  \\\n",
       "0                                 0                               1   \n",
       "1                                 0                               0   \n",
       "2                                 0                               0   \n",
       "3                                 0                               0   \n",
       "4                                 0                               1   \n",
       "\n",
       "   FormaDePagamento_ChequePapel  FormaDePagamento_DebitoEmConta  \n",
       "0                             0                               0  \n",
       "1                             1                               0  \n",
       "2                             1                               0  \n",
       "3                             0                               1  \n",
       "4                             0                               0  \n",
       "\n",
       "[5 rows x 39 columns]"
      ]
     },
     "execution_count": 8,
     "metadata": {},
     "output_type": "execute_result"
    }
   ],
   "source": [
    "dados_final.head()"
   ]
  },
  {
   "cell_type": "markdown",
   "metadata": {},
   "source": [
    "### Criando dados Xmaria para Previsão"
   ]
  },
  {
   "cell_type": "code",
   "execution_count": 11,
   "metadata": {
    "executionInfo": {
     "elapsed": 6,
     "status": "ok",
     "timestamp": 1652934137862,
     "user": {
      "displayName": "Ana Clara Mioto",
      "userId": "02280775085590012326"
     },
     "user_tz": 180
    },
    "id": "JVqSH1yp4Cq2"
   },
   "outputs": [],
   "source": [
    "Xmaria = [[0,0,1,1,0,0,39.90,1,0,0,0,1,0,1,0,0,0,0,1,1,1,0,0,1,0,1,0,0,0,0,1,0,0,1,0,0,0,1]]"
   ]
  },
  {
   "cell_type": "markdown",
   "metadata": {
    "id": "n4nyxwPFTncE"
   },
   "source": [
    "Novos pares de informações = ($Xmaria$, $ymaria$)"
   ]
  },
  {
   "cell_type": "markdown",
   "metadata": {
    "id": "zCcuXt0FZfNe"
   },
   "source": [
    "## Balanceamento dos dados"
   ]
  },
  {
   "cell_type": "code",
   "execution_count": 13,
   "metadata": {
    "colab": {
     "base_uri": "https://localhost:8080/",
     "height": 0
    },
    "executionInfo": {
     "elapsed": 490,
     "status": "ok",
     "timestamp": 1652934138347,
     "user": {
      "displayName": "Ana Clara Mioto",
      "userId": "02280775085590012326"
     },
     "user_tz": 180
    },
    "id": "PZ98-642QERQ",
    "outputId": "effcd349-a5cd-4d6b-a40f-48819638ce70"
   },
   "outputs": [
    {
     "data": {
      "image/png": "[encoded data removed]",
      "text/plain": [
       "<Figure size 432x288 with 1 Axes>"
      ]
     },
     "metadata": {
      "needs_background": "light"
     },
     "output_type": "display_data"
    }
   ],
   "source": [
    "#variável target está desbalanceada\n",
    "import seaborn as sns\n",
    "%matplotlib inline\n",
    "ax = sns.countplot(x='Churn', data=dados_final)"
   ]
  },
  {
   "cell_type": "code",
   "execution_count": 15,
   "metadata": {
    "executionInfo": {
     "elapsed": 700,
     "status": "ok",
     "timestamp": 1652934139044,
     "user": {
      "displayName": "Ana Clara Mioto",
      "userId": "02280775085590012326"
     },
     "user_tz": 180
    },
    "id": "TcFY4SXuZyIO"
   },
   "outputs": [],
   "source": [
    "#biblioteca para balancear os dados utilizando over_sampling\n",
    "from imblearn.over_sampling import SMOTE"
   ]
  },
  {
   "cell_type": "markdown",
   "metadata": {},
   "source": [
    "### Separando as variaveis X e Y"
   ]
  },
  {
   "cell_type": "code",
   "execution_count": 16,
   "metadata": {
    "executionInfo": {
     "elapsed": 5,
     "status": "ok",
     "timestamp": 1652934139044,
     "user": {
      "displayName": "Ana Clara Mioto",
      "userId": "02280775085590012326"
     },
     "user_tz": 180
    },
    "id": "0-I2aDVhQUdu"
   },
   "outputs": [],
   "source": [
    "X = dados_final.drop('Churn', axis = 1)\n",
    "y = dados_final['Churn']"
   ]
  },
  {
   "cell_type": "markdown",
   "metadata": {},
   "source": [
    "### Balanceamento com SMOTE"
   ]
  },
  {
   "cell_type": "code",
   "execution_count": 17,
   "metadata": {
    "executionInfo": {
     "elapsed": 243,
     "status": "ok",
     "timestamp": 1652934139283,
     "user": {
      "displayName": "Ana Clara Mioto",
      "userId": "02280775085590012326"
     },
     "user_tz": 180
    },
    "id": "5lIY03boZyBN"
   },
   "outputs": [],
   "source": [
    "smt = SMOTE(random_state=123)\n",
    "X, y = smt.fit_resample(X, y)"
   ]
  },
  {
   "cell_type": "markdown",
   "metadata": {},
   "source": [
    "### Concatenando os dados balanceados"
   ]
  },
  {
   "cell_type": "code",
   "execution_count": 18,
   "metadata": {
    "executionInfo": {
     "elapsed": 11,
     "status": "ok",
     "timestamp": 1652934139284,
     "user": {
      "displayName": "Ana Clara Mioto",
      "userId": "02280775085590012326"
     },
     "user_tz": 180
    },
    "id": "bnlqzLVUZl0u"
   },
   "outputs": [],
   "source": [
    "dados_final = pd.concat([X, y], axis=1)"
   ]
  },
  {
   "cell_type": "code",
   "execution_count": 19,
   "metadata": {
    "colab": {
     "base_uri": "https://localhost:8080/",
     "height": 0
    },
    "executionInfo": {
     "elapsed": 10,
     "status": "ok",
     "timestamp": 1652934139284,
     "user": {
      "displayName": "Ana Clara Mioto",
      "userId": "02280775085590012326"
     },
     "user_tz": 180
    },
    "id": "GQj3bEEOZ42e",
    "outputId": "a0caee8f-cfa7-4c10-9260-a3e3dcd92857"
   },
   "outputs": [
    {
     "data": {
      "text/html": [
       "\n",
       "  <div id=\"df-464e8f30-0326-46d8-b548-e01802053d99\">\n",
       "    <div class=\"colab-df-container\">\n",
       "      <div>\n",
       "<style scoped>\n",
       "    .dataframe tbody tr th:only-of-type {\n",
       "        vertical-align: middle;\n",
       "    }\n",
       "\n",
       "    .dataframe tbody tr th {\n",
       "        vertical-align: top;\n",
       "    }\n",
       "\n",
       "    .dataframe thead th {\n",
       "        text-align: right;\n",
       "    }\n",
       "</style>\n",
       "<table border=\"1\" class=\"dataframe\">\n",
       "  <thead>\n",
       "    <tr style=\"text-align: right;\">\n",
       "      <th></th>\n",
       "      <th>Conjuge</th>\n",
       "      <th>Dependentes</th>\n",
       "      <th>TelefoneFixo</th>\n",
       "      <th>PagamentoOnline</th>\n",
       "      <th>Maior65Anos</th>\n",
       "      <th>MesesDeContrato</th>\n",
       "      <th>ContaMensal</th>\n",
       "      <th>VariasLinhasTelefonicas_Nao</th>\n",
       "      <th>VariasLinhasTelefonicas_SemServicoTelefonico</th>\n",
       "      <th>VariasLinhasTelefonicas_Sim</th>\n",
       "      <th>ServicoDeInternet_DSL</th>\n",
       "      <th>ServicoDeInternet_FibraOptica</th>\n",
       "      <th>ServicoDeInternet_Nao</th>\n",
       "      <th>SegurancaOnline_Nao</th>\n",
       "      <th>SegurancaOnline_SemServicoDeInternet</th>\n",
       "      <th>SegurancaOnline_Sim</th>\n",
       "      <th>BackupOnline_Nao</th>\n",
       "      <th>BackupOnline_SemServicoDeInternet</th>\n",
       "      <th>BackupOnline_Sim</th>\n",
       "      <th>SeguroNoDispositivo_Nao</th>\n",
       "      <th>SeguroNoDispositivo_SemServicoDeInternet</th>\n",
       "      <th>SeguroNoDispositivo_Sim</th>\n",
       "      <th>SuporteTecnico_Nao</th>\n",
       "      <th>SuporteTecnico_SemServicoDeInternet</th>\n",
       "      <th>SuporteTecnico_Sim</th>\n",
       "      <th>TVaCabo_Nao</th>\n",
       "      <th>TVaCabo_SemServicoDeInternet</th>\n",
       "      <th>TVaCabo_Sim</th>\n",
       "      <th>StreamingDeFilmes_Nao</th>\n",
       "      <th>StreamingDeFilmes_SemServicoDeInternet</th>\n",
       "      <th>StreamingDeFilmes_Sim</th>\n",
       "      <th>TipoDeContrato_DoisAnos</th>\n",
       "      <th>TipoDeContrato_Mensalmente</th>\n",
       "      <th>TipoDeContrato_UmAno</th>\n",
       "      <th>FormaDePagamento_CartaoDeCredito</th>\n",
       "      <th>FormaDePagamento_ChequeDigital</th>\n",
       "      <th>FormaDePagamento_ChequePapel</th>\n",
       "      <th>FormaDePagamento_DebitoEmConta</th>\n",
       "      <th>Churn</th>\n",
       "    </tr>\n",
       "  </thead>\n",
       "  <tbody>\n",
       "    <tr>\n",
       "      <th>0</th>\n",
       "      <td>1</td>\n",
       "      <td>0</td>\n",
       "      <td>0</td>\n",
       "      <td>1</td>\n",
       "      <td>0</td>\n",
       "      <td>1</td>\n",
       "      <td>29.85</td>\n",
       "      <td>0</td>\n",
       "      <td>1</td>\n",
       "      <td>0</td>\n",
       "      <td>1</td>\n",
       "      <td>0</td>\n",
       "      <td>0</td>\n",
       "      <td>1</td>\n",
       "      <td>0</td>\n",
       "      <td>0</td>\n",
       "      <td>0</td>\n",
       "      <td>0</td>\n",
       "      <td>1</td>\n",
       "      <td>1</td>\n",
       "      <td>0</td>\n",
       "      <td>0</td>\n",
       "      <td>1</td>\n",
       "      <td>0</td>\n",
       "      <td>0</td>\n",
       "      <td>1</td>\n",
       "      <td>0</td>\n",
       "      <td>0</td>\n",
       "      <td>1</td>\n",
       "      <td>0</td>\n",
       "      <td>0</td>\n",
       "      <td>0</td>\n",
       "      <td>1</td>\n",
       "      <td>0</td>\n",
       "      <td>0</td>\n",
       "      <td>1</td>\n",
       "      <td>0</td>\n",
       "      <td>0</td>\n",
       "      <td>0</td>\n",
       "    </tr>\n",
       "    <tr>\n",
       "      <th>1</th>\n",
       "      <td>0</td>\n",
       "      <td>0</td>\n",
       "      <td>1</td>\n",
       "      <td>0</td>\n",
       "      <td>0</td>\n",
       "      <td>34</td>\n",
       "      <td>56.95</td>\n",
       "      <td>1</td>\n",
       "      <td>0</td>\n",
       "      <td>0</td>\n",
       "      <td>1</td>\n",
       "      <td>0</td>\n",
       "      <td>0</td>\n",
       "      <td>0</td>\n",
       "      <td>0</td>\n",
       "      <td>1</td>\n",
       "      <td>1</td>\n",
       "      <td>0</td>\n",
       "      <td>0</td>\n",
       "      <td>0</td>\n",
       "      <td>0</td>\n",
       "      <td>1</td>\n",
       "      <td>1</td>\n",
       "      <td>0</td>\n",
       "      <td>0</td>\n",
       "      <td>1</td>\n",
       "      <td>0</td>\n",
       "      <td>0</td>\n",
       "      <td>1</td>\n",
       "      <td>0</td>\n",
       "      <td>0</td>\n",
       "      <td>0</td>\n",
       "      <td>0</td>\n",
       "      <td>1</td>\n",
       "      <td>0</td>\n",
       "      <td>0</td>\n",
       "      <td>1</td>\n",
       "      <td>0</td>\n",
       "      <td>0</td>\n",
       "    </tr>\n",
       "  </tbody>\n",
       "</table>\n",
       "</div>\n",
       "      <button class=\"colab-df-convert\" onclick=\"convertToInteractive('df-464e8f30-0326-46d8-b548-e01802053d99')\"\n",
       "              title=\"Convert this dataframe to an interactive table.\"\n",
       "              style=\"display:none;\">\n",
       "        \n",
       "  <svg xmlns=\"http://www.w3.org/2000/svg\" height=\"24px\"viewBox=\"0 0 24 24\"\n",
       "       width=\"24px\">\n",
       "    <path d=\"M0 0h24v24H0V0z\" fill=\"none\"/>\n",
       "    <path d=\"M18.56 5.44l.94 2.06.94-2.06 2.06-.94-2.06-.94-.94-2.06-.94 2.06-2.06.94zm-11 1L8.5 8.5l.94-2.06 2.06-.94-2.06-.94L8.5 2.5l-.94 2.06-2.06.94zm10 10l.94 2.06.94-2.06 2.06-.94-2.06-.94-.94-2.06-.94 2.06-2.06.94z\"/><path d=\"M17.41 7.96l-1.37-1.37c-.4-.4-.92-.59-1.43-.59-.52 0-1.04.2-1.43.59L10.3 9.45l-7.72 7.72c-.78.78-.78 2.05 0 2.83L4 21.41c.39.39.9.59 1.41.59.51 0 1.02-.2 1.41-.59l7.78-7.78 2.81-2.81c.8-.78.8-2.07 0-2.86zM5.41 20L4 18.59l7.72-7.72 1.47 1.35L5.41 20z\"/>\n",
       "  </svg>\n",
       "      </button>\n",
       "      \n",
       "  <style>\n",
       "    .colab-df-container {\n",
       "      display:flex;\n",
       "      flex-wrap:wrap;\n",
       "      gap: 12px;\n",
       "    }\n",
       "\n",
       "    .colab-df-convert {\n",
       "      background-color: #E8F0FE;\n",
       "      border: none;\n",
       "      border-radius: 50%;\n",
       "      cursor: pointer;\n",
       "      display: none;\n",
       "      fill: #1967D2;\n",
       "      height: 32px;\n",
       "      padding: 0 0 0 0;\n",
       "      width: 32px;\n",
       "    }\n",
       "\n",
       "    .colab-df-convert:hover {\n",
       "      background-color: #E2EBFA;\n",
       "      box-shadow: 0px 1px 2px rgba(60, 64, 67, 0.3), 0px 1px 3px 1px rgba(60, 64, 67, 0.15);\n",
       "      fill: #174EA6;\n",
       "    }\n",
       "\n",
       "    [theme=dark] .colab-df-convert {\n",
       "      background-color: #3B4455;\n",
       "      fill: #D2E3FC;\n",
       "    }\n",
       "\n",
       "    [theme=dark] .colab-df-convert:hover {\n",
       "      background-color: #434B5C;\n",
       "      box-shadow: 0px 1px 3px 1px rgba(0, 0, 0, 0.15);\n",
       "      filter: drop-shadow(0px 1px 2px rgba(0, 0, 0, 0.3));\n",
       "      fill: #FFFFFF;\n",
       "    }\n",
       "  </style>\n",
       "\n",
       "      <script>\n",
       "        const buttonEl =\n",
       "          document.querySelector('#df-464e8f30-0326-46d8-b548-e01802053d99 button.colab-df-convert');\n",
       "        buttonEl.style.display =\n",
       "          google.colab.kernel.accessAllowed ? 'block' : 'none';\n",
       "\n",
       "        async function convertToInteractive(key) {\n",
       "          const element = document.querySelector('#df-464e8f30-0326-46d8-b548-e01802053d99');\n",
       "          const dataTable =\n",
       "            await google.colab.kernel.invokeFunction('convertToInteractive',\n",
       "                                                     [key], {});\n",
       "          if (!dataTable) return;\n",
       "\n",
       "          const docLinkHtml = 'Like what you see? Visit the ' +\n",
       "            '<a target=\"_blank\" href=https://colab.research.google.com/notebooks/data_table.ipynb>data table notebook</a>'\n",
       "            + ' to learn more about interactive tables.';\n",
       "          element.innerHTML = '';\n",
       "          dataTable['output_type'] = 'display_data';\n",
       "          await google.colab.output.renderOutput(dataTable, element);\n",
       "          const docLink = document.createElement('div');\n",
       "          docLink.innerHTML = docLinkHtml;\n",
       "          element.appendChild(docLink);\n",
       "        }\n",
       "      </script>\n",
       "    </div>\n",
       "  </div>\n",
       "  "
      ],
      "text/plain": [
       "   Conjuge  Dependentes  TelefoneFixo  PagamentoOnline  Maior65Anos  \\\n",
       "0        1            0             0                1            0   \n",
       "1        0            0             1                0            0   \n",
       "\n",
       "   MesesDeContrato  ContaMensal  VariasLinhasTelefonicas_Nao  \\\n",
       "0                1        29.85                            0   \n",
       "1               34        56.95                            1   \n",
       "\n",
       "   VariasLinhasTelefonicas_SemServicoTelefonico  VariasLinhasTelefonicas_Sim  \\\n",
       "0                                             1                            0   \n",
       "1                                             0                            0   \n",
       "\n",
       "   ServicoDeInternet_DSL  ServicoDeInternet_FibraOptica  \\\n",
       "0                      1                              0   \n",
       "1                      1                              0   \n",
       "\n",
       "   ServicoDeInternet_Nao  SegurancaOnline_Nao  \\\n",
       "0                      0                    1   \n",
       "1                      0                    0   \n",
       "\n",
       "   SegurancaOnline_SemServicoDeInternet  SegurancaOnline_Sim  \\\n",
       "0                                     0                    0   \n",
       "1                                     0                    1   \n",
       "\n",
       "   BackupOnline_Nao  BackupOnline_SemServicoDeInternet  BackupOnline_Sim  \\\n",
       "0                 0                                  0                 1   \n",
       "1                 1                                  0                 0   \n",
       "\n",
       "   SeguroNoDispositivo_Nao  SeguroNoDispositivo_SemServicoDeInternet  \\\n",
       "0                        1                                         0   \n",
       "1                        0                                         0   \n",
       "\n",
       "   SeguroNoDispositivo_Sim  SuporteTecnico_Nao  \\\n",
       "0                        0                   1   \n",
       "1                        1                   1   \n",
       "\n",
       "   SuporteTecnico_SemServicoDeInternet  SuporteTecnico_Sim  TVaCabo_Nao  \\\n",
       "0                                    0                   0            1   \n",
       "1                                    0                   0            1   \n",
       "\n",
       "   TVaCabo_SemServicoDeInternet  TVaCabo_Sim  StreamingDeFilmes_Nao  \\\n",
       "0                             0            0                      1   \n",
       "1                             0            0                      1   \n",
       "\n",
       "   StreamingDeFilmes_SemServicoDeInternet  StreamingDeFilmes_Sim  \\\n",
       "0                                       0                      0   \n",
       "1                                       0                      0   \n",
       "\n",
       "   TipoDeContrato_DoisAnos  TipoDeContrato_Mensalmente  TipoDeContrato_UmAno  \\\n",
       "0                        0                           1                     0   \n",
       "1                        0                           0                     1   \n",
       "\n",
       "   FormaDePagamento_CartaoDeCredito  FormaDePagamento_ChequeDigital  \\\n",
       "0                                 0                               1   \n",
       "1                                 0                               0   \n",
       "\n",
       "   FormaDePagamento_ChequePapel  FormaDePagamento_DebitoEmConta  Churn  \n",
       "0                             0                               0      0  \n",
       "1                             1                               0      0  "
      ]
     },
     "execution_count": 19,
     "metadata": {},
     "output_type": "execute_result"
    }
   ],
   "source": [
    "#verificação 1 - junção dos dados\n",
    "dados_final.head(2)"
   ]
  },
  {
   "cell_type": "markdown",
   "metadata": {},
   "source": [
    "### Verificando balanceamento"
   ]
  },
  {
   "cell_type": "code",
   "execution_count": 20,
   "metadata": {
    "colab": {
     "base_uri": "https://localhost:8080/",
     "height": 0
    },
    "executionInfo": {
     "elapsed": 453,
     "status": "ok",
     "timestamp": 1652934139732,
     "user": {
      "displayName": "Ana Clara Mioto",
      "userId": "02280775085590012326"
     },
     "user_tz": 180
    },
    "id": "jSzaHOlyZ7r-",
    "outputId": "ab7037ba-022f-4091-a9b2-cafbec5ea7e7"
   },
   "outputs": [
    {
     "data": {
      "image/png": "[encoded data removed]",
      "text/plain": [
       "<Figure size 432x288 with 1 Axes>"
      ]
     },
     "metadata": {
      "needs_background": "light"
     },
     "output_type": "display_data"
    }
   ],
   "source": [
    "ax = sns.countplot(x='Churn', data=dados_final)"
   ]
  },
  {
   "cell_type": "markdown",
   "metadata": {
    "executionInfo": {
     "elapsed": 14,
     "status": "ok",
     "timestamp": 1652934139733,
     "user": {
      "displayName": "Ana Clara Mioto",
      "userId": "02280775085590012326"
     },
     "user_tz": 180
    },
    "id": "tdwhZOphjbIg"
   },
   "source": [
    "## Separando as variaveis (inputs e outputs)"
   ]
  },
  {
   "cell_type": "code",
   "execution_count": 24,
   "metadata": {
    "executionInfo": {
     "elapsed": 13,
     "status": "ok",
     "timestamp": 1652934139733,
     "user": {
      "displayName": "Ana Clara Mioto",
      "userId": "02280775085590012326"
     },
     "user_tz": 180
    },
    "id": "h0re3ABxjlLW"
   },
   "outputs": [],
   "source": [
    "X = dados_final.drop('Churn', axis = 1)\n",
    "y = dados_final['Churn']"
   ]
  },
  {
   "cell_type": "markdown",
   "metadata": {},
   "source": [
    "## Padronizando as escalas com o StandardScaler"
   ]
  },
  {
   "cell_type": "code",
   "execution_count": null,
   "metadata": {
    "colab": {
     "base_uri": "https://localhost:8080/"
    },
    "executionInfo": {
     "elapsed": 14,
     "status": "ok",
     "timestamp": 1652934139734,
     "user": {
      "displayName": "Ana Clara Mioto",
      "userId": "02280775085590012326"
     },
     "user_tz": 180
    },
    "id": "zGYhtla_kgpd",
    "outputId": "9ce482bf-b92d-44f5-d7c6-bed901c3aca4"
   },
   "outputs": [],
   "source": [
    "from sklearn.preprocessing import StandardScaler\n",
    "\n",
    "norm = StandardScaler()\n",
    "\n",
    "X_normalizado = norm.fit_transform(X)"
   ]
  },
  {
   "cell_type": "markdown",
   "metadata": {},
   "source": [
    "### Normalizando o XMaria que será previsto\n",
    "Para isso, é necessario que tenhamos as 2 dimensões, como Xmaria so tem uma, iremos passsar no parametro um dataFrame com a outra dimensão"
   ]
  },
  {
   "cell_type": "code",
   "execution_count": null,
   "metadata": {
    "colab": {
     "base_uri": "https://localhost:8080/"
    },
    "executionInfo": {
     "elapsed": 11,
     "status": "ok",
     "timestamp": 1652934139734,
     "user": {
      "displayName": "Ana Clara Mioto",
      "userId": "02280775085590012326"
     },
     "user_tz": 180
    },
    "id": "Ll6FnFO-kosd",
    "outputId": "1ef0ba4e-e962-45fa-fae8-746a20d7c157"
   },
   "outputs": [],
   "source": [
    "Xmaria_normalizado = norm.transform(pd.DataFrame(Xmaria, columns = X.columns))"
   ]
  },
  {
   "cell_type": "markdown",
   "metadata": {},
   "source": [
    "## Separando Treino e Teste"
   ]
  },
  {
   "cell_type": "code",
   "execution_count": 36,
   "metadata": {
    "executionInfo": {
     "elapsed": 12,
     "status": "ok",
     "timestamp": 1652934140017,
     "user": {
      "displayName": "Ana Clara Mioto",
      "userId": "02280775085590012326"
     },
     "user_tz": 180
    },
    "id": "XtvZ-tMiwjN2"
   },
   "outputs": [],
   "source": [
    "from sklearn.model_selection import train_test_split\n",
    "\n",
    "X_treino, X_teste, y_treino, y_teste = train_test_split(X_normalizado, y, test_size=0.3, random_state=123)"
   ]
  },
  {
   "cell_type": "code",
   "execution_count": null,
   "metadata": {},
   "outputs": [],
   "source": []
  },
  {
   "cell_type": "markdown",
   "metadata": {
    "id": "LOKzwv4Uw0u7"
   },
   "source": [
    "# Classificação com KNN"
   ]
  },
  {
   "cell_type": "markdown",
   "metadata": {},
   "source": [
    "### Instanciando e fazendo fit do modelo"
   ]
  },
  {
   "cell_type": "code",
   "execution_count": 38,
   "metadata": {
    "executionInfo": {
     "elapsed": 12,
     "status": "ok",
     "timestamp": 1652934140018,
     "user": {
      "displayName": "Ana Clara Mioto",
      "userId": "02280775085590012326"
     },
     "user_tz": 180
    },
    "id": "g6-t-BpEwy3G"
   },
   "outputs": [],
   "source": [
    "from sklearn.neighbors import KNeighborsClassifier\n",
    "\n",
    "knn = KNeighborsClassifier(metric='euclidean')\n",
    "\n",
    "knn.fit(X_treino, y_treino)"
   ]
  },
  {
   "cell_type": "markdown",
   "metadata": {
    "colab": {
     "base_uri": "https://localhost:8080/"
    },
    "executionInfo": {
     "elapsed": 10,
     "status": "ok",
     "timestamp": 1652934140018,
     "user": {
      "displayName": "Ana Clara Mioto",
      "userId": "02280775085590012326"
     },
     "user_tz": 180
    },
    "id": "H05zbtgIw6gt",
    "outputId": "59679cd7-37cd-4885-cc00-4903d7529bd3"
   },
   "source": [
    "### Realizando previsao com knn"
   ]
  },
  {
   "cell_type": "code",
   "execution_count": 41,
   "metadata": {
    "executionInfo": {
     "elapsed": 676,
     "status": "ok",
     "timestamp": 1652934140688,
     "user": {
      "displayName": "Ana Clara Mioto",
      "userId": "02280775085590012326"
     },
     "user_tz": 180
    },
    "id": "2LrZiJbvw-Mf"
   },
   "outputs": [],
   "source": [
    "#testando o modelo com os dados de teste\n",
    "predito_knn = knn.predict(X_teste)"
   ]
  },
  {
   "cell_type": "code",
   "execution_count": null,
   "metadata": {},
   "outputs": [],
   "source": []
  },
  {
   "cell_type": "markdown",
   "metadata": {
    "id": "EKHFh1Pr7G40"
   },
   "source": [
    "# Classificação com o modelo Bernoulli de Naive Bayes"
   ]
  },
  {
   "cell_type": "markdown",
   "metadata": {
    "id": "zIhV625O7lf9"
   },
   "source": [
    "### Instanciando modelo"
   ]
  },
  {
   "cell_type": "code",
   "execution_count": 43,
   "metadata": {
    "executionInfo": {
     "elapsed": 9,
     "status": "ok",
     "timestamp": 1652934140689,
     "user": {
      "displayName": "Ana Clara Mioto",
      "userId": "02280775085590012326"
     },
     "user_tz": 180
    },
    "id": "vV4i1JC37xJN"
   },
   "outputs": [],
   "source": [
    "from sklearn.naive_bayes import BernoulliNB\n",
    "\n",
    "bnb = BernoulliNB(binarize=-0.44)"
   ]
  },
  {
   "cell_type": "code",
   "execution_count": 45,
   "metadata": {
    "colab": {
     "base_uri": "https://localhost:8080/"
    },
    "executionInfo": {
     "elapsed": 9,
     "status": "ok",
     "timestamp": 1652934140689,
     "user": {
      "displayName": "Ana Clara Mioto",
      "userId": "02280775085590012326"
     },
     "user_tz": 180
    },
    "id": "AEzm1GSZ7tZZ",
    "outputId": "32de87f1-a895-431d-f6a8-600109a78ec5"
   },
   "outputs": [
    {
     "data": {
      "text/plain": [
       "-0.4461759755508453"
      ]
     },
     "execution_count": 45,
     "metadata": {},
     "output_type": "execute_result"
    }
   ],
   "source": [
    "#escolho utilizar mediana, porque é o valor central dos nossos dados ordenados\n",
    "np.median(X_treino)"
   ]
  },
  {
   "cell_type": "markdown",
   "metadata": {},
   "source": [
    "### binarize=-0.44\n",
    "Se tiver acima de 0.44, classifica como 1, se tiver abaixo, classifica como 0..\n",
    "\n",
    "Usado para transformar características não-binárias em binárias.\n",
    "\n",
    "O modelo so usa caracteristicas binarias, por isso a transformação é necessaria"
   ]
  },
  {
   "cell_type": "markdown",
   "metadata": {},
   "source": [
    "### Fazendo o fit e previsão "
   ]
  },
  {
   "cell_type": "code",
   "execution_count": 48,
   "metadata": {
    "colab": {
     "base_uri": "https://localhost:8080/"
    },
    "executionInfo": {
     "elapsed": 5,
     "status": "ok",
     "timestamp": 1652934140689,
     "user": {
      "displayName": "Ana Clara Mioto",
      "userId": "02280775085590012326"
     },
     "user_tz": 180
    },
    "id": "qIIT0uX273SN",
    "outputId": "690b80ba-8543-4b97-cad4-82c7e6ee156f"
   },
   "outputs": [
    {
     "data": {
      "text/plain": [
       "BernoulliNB(binarize=-0.44)"
      ]
     },
     "execution_count": 48,
     "metadata": {},
     "output_type": "execute_result"
    }
   ],
   "source": [
    "bnb.fit(X_treino, y_treino)\n",
    "\n",
    "predito_BNb = bnb.predict(X_teste)"
   ]
  },
  {
   "cell_type": "code",
   "execution_count": null,
   "metadata": {},
   "outputs": [],
   "source": []
  },
  {
   "cell_type": "markdown",
   "metadata": {
    "id": "I0QZ6_rY00NG"
   },
   "source": [
    "# Classificação com Arvore de decisão"
   ]
  },
  {
   "cell_type": "markdown",
   "metadata": {
    "id": "cYFuWWnTsJLP"
   },
   "source": [
    "### Instanciando e fit do modelo"
   ]
  },
  {
   "cell_type": "code",
   "execution_count": 74,
   "metadata": {
    "executionInfo": {
     "elapsed": 243,
     "status": "ok",
     "timestamp": 1652937549606,
     "user": {
      "displayName": "Ana Clara Mioto",
      "userId": "02280775085590012326"
     },
     "user_tz": 180
    },
    "id": "VZBVqKxE2i10"
   },
   "outputs": [],
   "source": [
    "from sklearn.tree import DecisionTreeClassifier\n",
    "\n",
    "dtc = DecisionTreeClassifier(criterion='entropy', random_state=42)\n",
    "\n",
    "dtc.fit(X_treino, y_treino)"
   ]
  },
  {
   "cell_type": "markdown",
   "metadata": {},
   "source": [
    "### Previsao"
   ]
  },
  {
   "cell_type": "code",
   "execution_count": 78,
   "metadata": {
    "executionInfo": {
     "elapsed": 233,
     "status": "ok",
     "timestamp": 1652937775139,
     "user": {
      "displayName": "Ana Clara Mioto",
      "userId": "02280775085590012326"
     },
     "user_tz": 180
    },
    "id": "1N3ogMwXsYLJ"
   },
   "outputs": [],
   "source": [
    "predito_ArvoreDecisao = dtc.predict(X_teste)"
   ]
  },
  {
   "cell_type": "code",
   "execution_count": null,
   "metadata": {},
   "outputs": [],
   "source": []
  },
  {
   "cell_type": "markdown",
   "metadata": {
    "id": "lfmj_l6ztF5J"
   },
   "source": [
    "# Validação dos modelos"
   ]
  },
  {
   "cell_type": "markdown",
   "metadata": {
    "id": "5LcpGgohtOM5"
   },
   "source": [
    "## Matriz de confusão\n"
   ]
  },
  {
   "cell_type": "code",
   "execution_count": 100,
   "metadata": {
    "executionInfo": {
     "elapsed": 280,
     "status": "ok",
     "timestamp": 1652940965357,
     "user": {
      "displayName": "Ana Clara Mioto",
      "userId": "02280775085590012326"
     },
     "user_tz": 180
    },
    "id": "dIhkghN1tM3d"
   },
   "outputs": [],
   "source": [
    "from sklearn.metrics import confusion_matrix"
   ]
  },
  {
   "cell_type": "markdown",
   "metadata": {},
   "source": [
    "### Knn"
   ]
  },
  {
   "cell_type": "code",
   "execution_count": 101,
   "metadata": {
    "colab": {
     "base_uri": "https://localhost:8080/"
    },
    "executionInfo": {
     "elapsed": 238,
     "status": "ok",
     "timestamp": 1652941022364,
     "user": {
      "displayName": "Ana Clara Mioto",
      "userId": "02280775085590012326"
     },
     "user_tz": 180
    },
    "id": "vy5vfPQ7mnmP",
    "outputId": "37e5c298-897d-4ecd-a3f5-713859ad41af"
   },
   "outputs": [
    {
     "name": "stdout",
     "output_type": "stream",
     "text": [
      "[[1241  328]\n",
      " [ 247 1289]]\n"
     ]
    }
   ],
   "source": [
    "print(confusion_matrix(y_teste, predito_knn))"
   ]
  },
  {
   "cell_type": "markdown",
   "metadata": {},
   "source": [
    "### BernoulliNB"
   ]
  },
  {
   "cell_type": "code",
   "execution_count": 102,
   "metadata": {
    "colab": {
     "base_uri": "https://localhost:8080/"
    },
    "executionInfo": {
     "elapsed": 245,
     "status": "ok",
     "timestamp": 1652941106688,
     "user": {
      "displayName": "Ana Clara Mioto",
      "userId": "02280775085590012326"
     },
     "user_tz": 180
    },
    "id": "Y_TkgT9pmnj3",
    "outputId": "5199e1bc-3a15-49e3-ca18-ccf720b3c803"
   },
   "outputs": [
    {
     "name": "stdout",
     "output_type": "stream",
     "text": [
      "[[1050  519]\n",
      " [ 242 1294]]\n"
     ]
    }
   ],
   "source": [
    "print(confusion_matrix(y_teste, predito_BNb))"
   ]
  },
  {
   "cell_type": "markdown",
   "metadata": {},
   "source": [
    "### Arvore de decisão"
   ]
  },
  {
   "cell_type": "code",
   "execution_count": 103,
   "metadata": {
    "colab": {
     "base_uri": "https://localhost:8080/"
    },
    "executionInfo": {
     "elapsed": 235,
     "status": "ok",
     "timestamp": 1652941179888,
     "user": {
      "displayName": "Ana Clara Mioto",
      "userId": "02280775085590012326"
     },
     "user_tz": 180
    },
    "id": "hNAbk_Pimnhw",
    "outputId": "448ae2a9-8a67-44a8-94c5-22742391fb99"
   },
   "outputs": [
    {
     "name": "stdout",
     "output_type": "stream",
     "text": [
      "[[1249  320]\n",
      " [ 277 1259]]\n"
     ]
    }
   ],
   "source": [
    "print(confusion_matrix(y_teste, predito_ArvoreDecisao))"
   ]
  },
  {
   "cell_type": "markdown",
   "metadata": {
    "id": "sQb7vnC12XUf"
   },
   "source": [
    "#  Acurácia"
   ]
  },
  {
   "cell_type": "code",
   "execution_count": 104,
   "metadata": {
    "executionInfo": {
     "elapsed": 219,
     "status": "ok",
     "timestamp": 1652941430435,
     "user": {
      "displayName": "Ana Clara Mioto",
      "userId": "02280775085590012326"
     },
     "user_tz": 180
    },
    "id": "Ng67mpWk2af1"
   },
   "outputs": [],
   "source": [
    "from sklearn.metrics import accuracy_score"
   ]
  },
  {
   "cell_type": "markdown",
   "metadata": {},
   "source": [
    "### Knn"
   ]
  },
  {
   "cell_type": "code",
   "execution_count": 105,
   "metadata": {
    "colab": {
     "base_uri": "https://localhost:8080/"
    },
    "executionInfo": {
     "elapsed": 311,
     "status": "ok",
     "timestamp": 1652941478000,
     "user": {
      "displayName": "Ana Clara Mioto",
      "userId": "02280775085590012326"
     },
     "user_tz": 180
    },
    "id": "gp4Purjf2kZe",
    "outputId": "8d0522dd-0b4b-4e02-da0d-efa85751e728"
   },
   "outputs": [
    {
     "name": "stdout",
     "output_type": "stream",
     "text": [
      "0.8148148148148148\n"
     ]
    }
   ],
   "source": [
    "print(accuracy_score(y_teste, predito_knn))"
   ]
  },
  {
   "cell_type": "markdown",
   "metadata": {},
   "source": [
    "### BernoulliNB"
   ]
  },
  {
   "cell_type": "code",
   "execution_count": 106,
   "metadata": {
    "colab": {
     "base_uri": "https://localhost:8080/"
    },
    "executionInfo": {
     "elapsed": 227,
     "status": "ok",
     "timestamp": 1652941517250,
     "user": {
      "displayName": "Ana Clara Mioto",
      "userId": "02280775085590012326"
     },
     "user_tz": 180
    },
    "id": "7JrJXLJr2loH",
    "outputId": "53a1de2f-3e06-4dbd-fbc2-ddfcb77afac8"
   },
   "outputs": [
    {
     "name": "stdout",
     "output_type": "stream",
     "text": [
      "0.7549114331723027\n"
     ]
    }
   ],
   "source": [
    "print(accuracy_score(y_teste, predito_BNb))"
   ]
  },
  {
   "cell_type": "markdown",
   "metadata": {},
   "source": [
    "### Arvore de decisão"
   ]
  },
  {
   "cell_type": "code",
   "execution_count": 107,
   "metadata": {
    "colab": {
     "base_uri": "https://localhost:8080/"
    },
    "executionInfo": {
     "elapsed": 250,
     "status": "ok",
     "timestamp": 1652941559246,
     "user": {
      "displayName": "Ana Clara Mioto",
      "userId": "02280775085590012326"
     },
     "user_tz": 180
    },
    "id": "BkvmkoN92nBX",
    "outputId": "25a1f793-a7db-43ab-90cd-7a9164cd2268"
   },
   "outputs": [
    {
     "name": "stdout",
     "output_type": "stream",
     "text": [
      "0.8077294685990338\n"
     ]
    }
   ],
   "source": [
    "print(accuracy_score(y_teste, predito_ArvoreDecisao))"
   ]
  },
  {
   "cell_type": "markdown",
   "metadata": {
    "id": "kfzcKhw42tmX"
   },
   "source": [
    "#  Precisão"
   ]
  },
  {
   "cell_type": "code",
   "execution_count": 108,
   "metadata": {
    "executionInfo": {
     "elapsed": 247,
     "status": "ok",
     "timestamp": 1652941742672,
     "user": {
      "displayName": "Ana Clara Mioto",
      "userId": "02280775085590012326"
     },
     "user_tz": 180
    },
    "id": "BM4AbIm62wP6"
   },
   "outputs": [],
   "source": [
    "from sklearn.metrics import precision_score"
   ]
  },
  {
   "cell_type": "markdown",
   "metadata": {},
   "source": [
    "### Knn"
   ]
  },
  {
   "cell_type": "code",
   "execution_count": 109,
   "metadata": {
    "colab": {
     "base_uri": "https://localhost:8080/"
    },
    "executionInfo": {
     "elapsed": 246,
     "status": "ok",
     "timestamp": 1652941780254,
     "user": {
      "displayName": "Ana Clara Mioto",
      "userId": "02280775085590012326"
     },
     "user_tz": 180
    },
    "id": "hBD4K9r523g4",
    "outputId": "766a3c88-ec36-464f-c992-f3fe02925eda"
   },
   "outputs": [
    {
     "name": "stdout",
     "output_type": "stream",
     "text": [
      "0.7971552257266543\n"
     ]
    }
   ],
   "source": [
    "print(precision_score(y_teste, predito_knn))"
   ]
  },
  {
   "cell_type": "markdown",
   "metadata": {},
   "source": [
    "### BernoulliNB"
   ]
  },
  {
   "cell_type": "code",
   "execution_count": 110,
   "metadata": {
    "colab": {
     "base_uri": "https://localhost:8080/"
    },
    "executionInfo": {
     "elapsed": 245,
     "status": "ok",
     "timestamp": 1652941821700,
     "user": {
      "displayName": "Ana Clara Mioto",
      "userId": "02280775085590012326"
     },
     "user_tz": 180
    },
    "id": "mUJumEYp24rf",
    "outputId": "2e123a15-9ae7-48af-9202-650ff221d8f5",
    "scrolled": true
   },
   "outputs": [
    {
     "name": "stdout",
     "output_type": "stream",
     "text": [
      "0.7137341423055709\n"
     ]
    }
   ],
   "source": [
    "print(precision_score(y_teste, predito_BNb))"
   ]
  },
  {
   "cell_type": "markdown",
   "metadata": {},
   "source": [
    "### Arvore de decisão"
   ]
  },
  {
   "cell_type": "code",
   "execution_count": 111,
   "metadata": {
    "colab": {
     "base_uri": "https://localhost:8080/"
    },
    "executionInfo": {
     "elapsed": 231,
     "status": "ok",
     "timestamp": 1652941837562,
     "user": {
      "displayName": "Ana Clara Mioto",
      "userId": "02280775085590012326"
     },
     "user_tz": 180
    },
    "id": "ST2dcOPJ25IS",
    "outputId": "b2716f09-35eb-4bfb-ade5-6317f84e3978"
   },
   "outputs": [
    {
     "name": "stdout",
     "output_type": "stream",
     "text": [
      "0.7973400886637112\n"
     ]
    }
   ],
   "source": [
    "print(precision_score(y_teste, predito_ArvoreDecisao))"
   ]
  },
  {
   "cell_type": "markdown",
   "metadata": {
    "id": "TW59AoyU3DvW"
   },
   "source": [
    "# Recall"
   ]
  },
  {
   "cell_type": "code",
   "execution_count": 112,
   "metadata": {
    "executionInfo": {
     "elapsed": 263,
     "status": "ok",
     "timestamp": 1652942160529,
     "user": {
      "displayName": "Ana Clara Mioto",
      "userId": "02280775085590012326"
     },
     "user_tz": 180
    },
    "id": "SGX6E4Pi3LCt"
   },
   "outputs": [],
   "source": [
    "from sklearn.metrics import recall_score"
   ]
  },
  {
   "cell_type": "markdown",
   "metadata": {},
   "source": [
    "### Knn"
   ]
  },
  {
   "cell_type": "code",
   "execution_count": 2,
   "metadata": {
    "colab": {
     "base_uri": "https://localhost:8080/"
    },
    "executionInfo": {
     "elapsed": 267,
     "status": "ok",
     "timestamp": 1652942178072,
     "user": {
      "displayName": "Ana Clara Mioto",
      "userId": "02280775085590012326"
     },
     "user_tz": 180
    },
    "id": "CVEe2W_B3OTc",
    "outputId": "7902e8ee-01f9-4dfd-fbd8-4673dd20dfdb"
   },
   "outputs": [],
   "source": [
    "print(recall_score(y_teste, predito_knn))"
   ]
  },
  {
   "cell_type": "markdown",
   "metadata": {},
   "source": [
    "###  Bernoulli "
   ]
  },
  {
   "cell_type": "code",
   "execution_count": 114,
   "metadata": {
    "colab": {
     "base_uri": "https://localhost:8080/"
    },
    "executionInfo": {
     "elapsed": 267,
     "status": "ok",
     "timestamp": 1652942220720,
     "user": {
      "displayName": "Ana Clara Mioto",
      "userId": "02280775085590012326"
     },
     "user_tz": 180
    },
    "id": "edPMCLA93Pw_",
    "outputId": "a1ac5a8d-ff2a-4070-9849-b748acf1e1aa"
   },
   "outputs": [
    {
     "name": "stdout",
     "output_type": "stream",
     "text": [
      "0.8424479166666666\n"
     ]
    }
   ],
   "source": [
    "print(recall_score(y_teste, predito_BNb))"
   ]
  },
  {
   "cell_type": "markdown",
   "metadata": {},
   "source": [
    "### Arvore de decisão"
   ]
  },
  {
   "cell_type": "code",
   "execution_count": 115,
   "metadata": {
    "colab": {
     "base_uri": "https://localhost:8080/"
    },
    "executionInfo": {
     "elapsed": 235,
     "status": "ok",
     "timestamp": 1652942259017,
     "user": {
      "displayName": "Ana Clara Mioto",
      "userId": "02280775085590012326"
     },
     "user_tz": 180
    },
    "id": "4Wk5-4ej3Q_3",
    "outputId": "388ec9a8-724e-46b7-8921-c6ff22b492fc"
   },
   "outputs": [
    {
     "name": "stdout",
     "output_type": "stream",
     "text": [
      "0.8196614583333334\n"
     ]
    }
   ],
   "source": [
    "print(recall_score(y_teste, predito_ArvoreDecisao))"
   ]
  },
  {
   "cell_type": "markdown",
   "metadata": {},
   "source": [
    "### Por fim, com base nas metricas de desempenho, podemos avaliar qual seria o melhor modelo para utilizarmos, dependendo do nosso objetivo"
   ]
  }
 ],
 "metadata": {
  "colab": {
   "collapsed_sections": [
    "zCcuXt0FZfNe"
   ],
   "name": "Projeto_ML.ipynb",
   "provenance": []
  },
  "interpreter": {
   "hash": "df87b94f50c6b8081a9a425f6ade537f06441a824b7d68371eb29c5a5eb2838b"
  },
  "kernelspec": {
   "display_name": "Python 3 (ipykernel)",
   "language": "python",
   "name": "python3"
  },
  "language_info": {
   "codemirror_mode": {
    "name": "ipython",
    "version": 3
   },
   "file_extension": ".py",
   "mimetype": "text/x-python",
   "name": "python",
   "nbconvert_exporter": "python",
   "pygments_lexer": "ipython3",
   "version": "3.11.5"
  }
 },
 "nbformat": 4,
 "nbformat_minor": 1
}
