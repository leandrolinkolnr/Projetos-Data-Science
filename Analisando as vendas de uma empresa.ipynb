{
 "cells": [
  {
   "cell_type": "markdown",
   "metadata": {},
   "source": [
    "# Analisando vendas de uma empresa"
   ]
  },
  {
   "cell_type": "markdown",
   "metadata": {},
   "source": [
    "###  Importando e visualizando a base"
   ]
  },
  {
   "cell_type": "code",
   "execution_count": 14,
   "metadata": {},
   "outputs": [
    {
     "data": {
      "text/html": [
       "<div>\n",
       "<style scoped>\n",
       "    .dataframe tbody tr th:only-of-type {\n",
       "        vertical-align: middle;\n",
       "    }\n",
       "\n",
       "    .dataframe tbody tr th {\n",
       "        vertical-align: top;\n",
       "    }\n",
       "\n",
       "    .dataframe thead th {\n",
       "        text-align: right;\n",
       "    }\n",
       "</style>\n",
       "<table border=\"1\" class=\"dataframe\">\n",
       "  <thead>\n",
       "    <tr style=\"text-align: right;\">\n",
       "      <th></th>\n",
       "      <th>Row ID</th>\n",
       "      <th>Order ID</th>\n",
       "      <th>Order Date</th>\n",
       "      <th>Ship Date</th>\n",
       "      <th>Ship Mode</th>\n",
       "      <th>Customer ID</th>\n",
       "      <th>Customer Name</th>\n",
       "      <th>Segment</th>\n",
       "      <th>Country</th>\n",
       "      <th>City</th>\n",
       "      <th>State</th>\n",
       "      <th>Postal Code</th>\n",
       "      <th>Region</th>\n",
       "      <th>Product ID</th>\n",
       "      <th>Category</th>\n",
       "      <th>Sub-Category</th>\n",
       "      <th>Product Name</th>\n",
       "      <th>Sales</th>\n",
       "    </tr>\n",
       "  </thead>\n",
       "  <tbody>\n",
       "    <tr>\n",
       "      <th>0</th>\n",
       "      <td>1</td>\n",
       "      <td>CA-2017-152156</td>\n",
       "      <td>08/11/2017</td>\n",
       "      <td>11/11/2017</td>\n",
       "      <td>Second Class</td>\n",
       "      <td>CG-12520</td>\n",
       "      <td>Claire Gute</td>\n",
       "      <td>Consumer</td>\n",
       "      <td>United States</td>\n",
       "      <td>Henderson</td>\n",
       "      <td>Kentucky</td>\n",
       "      <td>42420.0</td>\n",
       "      <td>South</td>\n",
       "      <td>FUR-BO-10001798</td>\n",
       "      <td>Furniture</td>\n",
       "      <td>Bookcases</td>\n",
       "      <td>Bush Somerset Collection Bookcase</td>\n",
       "      <td>261.96</td>\n",
       "    </tr>\n",
       "    <tr>\n",
       "      <th>1</th>\n",
       "      <td>2</td>\n",
       "      <td>CA-2017-152156</td>\n",
       "      <td>08/11/2017</td>\n",
       "      <td>11/11/2017</td>\n",
       "      <td>Second Class</td>\n",
       "      <td>CG-12520</td>\n",
       "      <td>Claire Gute</td>\n",
       "      <td>Consumer</td>\n",
       "      <td>United States</td>\n",
       "      <td>Henderson</td>\n",
       "      <td>Kentucky</td>\n",
       "      <td>42420.0</td>\n",
       "      <td>South</td>\n",
       "      <td>FUR-CH-10000454</td>\n",
       "      <td>Furniture</td>\n",
       "      <td>Chairs</td>\n",
       "      <td>Hon Deluxe Fabric Upholstered Stacking Chairs,...</td>\n",
       "      <td>731.94</td>\n",
       "    </tr>\n",
       "    <tr>\n",
       "      <th>2</th>\n",
       "      <td>3</td>\n",
       "      <td>CA-2017-138688</td>\n",
       "      <td>12/06/2017</td>\n",
       "      <td>16/06/2017</td>\n",
       "      <td>Second Class</td>\n",
       "      <td>DV-13045</td>\n",
       "      <td>Darrin Van Huff</td>\n",
       "      <td>Corporate</td>\n",
       "      <td>United States</td>\n",
       "      <td>Los Angeles</td>\n",
       "      <td>California</td>\n",
       "      <td>90036.0</td>\n",
       "      <td>West</td>\n",
       "      <td>OFF-LA-10000240</td>\n",
       "      <td>Office Supplies</td>\n",
       "      <td>Labels</td>\n",
       "      <td>Self-Adhesive Address Labels for Typewriters b...</td>\n",
       "      <td>14.62</td>\n",
       "    </tr>\n",
       "  </tbody>\n",
       "</table>\n",
       "</div>"
      ],
      "text/plain": [
       "   Row ID        Order ID  Order Date   Ship Date     Ship Mode Customer ID  \\\n",
       "0       1  CA-2017-152156  08/11/2017  11/11/2017  Second Class    CG-12520   \n",
       "1       2  CA-2017-152156  08/11/2017  11/11/2017  Second Class    CG-12520   \n",
       "2       3  CA-2017-138688  12/06/2017  16/06/2017  Second Class    DV-13045   \n",
       "\n",
       "     Customer Name    Segment        Country         City       State  \\\n",
       "0      Claire Gute   Consumer  United States    Henderson    Kentucky   \n",
       "1      Claire Gute   Consumer  United States    Henderson    Kentucky   \n",
       "2  Darrin Van Huff  Corporate  United States  Los Angeles  California   \n",
       "\n",
       "   Postal Code Region       Product ID         Category Sub-Category  \\\n",
       "0      42420.0  South  FUR-BO-10001798        Furniture    Bookcases   \n",
       "1      42420.0  South  FUR-CH-10000454        Furniture       Chairs   \n",
       "2      90036.0   West  OFF-LA-10000240  Office Supplies       Labels   \n",
       "\n",
       "                                        Product Name   Sales  \n",
       "0                  Bush Somerset Collection Bookcase  261.96  \n",
       "1  Hon Deluxe Fabric Upholstered Stacking Chairs,...  731.94  \n",
       "2  Self-Adhesive Address Labels for Typewriters b...   14.62  "
      ]
     },
     "execution_count": 14,
     "metadata": {},
     "output_type": "execute_result"
    }
   ],
   "source": [
    "# Importando as bibliotecas e a base\n",
    "import pandas as pd\n",
    "import numpy as np\n",
    "base = pd.read_csv(\"Criando uma apresentação executiva.csv\")\n",
    "base.head(3)"
   ]
  },
  {
   "cell_type": "markdown",
   "metadata": {},
   "source": [
    "# Entendendo e tratando a base"
   ]
  },
  {
   "cell_type": "code",
   "execution_count": 15,
   "metadata": {},
   "outputs": [
    {
     "name": "stdout",
     "output_type": "stream",
     "text": [
      "<class 'pandas.core.frame.DataFrame'>\n",
      "RangeIndex: 9800 entries, 0 to 9799\n",
      "Data columns (total 18 columns):\n",
      " #   Column         Non-Null Count  Dtype  \n",
      "---  ------         --------------  -----  \n",
      " 0   Row ID         9800 non-null   int64  \n",
      " 1   Order ID       9800 non-null   object \n",
      " 2   Order Date     9800 non-null   object \n",
      " 3   Ship Date      9800 non-null   object \n",
      " 4   Ship Mode      9800 non-null   object \n",
      " 5   Customer ID    9800 non-null   object \n",
      " 6   Customer Name  9800 non-null   object \n",
      " 7   Segment        9800 non-null   object \n",
      " 8   Country        9800 non-null   object \n",
      " 9   City           9800 non-null   object \n",
      " 10  State          9800 non-null   object \n",
      " 11  Postal Code    9789 non-null   float64\n",
      " 12  Region         9800 non-null   object \n",
      " 13  Product ID     9800 non-null   object \n",
      " 14  Category       9800 non-null   object \n",
      " 15  Sub-Category   9800 non-null   object \n",
      " 16  Product Name   9800 non-null   object \n",
      " 17  Sales          9800 non-null   float64\n",
      "dtypes: float64(2), int64(1), object(15)\n",
      "memory usage: 1.3+ MB\n"
     ]
    }
   ],
   "source": [
    "base.info()"
   ]
  },
  {
   "cell_type": "markdown",
   "metadata": {},
   "source": [
    "### Apenas código postal possui valores nulos, podemos visualizar essas linhas:"
   ]
  },
  {
   "cell_type": "code",
   "execution_count": 16,
   "metadata": {},
   "outputs": [
    {
     "data": {
      "text/html": [
       "<div>\n",
       "<style scoped>\n",
       "    .dataframe tbody tr th:only-of-type {\n",
       "        vertical-align: middle;\n",
       "    }\n",
       "\n",
       "    .dataframe tbody tr th {\n",
       "        vertical-align: top;\n",
       "    }\n",
       "\n",
       "    .dataframe thead th {\n",
       "        text-align: right;\n",
       "    }\n",
       "</style>\n",
       "<table border=\"1\" class=\"dataframe\">\n",
       "  <thead>\n",
       "    <tr style=\"text-align: right;\">\n",
       "      <th></th>\n",
       "      <th>Row ID</th>\n",
       "      <th>Order ID</th>\n",
       "      <th>Order Date</th>\n",
       "      <th>Ship Date</th>\n",
       "      <th>Ship Mode</th>\n",
       "      <th>Customer ID</th>\n",
       "      <th>Customer Name</th>\n",
       "      <th>Segment</th>\n",
       "      <th>Country</th>\n",
       "      <th>City</th>\n",
       "      <th>State</th>\n",
       "      <th>Postal Code</th>\n",
       "      <th>Region</th>\n",
       "      <th>Product ID</th>\n",
       "      <th>Category</th>\n",
       "      <th>Sub-Category</th>\n",
       "      <th>Product Name</th>\n",
       "      <th>Sales</th>\n",
       "    </tr>\n",
       "  </thead>\n",
       "  <tbody>\n",
       "    <tr>\n",
       "      <th>2234</th>\n",
       "      <td>2235</td>\n",
       "      <td>CA-2018-104066</td>\n",
       "      <td>05/12/2018</td>\n",
       "      <td>10/12/2018</td>\n",
       "      <td>Standard Class</td>\n",
       "      <td>QJ-19255</td>\n",
       "      <td>Quincy Jones</td>\n",
       "      <td>Corporate</td>\n",
       "      <td>United States</td>\n",
       "      <td>Burlington</td>\n",
       "      <td>Vermont</td>\n",
       "      <td>NaN</td>\n",
       "      <td>East</td>\n",
       "      <td>TEC-AC-10001013</td>\n",
       "      <td>Technology</td>\n",
       "      <td>Accessories</td>\n",
       "      <td>Logitech ClearChat Comfort/USB Headset H390</td>\n",
       "      <td>205.03</td>\n",
       "    </tr>\n",
       "    <tr>\n",
       "      <th>5274</th>\n",
       "      <td>5275</td>\n",
       "      <td>CA-2016-162887</td>\n",
       "      <td>07/11/2016</td>\n",
       "      <td>09/11/2016</td>\n",
       "      <td>Second Class</td>\n",
       "      <td>SV-20785</td>\n",
       "      <td>Stewart Visinsky</td>\n",
       "      <td>Consumer</td>\n",
       "      <td>United States</td>\n",
       "      <td>Burlington</td>\n",
       "      <td>Vermont</td>\n",
       "      <td>NaN</td>\n",
       "      <td>East</td>\n",
       "      <td>FUR-CH-10000595</td>\n",
       "      <td>Furniture</td>\n",
       "      <td>Chairs</td>\n",
       "      <td>Safco Contoured Stacking Chairs</td>\n",
       "      <td>715.20</td>\n",
       "    </tr>\n",
       "    <tr>\n",
       "      <th>8798</th>\n",
       "      <td>8799</td>\n",
       "      <td>US-2017-150140</td>\n",
       "      <td>06/04/2017</td>\n",
       "      <td>10/04/2017</td>\n",
       "      <td>Standard Class</td>\n",
       "      <td>VM-21685</td>\n",
       "      <td>Valerie Mitchum</td>\n",
       "      <td>Home Office</td>\n",
       "      <td>United States</td>\n",
       "      <td>Burlington</td>\n",
       "      <td>Vermont</td>\n",
       "      <td>NaN</td>\n",
       "      <td>East</td>\n",
       "      <td>TEC-PH-10002555</td>\n",
       "      <td>Technology</td>\n",
       "      <td>Phones</td>\n",
       "      <td>Nortel Meridian M5316 Digital phone</td>\n",
       "      <td>1294.75</td>\n",
       "    </tr>\n",
       "    <tr>\n",
       "      <th>9146</th>\n",
       "      <td>9147</td>\n",
       "      <td>US-2017-165505</td>\n",
       "      <td>23/01/2017</td>\n",
       "      <td>27/01/2017</td>\n",
       "      <td>Standard Class</td>\n",
       "      <td>CB-12535</td>\n",
       "      <td>Claudia Bergmann</td>\n",
       "      <td>Corporate</td>\n",
       "      <td>United States</td>\n",
       "      <td>Burlington</td>\n",
       "      <td>Vermont</td>\n",
       "      <td>NaN</td>\n",
       "      <td>East</td>\n",
       "      <td>TEC-AC-10002926</td>\n",
       "      <td>Technology</td>\n",
       "      <td>Accessories</td>\n",
       "      <td>Logitech Wireless Marathon Mouse M705</td>\n",
       "      <td>99.98</td>\n",
       "    </tr>\n",
       "    <tr>\n",
       "      <th>9147</th>\n",
       "      <td>9148</td>\n",
       "      <td>US-2017-165505</td>\n",
       "      <td>23/01/2017</td>\n",
       "      <td>27/01/2017</td>\n",
       "      <td>Standard Class</td>\n",
       "      <td>CB-12535</td>\n",
       "      <td>Claudia Bergmann</td>\n",
       "      <td>Corporate</td>\n",
       "      <td>United States</td>\n",
       "      <td>Burlington</td>\n",
       "      <td>Vermont</td>\n",
       "      <td>NaN</td>\n",
       "      <td>East</td>\n",
       "      <td>OFF-AR-10003477</td>\n",
       "      <td>Office Supplies</td>\n",
       "      <td>Art</td>\n",
       "      <td>4009 Highlighters</td>\n",
       "      <td>8.04</td>\n",
       "    </tr>\n",
       "    <tr>\n",
       "      <th>9148</th>\n",
       "      <td>9149</td>\n",
       "      <td>US-2017-165505</td>\n",
       "      <td>23/01/2017</td>\n",
       "      <td>27/01/2017</td>\n",
       "      <td>Standard Class</td>\n",
       "      <td>CB-12535</td>\n",
       "      <td>Claudia Bergmann</td>\n",
       "      <td>Corporate</td>\n",
       "      <td>United States</td>\n",
       "      <td>Burlington</td>\n",
       "      <td>Vermont</td>\n",
       "      <td>NaN</td>\n",
       "      <td>East</td>\n",
       "      <td>OFF-ST-10001526</td>\n",
       "      <td>Office Supplies</td>\n",
       "      <td>Storage</td>\n",
       "      <td>Iceberg Mobile Mega Data/Printer Cart</td>\n",
       "      <td>1564.29</td>\n",
       "    </tr>\n",
       "    <tr>\n",
       "      <th>9386</th>\n",
       "      <td>9387</td>\n",
       "      <td>US-2018-127292</td>\n",
       "      <td>19/01/2018</td>\n",
       "      <td>23/01/2018</td>\n",
       "      <td>Standard Class</td>\n",
       "      <td>RM-19375</td>\n",
       "      <td>Raymond Messe</td>\n",
       "      <td>Consumer</td>\n",
       "      <td>United States</td>\n",
       "      <td>Burlington</td>\n",
       "      <td>Vermont</td>\n",
       "      <td>NaN</td>\n",
       "      <td>East</td>\n",
       "      <td>OFF-PA-10000157</td>\n",
       "      <td>Office Supplies</td>\n",
       "      <td>Paper</td>\n",
       "      <td>Xerox 191</td>\n",
       "      <td>79.92</td>\n",
       "    </tr>\n",
       "    <tr>\n",
       "      <th>9387</th>\n",
       "      <td>9388</td>\n",
       "      <td>US-2018-127292</td>\n",
       "      <td>19/01/2018</td>\n",
       "      <td>23/01/2018</td>\n",
       "      <td>Standard Class</td>\n",
       "      <td>RM-19375</td>\n",
       "      <td>Raymond Messe</td>\n",
       "      <td>Consumer</td>\n",
       "      <td>United States</td>\n",
       "      <td>Burlington</td>\n",
       "      <td>Vermont</td>\n",
       "      <td>NaN</td>\n",
       "      <td>East</td>\n",
       "      <td>OFF-PA-10001970</td>\n",
       "      <td>Office Supplies</td>\n",
       "      <td>Paper</td>\n",
       "      <td>Xerox 1881</td>\n",
       "      <td>12.28</td>\n",
       "    </tr>\n",
       "    <tr>\n",
       "      <th>9388</th>\n",
       "      <td>9389</td>\n",
       "      <td>US-2018-127292</td>\n",
       "      <td>19/01/2018</td>\n",
       "      <td>23/01/2018</td>\n",
       "      <td>Standard Class</td>\n",
       "      <td>RM-19375</td>\n",
       "      <td>Raymond Messe</td>\n",
       "      <td>Consumer</td>\n",
       "      <td>United States</td>\n",
       "      <td>Burlington</td>\n",
       "      <td>Vermont</td>\n",
       "      <td>NaN</td>\n",
       "      <td>East</td>\n",
       "      <td>OFF-AP-10000828</td>\n",
       "      <td>Office Supplies</td>\n",
       "      <td>Appliances</td>\n",
       "      <td>Avanti 4.4 Cu. Ft. Refrigerator</td>\n",
       "      <td>542.94</td>\n",
       "    </tr>\n",
       "    <tr>\n",
       "      <th>9389</th>\n",
       "      <td>9390</td>\n",
       "      <td>US-2018-127292</td>\n",
       "      <td>19/01/2018</td>\n",
       "      <td>23/01/2018</td>\n",
       "      <td>Standard Class</td>\n",
       "      <td>RM-19375</td>\n",
       "      <td>Raymond Messe</td>\n",
       "      <td>Consumer</td>\n",
       "      <td>United States</td>\n",
       "      <td>Burlington</td>\n",
       "      <td>Vermont</td>\n",
       "      <td>NaN</td>\n",
       "      <td>East</td>\n",
       "      <td>OFF-EN-10001509</td>\n",
       "      <td>Office Supplies</td>\n",
       "      <td>Envelopes</td>\n",
       "      <td>Poly String Tie Envelopes</td>\n",
       "      <td>2.04</td>\n",
       "    </tr>\n",
       "    <tr>\n",
       "      <th>9741</th>\n",
       "      <td>9742</td>\n",
       "      <td>CA-2016-117086</td>\n",
       "      <td>08/11/2016</td>\n",
       "      <td>12/11/2016</td>\n",
       "      <td>Standard Class</td>\n",
       "      <td>QJ-19255</td>\n",
       "      <td>Quincy Jones</td>\n",
       "      <td>Corporate</td>\n",
       "      <td>United States</td>\n",
       "      <td>Burlington</td>\n",
       "      <td>Vermont</td>\n",
       "      <td>NaN</td>\n",
       "      <td>East</td>\n",
       "      <td>FUR-BO-10004834</td>\n",
       "      <td>Furniture</td>\n",
       "      <td>Bookcases</td>\n",
       "      <td>Riverside Palais Royal Lawyers Bookcase, Royal...</td>\n",
       "      <td>4404.90</td>\n",
       "    </tr>\n",
       "  </tbody>\n",
       "</table>\n",
       "</div>"
      ],
      "text/plain": [
       "      Row ID        Order ID  Order Date   Ship Date       Ship Mode  \\\n",
       "2234    2235  CA-2018-104066  05/12/2018  10/12/2018  Standard Class   \n",
       "5274    5275  CA-2016-162887  07/11/2016  09/11/2016    Second Class   \n",
       "8798    8799  US-2017-150140  06/04/2017  10/04/2017  Standard Class   \n",
       "9146    9147  US-2017-165505  23/01/2017  27/01/2017  Standard Class   \n",
       "9147    9148  US-2017-165505  23/01/2017  27/01/2017  Standard Class   \n",
       "9148    9149  US-2017-165505  23/01/2017  27/01/2017  Standard Class   \n",
       "9386    9387  US-2018-127292  19/01/2018  23/01/2018  Standard Class   \n",
       "9387    9388  US-2018-127292  19/01/2018  23/01/2018  Standard Class   \n",
       "9388    9389  US-2018-127292  19/01/2018  23/01/2018  Standard Class   \n",
       "9389    9390  US-2018-127292  19/01/2018  23/01/2018  Standard Class   \n",
       "9741    9742  CA-2016-117086  08/11/2016  12/11/2016  Standard Class   \n",
       "\n",
       "     Customer ID     Customer Name      Segment        Country        City  \\\n",
       "2234    QJ-19255      Quincy Jones    Corporate  United States  Burlington   \n",
       "5274    SV-20785  Stewart Visinsky     Consumer  United States  Burlington   \n",
       "8798    VM-21685   Valerie Mitchum  Home Office  United States  Burlington   \n",
       "9146    CB-12535  Claudia Bergmann    Corporate  United States  Burlington   \n",
       "9147    CB-12535  Claudia Bergmann    Corporate  United States  Burlington   \n",
       "9148    CB-12535  Claudia Bergmann    Corporate  United States  Burlington   \n",
       "9386    RM-19375     Raymond Messe     Consumer  United States  Burlington   \n",
       "9387    RM-19375     Raymond Messe     Consumer  United States  Burlington   \n",
       "9388    RM-19375     Raymond Messe     Consumer  United States  Burlington   \n",
       "9389    RM-19375     Raymond Messe     Consumer  United States  Burlington   \n",
       "9741    QJ-19255      Quincy Jones    Corporate  United States  Burlington   \n",
       "\n",
       "        State  Postal Code Region       Product ID         Category  \\\n",
       "2234  Vermont          NaN   East  TEC-AC-10001013       Technology   \n",
       "5274  Vermont          NaN   East  FUR-CH-10000595        Furniture   \n",
       "8798  Vermont          NaN   East  TEC-PH-10002555       Technology   \n",
       "9146  Vermont          NaN   East  TEC-AC-10002926       Technology   \n",
       "9147  Vermont          NaN   East  OFF-AR-10003477  Office Supplies   \n",
       "9148  Vermont          NaN   East  OFF-ST-10001526  Office Supplies   \n",
       "9386  Vermont          NaN   East  OFF-PA-10000157  Office Supplies   \n",
       "9387  Vermont          NaN   East  OFF-PA-10001970  Office Supplies   \n",
       "9388  Vermont          NaN   East  OFF-AP-10000828  Office Supplies   \n",
       "9389  Vermont          NaN   East  OFF-EN-10001509  Office Supplies   \n",
       "9741  Vermont          NaN   East  FUR-BO-10004834        Furniture   \n",
       "\n",
       "     Sub-Category                                       Product Name    Sales  \n",
       "2234  Accessories        Logitech ClearChat Comfort/USB Headset H390   205.03  \n",
       "5274       Chairs                    Safco Contoured Stacking Chairs   715.20  \n",
       "8798       Phones                Nortel Meridian M5316 Digital phone  1294.75  \n",
       "9146  Accessories              Logitech Wireless Marathon Mouse M705    99.98  \n",
       "9147          Art                                  4009 Highlighters     8.04  \n",
       "9148      Storage              Iceberg Mobile Mega Data/Printer Cart  1564.29  \n",
       "9386        Paper                                          Xerox 191    79.92  \n",
       "9387        Paper                                         Xerox 1881    12.28  \n",
       "9388   Appliances                    Avanti 4.4 Cu. Ft. Refrigerator   542.94  \n",
       "9389    Envelopes                          Poly String Tie Envelopes     2.04  \n",
       "9741    Bookcases  Riverside Palais Royal Lawyers Bookcase, Royal...  4404.90  "
      ]
     },
     "execution_count": 16,
     "metadata": {},
     "output_type": "execute_result"
    }
   ],
   "source": [
    "base[base[\"Postal Code\"].isnull()]"
   ]
  },
  {
   "cell_type": "markdown",
   "metadata": {},
   "source": [
    "**Todos os registros sem código postal são da cidade de Burlington, em Vermont. Será que algum registro dessa cidade possui código postal?**"
   ]
  },
  {
   "cell_type": "code",
   "execution_count": 17,
   "metadata": {},
   "outputs": [
    {
     "data": {
      "text/html": [
       "<div>\n",
       "<style scoped>\n",
       "    .dataframe tbody tr th:only-of-type {\n",
       "        vertical-align: middle;\n",
       "    }\n",
       "\n",
       "    .dataframe tbody tr th {\n",
       "        vertical-align: top;\n",
       "    }\n",
       "\n",
       "    .dataframe thead th {\n",
       "        text-align: right;\n",
       "    }\n",
       "</style>\n",
       "<table border=\"1\" class=\"dataframe\">\n",
       "  <thead>\n",
       "    <tr style=\"text-align: right;\">\n",
       "      <th></th>\n",
       "      <th>Row ID</th>\n",
       "      <th>Order ID</th>\n",
       "      <th>Order Date</th>\n",
       "      <th>Ship Date</th>\n",
       "      <th>Ship Mode</th>\n",
       "      <th>Customer ID</th>\n",
       "      <th>Customer Name</th>\n",
       "      <th>Segment</th>\n",
       "      <th>Country</th>\n",
       "      <th>City</th>\n",
       "      <th>State</th>\n",
       "      <th>Postal Code</th>\n",
       "      <th>Region</th>\n",
       "      <th>Product ID</th>\n",
       "      <th>Category</th>\n",
       "      <th>Sub-Category</th>\n",
       "      <th>Product Name</th>\n",
       "      <th>Sales</th>\n",
       "    </tr>\n",
       "  </thead>\n",
       "  <tbody>\n",
       "  </tbody>\n",
       "</table>\n",
       "</div>"
      ],
      "text/plain": [
       "Empty DataFrame\n",
       "Columns: [Row ID, Order ID, Order Date, Ship Date, Ship Mode, Customer ID, Customer Name, Segment, Country, City, State, Postal Code, Region, Product ID, Category, Sub-Category, Product Name, Sales]\n",
       "Index: []"
      ]
     },
     "execution_count": 17,
     "metadata": {},
     "output_type": "execute_result"
    }
   ],
   "source": [
    "base[(base.City == 'Burlington') & (base.State == 'Vermont') & (base['Postal Code'].notnull())]"
   ]
  },
  {
   "cell_type": "markdown",
   "metadata": {},
   "source": [
    "### Podemos ir buscar esse dado na internet ao inves de simplesmente exluir esses dados."
   ]
  },
  {
   "cell_type": "code",
   "execution_count": 18,
   "metadata": {},
   "outputs": [],
   "source": [
    "# Atualizando essa informação\n",
    "base.loc[(base.City == 'Burlington') & (base.State == 'Vermont') & (base['Postal Code'].isnull()),\"Postal Code\"] = 5401"
   ]
  },
  {
   "cell_type": "markdown",
   "metadata": {},
   "source": [
    "#### Verificando se ainda existe algum valor nulo"
   ]
  },
  {
   "cell_type": "code",
   "execution_count": 19,
   "metadata": {},
   "outputs": [
    {
     "data": {
      "text/plain": [
       "Row ID           0\n",
       "Order ID         0\n",
       "Order Date       0\n",
       "Ship Date        0\n",
       "Ship Mode        0\n",
       "Customer ID      0\n",
       "Customer Name    0\n",
       "Segment          0\n",
       "Country          0\n",
       "City             0\n",
       "State            0\n",
       "Postal Code      0\n",
       "Region           0\n",
       "Product ID       0\n",
       "Category         0\n",
       "Sub-Category     0\n",
       "Product Name     0\n",
       "Sales            0\n",
       "dtype: int64"
      ]
     },
     "execution_count": 19,
     "metadata": {},
     "output_type": "execute_result"
    }
   ],
   "source": [
    "base.isnull().sum()"
   ]
  },
  {
   "cell_type": "markdown",
   "metadata": {},
   "source": [
    "### Tratando a data que está como object"
   ]
  },
  {
   "cell_type": "code",
   "execution_count": 20,
   "metadata": {},
   "outputs": [
    {
     "data": {
      "text/plain": [
       "Row ID             int64\n",
       "Order ID          object\n",
       "Order Date        object\n",
       "Ship Date         object\n",
       "Ship Mode         object\n",
       "Customer ID       object\n",
       "Customer Name     object\n",
       "Segment           object\n",
       "Country           object\n",
       "City              object\n",
       "State             object\n",
       "Postal Code      float64\n",
       "Region            object\n",
       "Product ID        object\n",
       "Category          object\n",
       "Sub-Category      object\n",
       "Product Name      object\n",
       "Sales            float64\n",
       "dtype: object"
      ]
     },
     "execution_count": 20,
     "metadata": {},
     "output_type": "execute_result"
    }
   ],
   "source": [
    "base.dtypes"
   ]
  },
  {
   "cell_type": "code",
   "execution_count": null,
   "metadata": {},
   "outputs": [],
   "source": []
  },
  {
   "cell_type": "code",
   "execution_count": 21,
   "metadata": {},
   "outputs": [],
   "source": [
    "import datetime as dt\n",
    "\n",
    "base[\"Order Date\"] = pd.to_datetime(base[\"Order Date\"],format='%d/%m/%Y')\n",
    "base[\"Ship Date\"] = pd.to_datetime(base[\"Ship Date\"],format='%d/%m/%Y')"
   ]
  },
  {
   "cell_type": "markdown",
   "metadata": {},
   "source": [
    "### Entendendo o periodo das vendas"
   ]
  },
  {
   "cell_type": "code",
   "execution_count": 22,
   "metadata": {},
   "outputs": [
    {
     "data": {
      "text/plain": [
       "Timestamp('2015-01-07 00:00:00')"
      ]
     },
     "execution_count": 22,
     "metadata": {},
     "output_type": "execute_result"
    }
   ],
   "source": [
    "base[\"Ship Date\"].min()"
   ]
  },
  {
   "cell_type": "code",
   "execution_count": 23,
   "metadata": {},
   "outputs": [
    {
     "data": {
      "text/plain": [
       "Timestamp('2019-01-05 00:00:00')"
      ]
     },
     "execution_count": 23,
     "metadata": {},
     "output_type": "execute_result"
    }
   ],
   "source": [
    "base[\"Ship Date\"].max()"
   ]
  },
  {
   "cell_type": "markdown",
   "metadata": {},
   "source": [
    "# Venda por ano"
   ]
  },
  {
   "cell_type": "code",
   "execution_count": 24,
   "metadata": {},
   "outputs": [],
   "source": [
    "# Criando uma coluna com o ano\n",
    "base[\"Ano\"] = base[\"Ship Date\"].dt.year"
   ]
  },
  {
   "cell_type": "markdown",
   "metadata": {},
   "source": [
    "### Agrupando as datas com GroupBy()"
   ]
  },
  {
   "cell_type": "code",
   "execution_count": 25,
   "metadata": {},
   "outputs": [],
   "source": [
    "soma_ano = base.groupby(\"Ano\")[\"Sales\"].sum()"
   ]
  },
  {
   "cell_type": "markdown",
   "metadata": {},
   "source": [
    "## Visualizando com matplotlib¶"
   ]
  },
  {
   "cell_type": "code",
   "execution_count": 26,
   "metadata": {},
   "outputs": [],
   "source": [
    "import matplotlib.pyplot as plt"
   ]
  },
  {
   "cell_type": "code",
   "execution_count": 27,
   "metadata": {},
   "outputs": [
    {
     "data": {
      "image/png": "[encoded data removed]",
      "text/plain": [
       "<Figure size 900x400 with 1 Axes>"
      ]
     },
     "metadata": {},
     "output_type": "display_data"
    }
   ],
   "source": [
    "fig,ax = plt.subplots(figsize = (9,4)) # Tamanho da figura\n",
    "\n",
    "\n",
    "ax.bar(soma_ano.index,soma_ano.values,\n",
    "       color=\"#84ba5b\") # Cor das barras\n",
    "\n",
    "\n",
    "ax.set_title(\"VENDAS POR ANO\", # Título do gráfico\n",
    "             fontsize=20, # Tamanho da fonte\n",
    "             fontweight='bold', # Espessura da fonte\n",
    "             color='#00b247') # Cor da fonte\n",
    "             \n",
    "\n",
    "ax.xaxis.set_ticks([2015,2016,2017,2018]) # Ajustando os valores de x\n",
    "ax.tick_params(axis='x',labelsize=14) # Melhorando o visual do eixo x\n",
    "\n",
    "             \n",
    "# O Annotate é quem vai permitir que a gente coloque rótulo nos dados\n",
    "for i in np.arange(0,4):\n",
    "    ax.annotate('{:,.0f}'.format(soma_ano.values[i]).replace(',', '.'), # Valores que vão ser mostrados como rótulos, já formatados\n",
    "                (soma_ano.index[i],soma_ano.values[i]), # Posição (x,y que esses valores vão estar)\n",
    "                ha=\"center\",  # Alinhamento horizontal do texto\n",
    "                va=\"top\", # Alinhamento vertical do texto\n",
    "                xytext=(0,+15), # Deslocamento em relação ao ponto que o texto estaria\n",
    "                textcoords=\"offset points\",  # Sistema de coordenadas que o xytext vai ter como referência (nesse caso será em pontos, não em pixels)\n",
    "                fontsize=14, # Tamanho da fonte dos rótulos\n",
    "                fontweight='bold', # Espessura da fonte dos rótulos\n",
    "                color=\"green\" # Cor dos rótulos\n",
    "            )\n",
    "    \n",
    "             \n",
    "ax.set_yticks(np.array([0,790000])) # Diminuindo o tamanho das barras para não cortar o rótulo\n",
    "ax.yaxis.set_visible(False) # Retirando os valores do eixo y\n",
    "\n",
    "             \n",
    "ax.spines['top'].set_visible(False) # Retirando os traços do gráfico\n",
    "ax.spines['left'].set_visible(False)\n",
    "ax.spines['right'].set_visible(False)\n",
    "\n",
    "             \n",
    "plt.show()"
   ]
  },
  {
   "cell_type": "code",
   "execution_count": null,
   "metadata": {},
   "outputs": [],
   "source": []
  },
  {
   "cell_type": "markdown",
   "metadata": {},
   "source": [
    "# Vendas por mês em cada ano"
   ]
  },
  {
   "cell_type": "code",
   "execution_count": 28,
   "metadata": {},
   "outputs": [],
   "source": [
    "# Criando uma coluna com o mês\n",
    "base[\"Mes\"] = base[\"Order Date\"].dt.month"
   ]
  },
  {
   "cell_type": "markdown",
   "metadata": {},
   "source": [
    "### Fazendo o groupby agora por mês e ano"
   ]
  },
  {
   "cell_type": "code",
   "execution_count": 29,
   "metadata": {},
   "outputs": [],
   "source": [
    "soma_mes = base.groupby([\"Mes\", \"Ano\"])[\"Sales\"].sum()"
   ]
  },
  {
   "cell_type": "code",
   "execution_count": 30,
   "metadata": {},
   "outputs": [
    {
     "data": {
      "text/plain": [
       "Mes  Ano \n",
       "1    2015    14205.7070\n",
       "     2016    18066.9576\n",
       "     2017    18542.4910\n",
       "     2018    43476.4740\n",
       "2    2015     4519.8920\n",
       "Name: Sales, dtype: float64"
      ]
     },
     "execution_count": 30,
     "metadata": {},
     "output_type": "execute_result"
    }
   ],
   "source": [
    "# Verificando os valores gerados\n",
    "soma_mes.head()"
   ]
  },
  {
   "cell_type": "markdown",
   "metadata": {},
   "source": [
    "### Resetando o index, para transformar mes e ano em colunas"
   ]
  },
  {
   "cell_type": "code",
   "execution_count": 31,
   "metadata": {},
   "outputs": [],
   "source": [
    "# Vamos transformar os índices em colunas\n",
    "soma_mes = soma_mes.reset_index()"
   ]
  },
  {
   "cell_type": "code",
   "execution_count": 32,
   "metadata": {
    "scrolled": true
   },
   "outputs": [
    {
     "data": {
      "text/html": [
       "<div>\n",
       "<style scoped>\n",
       "    .dataframe tbody tr th:only-of-type {\n",
       "        vertical-align: middle;\n",
       "    }\n",
       "\n",
       "    .dataframe tbody tr th {\n",
       "        vertical-align: top;\n",
       "    }\n",
       "\n",
       "    .dataframe thead th {\n",
       "        text-align: right;\n",
       "    }\n",
       "</style>\n",
       "<table border=\"1\" class=\"dataframe\">\n",
       "  <thead>\n",
       "    <tr style=\"text-align: right;\">\n",
       "      <th></th>\n",
       "      <th>Mes</th>\n",
       "      <th>Ano</th>\n",
       "      <th>Sales</th>\n",
       "    </tr>\n",
       "  </thead>\n",
       "  <tbody>\n",
       "    <tr>\n",
       "      <th>0</th>\n",
       "      <td>1</td>\n",
       "      <td>2015</td>\n",
       "      <td>14205.7070</td>\n",
       "    </tr>\n",
       "    <tr>\n",
       "      <th>1</th>\n",
       "      <td>1</td>\n",
       "      <td>2016</td>\n",
       "      <td>18066.9576</td>\n",
       "    </tr>\n",
       "    <tr>\n",
       "      <th>2</th>\n",
       "      <td>1</td>\n",
       "      <td>2017</td>\n",
       "      <td>18542.4910</td>\n",
       "    </tr>\n",
       "  </tbody>\n",
       "</table>\n",
       "</div>"
      ],
      "text/plain": [
       "   Mes   Ano       Sales\n",
       "0    1  2015  14205.7070\n",
       "1    1  2016  18066.9576\n",
       "2    1  2017  18542.4910"
      ]
     },
     "execution_count": 32,
     "metadata": {},
     "output_type": "execute_result"
    }
   ],
   "source": [
    "# Visualizando a base novamente\n",
    "soma_mes.head(3)"
   ]
  },
  {
   "cell_type": "code",
   "execution_count": null,
   "metadata": {},
   "outputs": [],
   "source": []
  },
  {
   "cell_type": "markdown",
   "metadata": {},
   "source": [
    "## Visualizando graficamente"
   ]
  },
  {
   "cell_type": "code",
   "execution_count": 33,
   "metadata": {},
   "outputs": [
    {
     "data": {
      "image/png": "[encoded data removed]",
      "text/plain": [
       "<Figure size 1600x400 with 1 Axes>"
      ]
     },
     "metadata": {},
     "output_type": "display_data"
    }
   ],
   "source": [
    "fig,ax = plt.subplots(\n",
    "            figsize = (16,4) # Tamanho da figura\n",
    "        )\n",
    "\n",
    "wid = 0.2 # Tamanho das barras\n",
    "\n",
    "ax.bar(soma_mes[soma_mes.Ano == 2015].Mes.values-wid-wid/2, # Ajuste da posição das barras\n",
    "       soma_mes[soma_mes.Ano == 2015].Sales.values,\n",
    "       color=\"#00c698\", # Cor das barras\n",
    "       label=2015, # Label dos dados\n",
    "       width=wid # Largura das barras\n",
    "      )\n",
    "ax.bar(soma_mes[soma_mes.Ano == 2016].Mes.values-wid/2, \n",
    "       soma_mes[soma_mes.Ano == 2016].Sales.values,\n",
    "       color=\"#00a9b5\", \n",
    "       label=2016,\n",
    "       width=wid \n",
    "      )\n",
    "\n",
    "# Adicionando o restante das barras\n",
    "ax.bar(soma_mes[soma_mes.Ano == 2017].Mes.values+wid/2, \n",
    "       soma_mes[soma_mes.Ano == 2017].Sales.values,\n",
    "       color=\"#008ac5\", \n",
    "       label=2017,\n",
    "       width=wid \n",
    "      )\n",
    "ax.bar(soma_mes[soma_mes.Ano == 2018].Mes.values+wid+wid/2, \n",
    "       soma_mes[soma_mes.Ano == 2018].Sales.values,\n",
    "       color=\"#0069c0\", \n",
    "       label=2018,\n",
    "       width=wid \n",
    "      )\n",
    "ax.legend()\n",
    "\n",
    "# Adicionando o rótulo dos dados para 2018\n",
    "for i in np.arange(0,12):\n",
    "    ax.annotate('{:,.0f}k'.format(soma_mes[soma_mes.Ano == 2018].Sales.values[i]/1000), # Valores que vão ser mostrados como rótulos, já formatados\n",
    "                (soma_mes[soma_mes.Ano == 2018].Mes.values[i]+wid+wid/2,soma_mes[soma_mes.Ano == 2018].Sales.values[i]), # Posição (x,y que esses valores vão estar)\n",
    "                ha=\"center\",  # Alinhamento horizontal do texto\n",
    "                va=\"top\", # Alinhamento vertical do texto\n",
    "                xytext=(5,12), # Deslocamento em relação ao ponto que o texto estaria\n",
    "                textcoords=\"offset points\",  # Sistema de coordenadas que o xytext vai ter como referência (nesse caso será em pontos, não em pixels)\n",
    "                fontsize=10, # Tamanho da fonte dos rótulos\n",
    "                fontweight='bold', # Espessura da fonte dos rótulos\n",
    "                color=\"#0069c0\" # Cor dos rótulos\n",
    "            )\n",
    "\n",
    "ax.set_yticks(np.array([0,97000])) # Diminuindo o tamanho das barras para não cortar o rótulo\n",
    "ax.yaxis.set_visible(False) # Retirando os valores do eixo y\n",
    "    \n",
    "ax.spines['top'].set_visible(False) # Retirando os traços do gráfico\n",
    "ax.spines['left'].set_visible(False)\n",
    "ax.spines['right'].set_visible(False)\n",
    "\n",
    "ax.xaxis.set_ticks(np.arange(1,13)) # Ajustando os valores de x\n",
    "ax.set_xticklabels(['Jan','Fev','Mar','Abr','Mai','Jun','Jul','Ago','Set','Out','Nov','Dez']) # Colocando rótulo no meu eixo\n",
    "ax.tick_params(axis='x',labelsize=10) # Melhorando o visual do eixo x\n",
    "\n",
    "plt.show()"
   ]
  },
  {
   "cell_type": "code",
   "execution_count": null,
   "metadata": {},
   "outputs": [],
   "source": []
  },
  {
   "cell_type": "code",
   "execution_count": null,
   "metadata": {},
   "outputs": [],
   "source": []
  },
  {
   "cell_type": "markdown",
   "metadata": {},
   "source": [
    "# Categoria mais vendida"
   ]
  },
  {
   "cell_type": "code",
   "execution_count": null,
   "metadata": {},
   "outputs": [],
   "source": []
  },
  {
   "cell_type": "markdown",
   "metadata": {},
   "source": [
    "### Groupby da soma das vendas por categoria "
   ]
  },
  {
   "cell_type": "code",
   "execution_count": 76,
   "metadata": {},
   "outputs": [
    {
     "data": {
      "text/plain": [
       "Category\n",
       "Furniture          728658.5757\n",
       "Office Supplies    705422.3340\n",
       "Technology         827455.8730\n",
       "Name: Sales, dtype: float64"
      ]
     },
     "execution_count": 76,
     "metadata": {},
     "output_type": "execute_result"
    }
   ],
   "source": [
    "base.groupby(\"Category\")[\"Sales\"].sum()"
   ]
  },
  {
   "cell_type": "markdown",
   "metadata": {},
   "source": [
    "###  Agrupando por ano e categoria e resetando index"
   ]
  },
  {
   "cell_type": "code",
   "execution_count": 79,
   "metadata": {},
   "outputs": [],
   "source": [
    "# Criando agora a base de categorias como fizemos anteriormente\n",
    "categoria = base.groupby([\"Category\",\"Ano\"])[\"Sales\"].sum()\n",
    "categoria = categoria.reset_index()"
   ]
  },
  {
   "cell_type": "markdown",
   "metadata": {},
   "source": [
    "## Visualizando vendas anuais por categoria"
   ]
  },
  {
   "cell_type": "code",
   "execution_count": 81,
   "metadata": {},
   "outputs": [
    {
     "data": {
      "image/png": "[encoded data removed]",
      "text/plain": [
       "<Figure size 1600x400 with 1 Axes>"
      ]
     },
     "metadata": {},
     "output_type": "display_data"
    }
   ],
   "source": [
    "fig,ax = plt.subplots(\n",
    "            figsize = (16,4)\n",
    "        )\n",
    "\n",
    "wid = 0.2 \n",
    "\n",
    "ax.bar(categoria[categoria.Category == 'Furniture'].Ano.values-wid, # Como temos 3 colunas, vamos deslocar a largura da coluna inteira\n",
    "       categoria[categoria.Category == 'Furniture'].Sales.values,\n",
    "       color=\"#00c698\", \n",
    "       label='Furniture', # As legendas agora serão as categorias\n",
    "       width=wid\n",
    "      )\n",
    "\n",
    "ax.bar(categoria[categoria.Category == 'Office Supplies'].Ano.values, \n",
    "       categoria[categoria.Category == 'Office Supplies'].Sales.values,\n",
    "       color=\"#00a9b5\", \n",
    "       label='Office Supplies', \n",
    "       width=wid\n",
    "      )\n",
    "\n",
    "ax.bar(categoria[categoria.Category == 'Technology'].Ano.values+wid, \n",
    "       categoria[categoria.Category == 'Technology'].Sales.values,\n",
    "       color=\"#008ac5\", \n",
    "       label='Technology', \n",
    "       width=wid\n",
    "      )\n",
    "\n",
    "ax.legend()\n",
    "\n",
    "for i in np.arange(0,4):\n",
    "    ax.annotate('{:,.0f}k'.format(categoria[categoria.Category == 'Furniture'].Sales.values[i]/1000), \n",
    "                (categoria[categoria.Category == 'Furniture'].Ano.values[i]-wid,categoria[categoria.Category == 'Furniture'].Sales.values[i]), \n",
    "                ha=\"center\", va=\"top\", xytext=(0,15), textcoords=\"offset points\", \n",
    "                fontsize=12, fontweight='bold', color=\"#00c698\")\n",
    "    ax.annotate('{:,.0f}k'.format(categoria[categoria.Category == 'Office Supplies'].Sales.values[i]/1000), \n",
    "                (categoria[categoria.Category == 'Office Supplies'].Ano.values[i],categoria[categoria.Category == 'Office Supplies'].Sales.values[i]), \n",
    "                ha=\"center\", va=\"top\", xytext=(0,15), textcoords=\"offset points\", \n",
    "                fontsize=12, fontweight='bold', color=\"#00a9b5\")\n",
    "    ax.annotate('{:,.0f}k'.format(categoria[categoria.Category == 'Technology'].Sales.values[i]/1000), \n",
    "                (categoria[categoria.Category == 'Technology'].Ano.values[i]+wid,categoria[categoria.Category == 'Technology'].Sales.values[i]), \n",
    "                ha=\"center\", va=\"top\", xytext=(0,15), textcoords=\"offset points\", \n",
    "                fontsize=12, fontweight='bold', color=\"#008ac5\")   \n",
    "    \n",
    "ax.set_yticks(np.array([0,350000]))\n",
    "ax.yaxis.set_visible(False) \n",
    "\n",
    "ax.spines['top'].set_visible(False) \n",
    "ax.spines['left'].set_visible(False)\n",
    "ax.spines['right'].set_visible(False)\n",
    "\n",
    "ax.xaxis.set_ticks(np.arange(2015,2019)) \n",
    "ax.tick_params(axis='x',labelsize=12) \n",
    "\n",
    "plt.show()"
   ]
  },
  {
   "cell_type": "code",
   "execution_count": null,
   "metadata": {},
   "outputs": [],
   "source": []
  },
  {
   "cell_type": "markdown",
   "metadata": {},
   "source": [
    "# Produtos mais vendidos"
   ]
  },
  {
   "cell_type": "markdown",
   "metadata": {},
   "source": [
    "### Goupby dos itens e vendas"
   ]
  },
  {
   "cell_type": "code",
   "execution_count": 103,
   "metadata": {},
   "outputs": [
    {
     "data": {
      "text/html": [
       "<div>\n",
       "<style scoped>\n",
       "    .dataframe tbody tr th:only-of-type {\n",
       "        vertical-align: middle;\n",
       "    }\n",
       "\n",
       "    .dataframe tbody tr th {\n",
       "        vertical-align: top;\n",
       "    }\n",
       "\n",
       "    .dataframe thead th {\n",
       "        text-align: right;\n",
       "    }\n",
       "</style>\n",
       "<table border=\"1\" class=\"dataframe\">\n",
       "  <thead>\n",
       "    <tr style=\"text-align: right;\">\n",
       "      <th></th>\n",
       "      <th>Product Name</th>\n",
       "      <th>Sales</th>\n",
       "    </tr>\n",
       "  </thead>\n",
       "  <tbody>\n",
       "    <tr>\n",
       "      <th>404</th>\n",
       "      <td>Canon imageCLASS 2200 Advanced Copier</td>\n",
       "      <td>61599.824</td>\n",
       "    </tr>\n",
       "    <tr>\n",
       "      <th>649</th>\n",
       "      <td>Fellowes PB500 Electric Punch Plastic Comb Bin...</td>\n",
       "      <td>27453.384</td>\n",
       "    </tr>\n",
       "    <tr>\n",
       "      <th>444</th>\n",
       "      <td>Cisco TelePresence System EX90 Videoconferenci...</td>\n",
       "      <td>22638.480</td>\n",
       "    </tr>\n",
       "    <tr>\n",
       "      <th>785</th>\n",
       "      <td>HON 5400 Series Task Chairs for Big and Tall</td>\n",
       "      <td>21870.576</td>\n",
       "    </tr>\n",
       "    <tr>\n",
       "      <th>685</th>\n",
       "      <td>GBC DocuBind TL300 Electric Binding System</td>\n",
       "      <td>19823.479</td>\n",
       "    </tr>\n",
       "  </tbody>\n",
       "</table>\n",
       "</div>"
      ],
      "text/plain": [
       "                                          Product Name      Sales\n",
       "404              Canon imageCLASS 2200 Advanced Copier  61599.824\n",
       "649  Fellowes PB500 Electric Punch Plastic Comb Bin...  27453.384\n",
       "444  Cisco TelePresence System EX90 Videoconferenci...  22638.480\n",
       "785       HON 5400 Series Task Chairs for Big and Tall  21870.576\n",
       "685         GBC DocuBind TL300 Electric Binding System  19823.479"
      ]
     },
     "execution_count": 103,
     "metadata": {},
     "output_type": "execute_result"
    }
   ],
   "source": [
    "# Podemos fazer um groupby do item\n",
    "itens = base.groupby(\"Product Name\")[\"Sales\"].sum()\n",
    "itens = itens.reset_index()\n",
    "itens = itens.sort_values(\"Sales\",ascending=False)\n",
    "itens.head()"
   ]
  },
  {
   "cell_type": "markdown",
   "metadata": {},
   "source": [
    "#### Como são muitos produtos, vamos fazer um top 10"
   ]
  },
  {
   "cell_type": "code",
   "execution_count": 109,
   "metadata": {},
   "outputs": [
    {
     "data": {
      "text/html": [
       "<div>\n",
       "<style scoped>\n",
       "    .dataframe tbody tr th:only-of-type {\n",
       "        vertical-align: middle;\n",
       "    }\n",
       "\n",
       "    .dataframe tbody tr th {\n",
       "        vertical-align: top;\n",
       "    }\n",
       "\n",
       "    .dataframe thead th {\n",
       "        text-align: right;\n",
       "    }\n",
       "</style>\n",
       "<table border=\"1\" class=\"dataframe\">\n",
       "  <thead>\n",
       "    <tr style=\"text-align: right;\">\n",
       "      <th></th>\n",
       "      <th>Product Name</th>\n",
       "      <th>Sales</th>\n",
       "    </tr>\n",
       "  </thead>\n",
       "  <tbody>\n",
       "    <tr>\n",
       "      <th>404</th>\n",
       "      <td>Canon imageCLASS 2200 Advanced Copier</td>\n",
       "      <td>61599.824</td>\n",
       "    </tr>\n",
       "    <tr>\n",
       "      <th>649</th>\n",
       "      <td>Fellowes PB500 Electric Punch Plastic Comb Bin...</td>\n",
       "      <td>27453.384</td>\n",
       "    </tr>\n",
       "    <tr>\n",
       "      <th>444</th>\n",
       "      <td>Cisco TelePresence System EX90 Videoconferenci...</td>\n",
       "      <td>22638.480</td>\n",
       "    </tr>\n",
       "    <tr>\n",
       "      <th>785</th>\n",
       "      <td>HON 5400 Series Task Chairs for Big and Tall</td>\n",
       "      <td>21870.576</td>\n",
       "    </tr>\n",
       "    <tr>\n",
       "      <th>685</th>\n",
       "      <td>GBC DocuBind TL300 Electric Binding System</td>\n",
       "      <td>19823.479</td>\n",
       "    </tr>\n",
       "    <tr>\n",
       "      <th>687</th>\n",
       "      <td>GBC Ibimaster 500 Manual ProClick Binding System</td>\n",
       "      <td>19024.500</td>\n",
       "    </tr>\n",
       "    <tr>\n",
       "      <th>804</th>\n",
       "      <td>Hewlett Packard LaserJet 3310 Copier</td>\n",
       "      <td>18839.686</td>\n",
       "    </tr>\n",
       "    <tr>\n",
       "      <th>786</th>\n",
       "      <td>HP Designjet T520 Inkjet Large Format Printer ...</td>\n",
       "      <td>18374.895</td>\n",
       "    </tr>\n",
       "    <tr>\n",
       "      <th>682</th>\n",
       "      <td>GBC DocuBind P400 Electric Binding System</td>\n",
       "      <td>17965.068</td>\n",
       "    </tr>\n",
       "    <tr>\n",
       "      <th>812</th>\n",
       "      <td>High Speed Automatic Electric Letter Opener</td>\n",
       "      <td>17030.312</td>\n",
       "    </tr>\n",
       "  </tbody>\n",
       "</table>\n",
       "</div>"
      ],
      "text/plain": [
       "                                          Product Name      Sales\n",
       "404              Canon imageCLASS 2200 Advanced Copier  61599.824\n",
       "649  Fellowes PB500 Electric Punch Plastic Comb Bin...  27453.384\n",
       "444  Cisco TelePresence System EX90 Videoconferenci...  22638.480\n",
       "785       HON 5400 Series Task Chairs for Big and Tall  21870.576\n",
       "685         GBC DocuBind TL300 Electric Binding System  19823.479\n",
       "687   GBC Ibimaster 500 Manual ProClick Binding System  19024.500\n",
       "804               Hewlett Packard LaserJet 3310 Copier  18839.686\n",
       "786  HP Designjet T520 Inkjet Large Format Printer ...  18374.895\n",
       "682          GBC DocuBind P400 Electric Binding System  17965.068\n",
       "812        High Speed Automatic Electric Letter Opener  17030.312"
      ]
     },
     "execution_count": 109,
     "metadata": {},
     "output_type": "execute_result"
    }
   ],
   "source": [
    "# Definindo o top n itens\n",
    "n = 10\n",
    "top_n_itens = itens.head(n)\n",
    "top_n_itens"
   ]
  },
  {
   "cell_type": "code",
   "execution_count": 110,
   "metadata": {},
   "outputs": [
    {
     "data": {
      "image/png": "[encoded data removed]",
      "text/plain": [
       "<Figure size 1600x1200 with 1 Axes>"
      ]
     },
     "metadata": {},
     "output_type": "display_data"
    }
   ],
   "source": [
    "# Vamos traçar um gráfico de barras horizontais para mostrar o top itens\n",
    "fig,ax = plt.subplots(\n",
    "            figsize = (16,12)\n",
    "        )\n",
    "\n",
    "ax.barh(top_n_itens['Product Name'].values, #Valores de y\n",
    "        top_n_itens['Sales'].values, # Valores de x \n",
    "        align='center')\n",
    "\n",
    "ax.invert_yaxis() # Inverter o eixo y (deixando o gráfico do maior para o menor)\n",
    "\n",
    "for i in np.arange(0,n):\n",
    "    ax.annotate('{:,.0f}k'.format(top_n_itens['Sales'].values[i]/1000), \n",
    "                (top_n_itens['Sales'].values[i],i), \n",
    "                ha=\"center\", va=\"top\", xytext=(-15,3), textcoords=\"offset points\", \n",
    "                fontsize=12, fontweight='bold', color=\"white\")\n",
    "    \n",
    "ax.xaxis.set_visible(False) \n",
    "\n",
    "ax.spines['top'].set_visible(False) \n",
    "ax.spines['left'].set_visible(False)\n",
    "ax.spines['right'].set_visible(False)\n",
    "ax.spines['bottom'].set_visible(False)\n",
    "\n",
    "plt.show()"
   ]
  },
  {
   "cell_type": "code",
   "execution_count": null,
   "metadata": {},
   "outputs": [],
   "source": []
  },
  {
   "cell_type": "markdown",
   "metadata": {},
   "source": [
    "# Visualizando as vendas em uma linha do tempo"
   ]
  },
  {
   "cell_type": "code",
   "execution_count": 111,
   "metadata": {},
   "outputs": [
    {
     "data": {
      "image/png": "[encoded data removed]",
      "text/plain": [
       "<Figure size 1600x400 with 1 Axes>"
      ]
     },
     "metadata": {},
     "output_type": "display_data"
    }
   ],
   "source": [
    "fig,ax = plt.subplots(\n",
    "            figsize = (16,4) # Tamanho da figura\n",
    "        )\n",
    "\n",
    "ax.set_title(\"VENDAS POR MÊS\", # Título do gráfico\n",
    "             fontsize=20, # Tamanho da fonte\n",
    "             fontweight='bold', # Espessura da fonte\n",
    "             color='#00b247' # Cor da fonte\n",
    "            )\n",
    "\n",
    "wid = 0.2 # Tamanho das barras\n",
    "\n",
    "ax.plot(soma_mes[soma_mes.Ano == 2015].Mes.values-wid-wid/2, # Ajuste da posição das barras\n",
    "       soma_mes[soma_mes.Ano == 2015].Sales.values,\n",
    "       color=\"#00c698\", # Cor das barras\n",
    "       label=2015 # Label dos dados\n",
    "      )\n",
    "ax.plot(soma_mes[soma_mes.Ano == 2016].Mes.values-wid/2, \n",
    "       soma_mes[soma_mes.Ano == 2016].Sales.values,\n",
    "       color=\"#00a9b5\", \n",
    "       label=2016\n",
    "      )\n",
    "\n",
    "# Adicionando o restante das barras\n",
    "ax.plot(soma_mes[soma_mes.Ano == 2017].Mes.values+wid/2, \n",
    "       soma_mes[soma_mes.Ano == 2017].Sales.values,\n",
    "       color=\"#008ac5\", \n",
    "       label=2017\n",
    "      )\n",
    "ax.plot(soma_mes[soma_mes.Ano == 2018].Mes.values+wid+wid/2, \n",
    "       soma_mes[soma_mes.Ano == 2018].Sales.values,\n",
    "       color=\"#0069c0\", \n",
    "       label=2018\n",
    "      )\n",
    "ax.legend()\n",
    "\n",
    "# Adicionando o rótulo dos dados para 2018\n",
    "for i in np.arange(0,12):\n",
    "    ax.annotate('{:,.0f}k'.format(soma_mes[soma_mes.Ano == 2018].Sales.values[i]/1000), # Valores que vão ser mostrados como rótulos, já formatados\n",
    "                (soma_mes[soma_mes.Ano == 2018].Mes.values[i]+wid+wid/2,soma_mes[soma_mes.Ano == 2018].Sales.values[i]), # Posição (x,y que esses valores vão estar)\n",
    "                ha=\"center\",  # Alinhamento horizontal do texto\n",
    "                va=\"top\", # Alinhamento vertical do texto\n",
    "                xytext=(5,12), # Deslocamento em relação ao ponto que o texto estaria\n",
    "                textcoords=\"offset points\",  # Sistema de coordenadas que o xytext vai ter como referência (nesse caso será em pontos, não em pixels)\n",
    "                fontsize=10, # Tamanho da fonte dos rótulos\n",
    "                fontweight='bold', # Espessura da fonte dos rótulos\n",
    "                color=\"#0069c0\" # Cor dos rótulos\n",
    "            )\n",
    "\n",
    "ax.set_yticks(np.array([0,97000])) # Diminuindo o tamanho das barras para não cortar o rótulo\n",
    "ax.yaxis.set_visible(False) # Retirando os valores do eixo y\n",
    "    \n",
    "ax.spines['top'].set_visible(False) # Retirando os traços do gráfico\n",
    "ax.spines['left'].set_visible(False)\n",
    "ax.spines['right'].set_visible(False)\n",
    "\n",
    "ax.xaxis.set_ticks(np.arange(1,13)) # Ajustando os valores de x\n",
    "ax.set_xticklabels(['Jan','Fev','Mar','Abr','Mai','Jun','Jul','Ago','Set','Out','Nov','Dez']) # Colocando rótulo no meu eixo\n",
    "ax.tick_params(axis='x',labelsize=10) # Melhorando o visual do eixo x\n",
    "\n",
    "plt.show()"
   ]
  }
 ],
 "metadata": {
  "kernelspec": {
   "display_name": "Python 3 (ipykernel)",
   "language": "python",
   "name": "python3"
  },
  "language_info": {
   "codemirror_mode": {
    "name": "ipython",
    "version": 3
   },
   "file_extension": ".py",
   "mimetype": "text/x-python",
   "name": "python",
   "nbconvert_exporter": "python",
   "pygments_lexer": "ipython3",
   "version": "3.11.5"
  }
 },
 "nbformat": 4,
 "nbformat_minor": 4
}
